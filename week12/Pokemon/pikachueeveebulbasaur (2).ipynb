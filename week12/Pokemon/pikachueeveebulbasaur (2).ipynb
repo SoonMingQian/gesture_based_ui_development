{
 "cells": [
  {
   "cell_type": "markdown",
   "id": "8005060d-4fcc-4aa8-a524-e250de4e8683",
   "metadata": {},
   "source": [
    "# Who's that Pokemon\n",
    "\n",
    "Goal, to create a model that names Generation 1 Pokemon\n",
    "\n",
    "There are 151 Pokemon in the first generation, so lots of classes, this won't be an easy problem\n",
    "\n",
    "The dataset I'm using came from https://www.kaggle.com/datasets/lantian773030/pokemonclassification/data . Less than 7000 pictures and only around 30 for each Pokemon so this is probably not going to get above 50% accuracy. But remember, 151 different types Pokemon\n",
    "\n",
    "Actually only 149 Pokemon, I think it's the male and female Nidoran that's missing\n",
    "\n",
    "I deleted a few images that were causing errors as well\n",
    "\n",
    "## GPU Run\n",
    "The training on this will take longer than things we've done previously. The outputs on this workbook were done on a laptop that has an Nvidia GPU. A really crap Nvidia GPU with very little RAM (4GB VRAM, worse than a 3050), but a GPU nonetheless\n",
    "\n",
    "I would not recommend you running everything in this yourself as you may be waiting a while\n",
    "\n",
    "For comparison, the first training model says 13-15m/s a step, mostly 2 seconds an epoch - on my regular ATU laptop this took 125ms/step and 22s an epoch\n",
    "\n",
    "And the speeds just take longer from there as the models get more complicated\n",
    "\n",
    "### Notes\n",
    "This also won't be a completely comprehensive thing done and maybe I could get a better score, it's demonstrating things including transfer learning\n",
    "\n",
    "https://www.kaggle.com/datasets/echometerhhwl/pokemon-gen-1-38914 has a 4GB dataset of Pokemon that might work better"
   ]
  },
  {
   "cell_type": "markdown",
   "id": "71085145-6c00-4b7c-b441-558f438b8527",
   "metadata": {},
   "source": [
    "I have this included to suppress some tensorflow warnings and errors that were annoying me"
   ]
  },
  {
   "cell_type": "code",
   "execution_count": 1,
   "id": "34640168-fd38-4986-98c7-7fb67280bdf9",
   "metadata": {},
   "outputs": [],
   "source": [
    "import os\n",
    "os.environ['TF_CPP_MIN_LOG_LEVEL'] = '3'"
   ]
  },
  {
   "cell_type": "code",
   "execution_count": 2,
   "id": "4b9a633f-ce98-4010-b49f-d89d5bc08922",
   "metadata": {},
   "outputs": [],
   "source": [
    "import tensorflow as tf\n",
    "import numpy as np"
   ]
  },
  {
   "cell_type": "code",
   "execution_count": 3,
   "id": "f7ea7553-5d3e-47b6-a1a0-c3a72212d63b",
   "metadata": {},
   "outputs": [],
   "source": [
    "import pandas as pd"
   ]
  },
  {
   "cell_type": "code",
   "execution_count": 4,
   "id": "c34b31da-c5b6-44e8-b5a1-f76787b12a00",
   "metadata": {},
   "outputs": [
    {
     "name": "stdout",
     "output_type": "stream",
     "text": [
      "2.16.1\n"
     ]
    }
   ],
   "source": [
    "print(tf.__version__)"
   ]
  },
  {
   "cell_type": "code",
   "execution_count": 5,
   "id": "8d2cd093-5d17-4d94-8e29-2e03adb5397b",
   "metadata": {},
   "outputs": [
    {
     "name": "stdout",
     "output_type": "stream",
     "text": [
      "[PhysicalDevice(name='/physical_device:GPU:0', device_type='GPU')]\n"
     ]
    }
   ],
   "source": [
    "print(tf.config.list_physical_devices('GPU'))"
   ]
  },
  {
   "cell_type": "code",
   "execution_count": null,
   "id": "81230661-8e7d-4d2b-8efb-24aa36503268",
   "metadata": {},
   "outputs": [],
   "source": []
  },
  {
   "cell_type": "markdown",
   "id": "ed61014a-132a-427e-81be-7da8aaf9103d",
   "metadata": {},
   "source": [
    "## Setting Up the Dataset\n",
    "\n",
    "I'm going to use image_dataset_from_directory to load the images - it is a little restrictive and creating a ImageDataGenerator may be more flexible, especially for data augmentation - https://www.tensorflow.org/api_docs/python/tf/keras/preprocessing/image/ImageDataGenerator#flow_from_directory\n",
    "\n",
    "But I'm doing it this way\n",
    "\n",
    "Starting with an IMG_SIZE of 128x128"
   ]
  },
  {
   "cell_type": "code",
   "execution_count": 6,
   "id": "225a1926-b04a-49bc-91e9-53b571f5b4d6",
   "metadata": {},
   "outputs": [],
   "source": [
    "IMG_SIZE = (128, 128)\n",
    "batch_size=32\n",
    "train_dir = \"PokemonData\""
   ]
  },
  {
   "cell_type": "markdown",
   "id": "84229ea2-704f-4d24-b6ff-379651137700",
   "metadata": {},
   "source": [
    "I'm going to have a training dataset and a validation dataset. No test dataset here as I didn't want to\n",
    "\n",
    "Important parameters, shuffle being true ensures the data is randomised, label_mode='categorical' gives us one-hot encoding labels so we use CategoricalCrossentropy. Leave label_mode to default and you use SparseCategoricalCrossentropy"
   ]
  },
  {
   "cell_type": "code",
   "execution_count": 7,
   "id": "4f669022-b5fe-4f32-9208-5d58180ff1cd",
   "metadata": {},
   "outputs": [
    {
     "name": "stdout",
     "output_type": "stream",
     "text": [
      "Found 6773 files belonging to 149 classes.\n",
      "Using 5419 files for training.\n"
     ]
    }
   ],
   "source": [
    "train_dataset = tf.keras.utils.image_dataset_from_directory(train_dir,\n",
    "                                                            shuffle=True,\n",
    "                                                            image_size=IMG_SIZE, validation_split=0.2\n",
    "                                                           , subset='training', label_mode='categorical', \n",
    "                                                           seed=1138, batch_size=batch_size)"
   ]
  },
  {
   "cell_type": "code",
   "execution_count": 8,
   "id": "d0140814-aed0-41a7-9593-c6500270dc7c",
   "metadata": {},
   "outputs": [
    {
     "name": "stdout",
     "output_type": "stream",
     "text": [
      "Found 6773 files belonging to 149 classes.\n",
      "Using 1354 files for validation.\n"
     ]
    }
   ],
   "source": [
    "validation_dataset = tf.keras.utils.image_dataset_from_directory(train_dir,\n",
    "                                                            shuffle=True,\n",
    "                                                            image_size=IMG_SIZE, validation_split=0.2\n",
    "                                                           , subset='validation',label_mode='categorical',\n",
    "                                                           seed=1138, batch_size=batch_size)"
   ]
  },
  {
   "cell_type": "code",
   "execution_count": 9,
   "id": "20c892e8-9c9f-47fe-95ac-70a5d1b40f4c",
   "metadata": {},
   "outputs": [],
   "source": [
    "num_classes = len(train_dataset.class_names)"
   ]
  },
  {
   "cell_type": "code",
   "execution_count": 10,
   "id": "cb222dce-55ed-4a3d-bd92-db5673afc95e",
   "metadata": {},
   "outputs": [
    {
     "data": {
      "text/plain": [
       "['Abra',\n",
       " 'Aerodactyl',\n",
       " 'Alakazam',\n",
       " 'Arbok',\n",
       " 'Arcanine',\n",
       " 'Articuno',\n",
       " 'Beedrill',\n",
       " 'Bellsprout',\n",
       " 'Blastoise',\n",
       " 'Bulbasaur',\n",
       " 'Butterfree',\n",
       " 'Caterpie',\n",
       " 'Chansey',\n",
       " 'Charizard',\n",
       " 'Charmander',\n",
       " 'Charmeleon',\n",
       " 'Clefable',\n",
       " 'Clefairy',\n",
       " 'Cloyster',\n",
       " 'Cubone',\n",
       " 'Dewgong',\n",
       " 'Diglett',\n",
       " 'Ditto',\n",
       " 'Dodrio',\n",
       " 'Doduo',\n",
       " 'Dragonair',\n",
       " 'Dragonite',\n",
       " 'Dratini',\n",
       " 'Drowzee',\n",
       " 'Dugtrio',\n",
       " 'Eevee',\n",
       " 'Ekans',\n",
       " 'Electabuzz',\n",
       " 'Electrode',\n",
       " 'Exeggcute',\n",
       " 'Exeggutor',\n",
       " 'Farfetchd',\n",
       " 'Fearow',\n",
       " 'Flareon',\n",
       " 'Gastly',\n",
       " 'Gengar',\n",
       " 'Geodude',\n",
       " 'Gloom',\n",
       " 'Golbat',\n",
       " 'Goldeen',\n",
       " 'Golduck',\n",
       " 'Golem',\n",
       " 'Graveler',\n",
       " 'Grimer',\n",
       " 'Growlithe',\n",
       " 'Gyarados',\n",
       " 'Haunter',\n",
       " 'Hitmonchan',\n",
       " 'Hitmonlee',\n",
       " 'Horsea',\n",
       " 'Hypno',\n",
       " 'Ivysaur',\n",
       " 'Jigglypuff',\n",
       " 'Jolteon',\n",
       " 'Jynx',\n",
       " 'Kabuto',\n",
       " 'Kabutops',\n",
       " 'Kadabra',\n",
       " 'Kakuna',\n",
       " 'Kangaskhan',\n",
       " 'Kingler',\n",
       " 'Koffing',\n",
       " 'Krabby',\n",
       " 'Lapras',\n",
       " 'Lickitung',\n",
       " 'Machamp',\n",
       " 'Machoke',\n",
       " 'Machop',\n",
       " 'Magikarp',\n",
       " 'Magmar',\n",
       " 'Magnemite',\n",
       " 'Magneton',\n",
       " 'Mankey',\n",
       " 'Marowak',\n",
       " 'Meowth',\n",
       " 'Metapod',\n",
       " 'Mew',\n",
       " 'Mewtwo',\n",
       " 'Moltres',\n",
       " 'MrMime',\n",
       " 'Muk',\n",
       " 'Nidoking',\n",
       " 'Nidoqueen',\n",
       " 'Nidorina',\n",
       " 'Nidorino',\n",
       " 'Ninetales',\n",
       " 'Oddish',\n",
       " 'Omanyte',\n",
       " 'Omastar',\n",
       " 'Onix',\n",
       " 'Paras',\n",
       " 'Parasect',\n",
       " 'Persian',\n",
       " 'Pidgeot',\n",
       " 'Pidgeotto',\n",
       " 'Pidgey',\n",
       " 'Pikachu',\n",
       " 'Pinsir',\n",
       " 'Poliwag',\n",
       " 'Poliwhirl',\n",
       " 'Poliwrath',\n",
       " 'Ponyta',\n",
       " 'Porygon',\n",
       " 'Primeape',\n",
       " 'Psyduck',\n",
       " 'Raichu',\n",
       " 'Rapidash',\n",
       " 'Raticate',\n",
       " 'Rattata',\n",
       " 'Rhydon',\n",
       " 'Rhyhorn',\n",
       " 'Sandshrew',\n",
       " 'Sandslash',\n",
       " 'Scyther',\n",
       " 'Seadra',\n",
       " 'Seaking',\n",
       " 'Seel',\n",
       " 'Shellder',\n",
       " 'Slowbro',\n",
       " 'Slowpoke',\n",
       " 'Snorlax',\n",
       " 'Spearow',\n",
       " 'Squirtle',\n",
       " 'Starmie',\n",
       " 'Staryu',\n",
       " 'Tangela',\n",
       " 'Tauros',\n",
       " 'Tentacool',\n",
       " 'Tentacruel',\n",
       " 'Vaporeon',\n",
       " 'Venomoth',\n",
       " 'Venonat',\n",
       " 'Venusaur',\n",
       " 'Victreebel',\n",
       " 'Vileplume',\n",
       " 'Voltorb',\n",
       " 'Vulpix',\n",
       " 'Wartortle',\n",
       " 'Weedle',\n",
       " 'Weepinbell',\n",
       " 'Weezing',\n",
       " 'Wigglytuff',\n",
       " 'Zapdos',\n",
       " 'Zubat']"
      ]
     },
     "execution_count": 10,
     "metadata": {},
     "output_type": "execute_result"
    }
   ],
   "source": [
    "class_names = train_dataset.class_names\n",
    "class_names"
   ]
  },
  {
   "cell_type": "raw",
   "id": "011a02c7-e09e-4508-9943-d2e52219aef9",
   "metadata": {},
   "source": []
  },
  {
   "cell_type": "markdown",
   "id": "4c9c1c07-9c91-4ce0-be9d-6a227ea5f890",
   "metadata": {},
   "source": [
    "This could make loading files more efficient, but no real need for when less than 7000 files\n",
    "\n",
    "You need to make sure you have saved the class_names before using a cache"
   ]
  },
  {
   "cell_type": "code",
   "execution_count": 44,
   "id": "94c4e452-25a7-4234-a97b-9e3dd2a4db69",
   "metadata": {},
   "outputs": [
    {
     "data": {
      "text/plain": [
       "'train_dataset = train_dataset.cache().prefetch(buffer_size=AUTOTUNE)\\nvalidation_dataset = validation_dataset.cache().prefetch(buffer_size=AUTOTUNE)'"
      ]
     },
     "execution_count": 44,
     "metadata": {},
     "output_type": "execute_result"
    }
   ],
   "source": [
    "AUTOTUNE = tf.data.AUTOTUNE\n",
    "\n",
    "\"\"\"train_dataset = train_dataset.cache().prefetch(buffer_size=AUTOTUNE)\n",
    "validation_dataset = validation_dataset.cache().prefetch(buffer_size=AUTOTUNE)\"\"\""
   ]
  },
  {
   "cell_type": "code",
   "execution_count": 45,
   "id": "c488d818-3eec-4ad5-9e80-d046464d7160",
   "metadata": {},
   "outputs": [
    {
     "data": {
      "text/plain": [
       "<_PrefetchDataset element_spec=(TensorSpec(shape=(None, 128, 128, 3), dtype=tf.float32, name=None), TensorSpec(shape=(None, 149), dtype=tf.float32, name=None))>"
      ]
     },
     "execution_count": 45,
     "metadata": {},
     "output_type": "execute_result"
    }
   ],
   "source": [
    "train_dataset"
   ]
  },
  {
   "cell_type": "code",
   "execution_count": 14,
   "id": "2c9e64e5-bf83-425a-b4b6-2fdd5adb8908",
   "metadata": {},
   "outputs": [],
   "source": [
    "from tensorflow.keras import layers"
   ]
  },
  {
   "cell_type": "code",
   "execution_count": 11,
   "id": "e7c64e8a-9b70-4d6d-9565-fbd290e66e13",
   "metadata": {},
   "outputs": [],
   "source": [
    "model = tf.keras.models.Sequential()\n",
    "model.add(tf.keras.Input(shape=(IMG_SIZE[0], IMG_SIZE[1],3)))\n",
    "model.add(layers.Rescaling(1./255))\n",
    "model.add(layers.Conv2D(16, 3, padding='same', activation='relu'))\n",
    "model.add(layers.MaxPooling2D())\n",
    "model.add(layers.Conv2D(32, 3, padding='same', activation='relu'))\n",
    "model.add(layers.MaxPooling2D())\n",
    "model.add(layers.Flatten())\n",
    "model.add(layers.Dense(128, activation='relu'))\n",
    "model.add(layers.Dense(num_classes, activation='softmax'))"
   ]
  },
  {
   "cell_type": "code",
   "execution_count": 12,
   "id": "fbbdbee2-7c5e-4c26-8dcb-b457fa4ff343",
   "metadata": {},
   "outputs": [],
   "source": [
    "model.compile(optimizer=tf.keras.optimizers.Adam(),\n",
    "              loss=tf.keras.losses.CategoricalCrossentropy(from_logits=False),\n",
    "              metrics=['accuracy'])"
   ]
  },
  {
   "cell_type": "code",
   "execution_count": 13,
   "id": "c2e1638c-fa25-4bad-baf3-78c74c4707c2",
   "metadata": {},
   "outputs": [
    {
     "data": {
      "text/html": [
       "<pre style=\"white-space:pre;overflow-x:auto;line-height:normal;font-family:Menlo,'DejaVu Sans Mono',consolas,'Courier New',monospace\"><span style=\"font-weight: bold\">Model: \"sequential\"</span>\n",
       "</pre>\n"
      ],
      "text/plain": [
       "\u001b[1mModel: \"sequential\"\u001b[0m\n"
      ]
     },
     "metadata": {},
     "output_type": "display_data"
    },
    {
     "data": {
      "text/html": [
       "<pre style=\"white-space:pre;overflow-x:auto;line-height:normal;font-family:Menlo,'DejaVu Sans Mono',consolas,'Courier New',monospace\">┏━━━━━━━━━━━━━━━━━━━━━━━━━━━━━━━━━┳━━━━━━━━━━━━━━━━━━━━━━━━┳━━━━━━━━━━━━━━━┓\n",
       "┃<span style=\"font-weight: bold\"> Layer (type)                    </span>┃<span style=\"font-weight: bold\"> Output Shape           </span>┃<span style=\"font-weight: bold\">       Param # </span>┃\n",
       "┡━━━━━━━━━━━━━━━━━━━━━━━━━━━━━━━━━╇━━━━━━━━━━━━━━━━━━━━━━━━╇━━━━━━━━━━━━━━━┩\n",
       "│ rescaling (<span style=\"color: #0087ff; text-decoration-color: #0087ff\">Rescaling</span>)           │ (<span style=\"color: #00d7ff; text-decoration-color: #00d7ff\">None</span>, <span style=\"color: #00af00; text-decoration-color: #00af00\">128</span>, <span style=\"color: #00af00; text-decoration-color: #00af00\">128</span>, <span style=\"color: #00af00; text-decoration-color: #00af00\">3</span>)    │             <span style=\"color: #00af00; text-decoration-color: #00af00\">0</span> │\n",
       "├─────────────────────────────────┼────────────────────────┼───────────────┤\n",
       "│ conv2d (<span style=\"color: #0087ff; text-decoration-color: #0087ff\">Conv2D</span>)                 │ (<span style=\"color: #00d7ff; text-decoration-color: #00d7ff\">None</span>, <span style=\"color: #00af00; text-decoration-color: #00af00\">128</span>, <span style=\"color: #00af00; text-decoration-color: #00af00\">128</span>, <span style=\"color: #00af00; text-decoration-color: #00af00\">16</span>)   │           <span style=\"color: #00af00; text-decoration-color: #00af00\">448</span> │\n",
       "├─────────────────────────────────┼────────────────────────┼───────────────┤\n",
       "│ max_pooling2d (<span style=\"color: #0087ff; text-decoration-color: #0087ff\">MaxPooling2D</span>)    │ (<span style=\"color: #00d7ff; text-decoration-color: #00d7ff\">None</span>, <span style=\"color: #00af00; text-decoration-color: #00af00\">64</span>, <span style=\"color: #00af00; text-decoration-color: #00af00\">64</span>, <span style=\"color: #00af00; text-decoration-color: #00af00\">16</span>)     │             <span style=\"color: #00af00; text-decoration-color: #00af00\">0</span> │\n",
       "├─────────────────────────────────┼────────────────────────┼───────────────┤\n",
       "│ conv2d_1 (<span style=\"color: #0087ff; text-decoration-color: #0087ff\">Conv2D</span>)               │ (<span style=\"color: #00d7ff; text-decoration-color: #00d7ff\">None</span>, <span style=\"color: #00af00; text-decoration-color: #00af00\">64</span>, <span style=\"color: #00af00; text-decoration-color: #00af00\">64</span>, <span style=\"color: #00af00; text-decoration-color: #00af00\">32</span>)     │         <span style=\"color: #00af00; text-decoration-color: #00af00\">4,640</span> │\n",
       "├─────────────────────────────────┼────────────────────────┼───────────────┤\n",
       "│ max_pooling2d_1 (<span style=\"color: #0087ff; text-decoration-color: #0087ff\">MaxPooling2D</span>)  │ (<span style=\"color: #00d7ff; text-decoration-color: #00d7ff\">None</span>, <span style=\"color: #00af00; text-decoration-color: #00af00\">32</span>, <span style=\"color: #00af00; text-decoration-color: #00af00\">32</span>, <span style=\"color: #00af00; text-decoration-color: #00af00\">32</span>)     │             <span style=\"color: #00af00; text-decoration-color: #00af00\">0</span> │\n",
       "├─────────────────────────────────┼────────────────────────┼───────────────┤\n",
       "│ flatten (<span style=\"color: #0087ff; text-decoration-color: #0087ff\">Flatten</span>)               │ (<span style=\"color: #00d7ff; text-decoration-color: #00d7ff\">None</span>, <span style=\"color: #00af00; text-decoration-color: #00af00\">32768</span>)          │             <span style=\"color: #00af00; text-decoration-color: #00af00\">0</span> │\n",
       "├─────────────────────────────────┼────────────────────────┼───────────────┤\n",
       "│ dense (<span style=\"color: #0087ff; text-decoration-color: #0087ff\">Dense</span>)                   │ (<span style=\"color: #00d7ff; text-decoration-color: #00d7ff\">None</span>, <span style=\"color: #00af00; text-decoration-color: #00af00\">128</span>)            │     <span style=\"color: #00af00; text-decoration-color: #00af00\">4,194,432</span> │\n",
       "├─────────────────────────────────┼────────────────────────┼───────────────┤\n",
       "│ dense_1 (<span style=\"color: #0087ff; text-decoration-color: #0087ff\">Dense</span>)                 │ (<span style=\"color: #00d7ff; text-decoration-color: #00d7ff\">None</span>, <span style=\"color: #00af00; text-decoration-color: #00af00\">149</span>)            │        <span style=\"color: #00af00; text-decoration-color: #00af00\">19,221</span> │\n",
       "└─────────────────────────────────┴────────────────────────┴───────────────┘\n",
       "</pre>\n"
      ],
      "text/plain": [
       "┏━━━━━━━━━━━━━━━━━━━━━━━━━━━━━━━━━┳━━━━━━━━━━━━━━━━━━━━━━━━┳━━━━━━━━━━━━━━━┓\n",
       "┃\u001b[1m \u001b[0m\u001b[1mLayer (type)                   \u001b[0m\u001b[1m \u001b[0m┃\u001b[1m \u001b[0m\u001b[1mOutput Shape          \u001b[0m\u001b[1m \u001b[0m┃\u001b[1m \u001b[0m\u001b[1m      Param #\u001b[0m\u001b[1m \u001b[0m┃\n",
       "┡━━━━━━━━━━━━━━━━━━━━━━━━━━━━━━━━━╇━━━━━━━━━━━━━━━━━━━━━━━━╇━━━━━━━━━━━━━━━┩\n",
       "│ rescaling (\u001b[38;5;33mRescaling\u001b[0m)           │ (\u001b[38;5;45mNone\u001b[0m, \u001b[38;5;34m128\u001b[0m, \u001b[38;5;34m128\u001b[0m, \u001b[38;5;34m3\u001b[0m)    │             \u001b[38;5;34m0\u001b[0m │\n",
       "├─────────────────────────────────┼────────────────────────┼───────────────┤\n",
       "│ conv2d (\u001b[38;5;33mConv2D\u001b[0m)                 │ (\u001b[38;5;45mNone\u001b[0m, \u001b[38;5;34m128\u001b[0m, \u001b[38;5;34m128\u001b[0m, \u001b[38;5;34m16\u001b[0m)   │           \u001b[38;5;34m448\u001b[0m │\n",
       "├─────────────────────────────────┼────────────────────────┼───────────────┤\n",
       "│ max_pooling2d (\u001b[38;5;33mMaxPooling2D\u001b[0m)    │ (\u001b[38;5;45mNone\u001b[0m, \u001b[38;5;34m64\u001b[0m, \u001b[38;5;34m64\u001b[0m, \u001b[38;5;34m16\u001b[0m)     │             \u001b[38;5;34m0\u001b[0m │\n",
       "├─────────────────────────────────┼────────────────────────┼───────────────┤\n",
       "│ conv2d_1 (\u001b[38;5;33mConv2D\u001b[0m)               │ (\u001b[38;5;45mNone\u001b[0m, \u001b[38;5;34m64\u001b[0m, \u001b[38;5;34m64\u001b[0m, \u001b[38;5;34m32\u001b[0m)     │         \u001b[38;5;34m4,640\u001b[0m │\n",
       "├─────────────────────────────────┼────────────────────────┼───────────────┤\n",
       "│ max_pooling2d_1 (\u001b[38;5;33mMaxPooling2D\u001b[0m)  │ (\u001b[38;5;45mNone\u001b[0m, \u001b[38;5;34m32\u001b[0m, \u001b[38;5;34m32\u001b[0m, \u001b[38;5;34m32\u001b[0m)     │             \u001b[38;5;34m0\u001b[0m │\n",
       "├─────────────────────────────────┼────────────────────────┼───────────────┤\n",
       "│ flatten (\u001b[38;5;33mFlatten\u001b[0m)               │ (\u001b[38;5;45mNone\u001b[0m, \u001b[38;5;34m32768\u001b[0m)          │             \u001b[38;5;34m0\u001b[0m │\n",
       "├─────────────────────────────────┼────────────────────────┼───────────────┤\n",
       "│ dense (\u001b[38;5;33mDense\u001b[0m)                   │ (\u001b[38;5;45mNone\u001b[0m, \u001b[38;5;34m128\u001b[0m)            │     \u001b[38;5;34m4,194,432\u001b[0m │\n",
       "├─────────────────────────────────┼────────────────────────┼───────────────┤\n",
       "│ dense_1 (\u001b[38;5;33mDense\u001b[0m)                 │ (\u001b[38;5;45mNone\u001b[0m, \u001b[38;5;34m149\u001b[0m)            │        \u001b[38;5;34m19,221\u001b[0m │\n",
       "└─────────────────────────────────┴────────────────────────┴───────────────┘\n"
      ]
     },
     "metadata": {},
     "output_type": "display_data"
    },
    {
     "data": {
      "text/html": [
       "<pre style=\"white-space:pre;overflow-x:auto;line-height:normal;font-family:Menlo,'DejaVu Sans Mono',consolas,'Courier New',monospace\"><span style=\"font-weight: bold\"> Total params: </span><span style=\"color: #00af00; text-decoration-color: #00af00\">4,218,741</span> (16.09 MB)\n",
       "</pre>\n"
      ],
      "text/plain": [
       "\u001b[1m Total params: \u001b[0m\u001b[38;5;34m4,218,741\u001b[0m (16.09 MB)\n"
      ]
     },
     "metadata": {},
     "output_type": "display_data"
    },
    {
     "data": {
      "text/html": [
       "<pre style=\"white-space:pre;overflow-x:auto;line-height:normal;font-family:Menlo,'DejaVu Sans Mono',consolas,'Courier New',monospace\"><span style=\"font-weight: bold\"> Trainable params: </span><span style=\"color: #00af00; text-decoration-color: #00af00\">4,218,741</span> (16.09 MB)\n",
       "</pre>\n"
      ],
      "text/plain": [
       "\u001b[1m Trainable params: \u001b[0m\u001b[38;5;34m4,218,741\u001b[0m (16.09 MB)\n"
      ]
     },
     "metadata": {},
     "output_type": "display_data"
    },
    {
     "data": {
      "text/html": [
       "<pre style=\"white-space:pre;overflow-x:auto;line-height:normal;font-family:Menlo,'DejaVu Sans Mono',consolas,'Courier New',monospace\"><span style=\"font-weight: bold\"> Non-trainable params: </span><span style=\"color: #00af00; text-decoration-color: #00af00\">0</span> (0.00 B)\n",
       "</pre>\n"
      ],
      "text/plain": [
       "\u001b[1m Non-trainable params: \u001b[0m\u001b[38;5;34m0\u001b[0m (0.00 B)\n"
      ]
     },
     "metadata": {},
     "output_type": "display_data"
    }
   ],
   "source": [
    "model.summary()"
   ]
  },
  {
   "cell_type": "code",
   "execution_count": 14,
   "id": "35e93232-ad98-4257-a127-85be6485a6a4",
   "metadata": {},
   "outputs": [],
   "source": [
    "callback = tf.keras.callbacks.EarlyStopping(monitor='val_loss', patience=5, restore_best_weights=True)"
   ]
  },
  {
   "cell_type": "code",
   "execution_count": null,
   "id": "eaccd56a-0423-4bcf-a3b5-357030ed4cff",
   "metadata": {},
   "outputs": [],
   "source": []
  },
  {
   "cell_type": "code",
   "execution_count": 15,
   "id": "0589c0bb-a1c6-428b-8612-74a717aa8b31",
   "metadata": {},
   "outputs": [
    {
     "name": "stdout",
     "output_type": "stream",
     "text": [
      "Epoch 1/100\n"
     ]
    },
    {
     "name": "stderr",
     "output_type": "stream",
     "text": [
      "WARNING: All log messages before absl::InitializeLog() is called are written to STDERR\n",
      "I0000 00:00:1713804428.696116   56961 service.cc:145] XLA service 0x7f53c8009800 initialized for platform CUDA (this does not guarantee that XLA will be used). Devices:\n",
      "I0000 00:00:1713804428.696269   56961 service.cc:153]   StreamExecutor device (0): NVIDIA RTX A1000 Laptop GPU, Compute Capability 8.6\n"
     ]
    },
    {
     "name": "stdout",
     "output_type": "stream",
     "text": [
      "\u001b[1m  9/170\u001b[0m \u001b[32m━\u001b[0m\u001b[37m━━━━━━━━━━━━━━━━━━━\u001b[0m \u001b[1m2s\u001b[0m 18ms/step - accuracy: 0.0104 - loss: 5.9427"
     ]
    },
    {
     "name": "stderr",
     "output_type": "stream",
     "text": [
      "I0000 00:00:1713804432.520000   56961 device_compiler.h:188] Compiled cluster using XLA!  This line is logged at most once for the lifetime of the process.\n"
     ]
    },
    {
     "name": "stdout",
     "output_type": "stream",
     "text": [
      "\u001b[1m170/170\u001b[0m \u001b[32m━━━━━━━━━━━━━━━━━━━━\u001b[0m\u001b[37m\u001b[0m \u001b[1m10s\u001b[0m 35ms/step - accuracy: 0.0113 - loss: 5.1434 - val_accuracy: 0.0318 - val_loss: 4.6924\n",
      "Epoch 2/100\n",
      "\u001b[1m170/170\u001b[0m \u001b[32m━━━━━━━━━━━━━━━━━━━━\u001b[0m\u001b[37m\u001b[0m \u001b[1m2s\u001b[0m 12ms/step - accuracy: 0.0834 - loss: 4.2733 - val_accuracy: 0.1950 - val_loss: 3.5394\n",
      "Epoch 3/100\n",
      "\u001b[1m170/170\u001b[0m \u001b[32m━━━━━━━━━━━━━━━━━━━━\u001b[0m\u001b[37m\u001b[0m \u001b[1m2s\u001b[0m 13ms/step - accuracy: 0.3709 - loss: 2.6309 - val_accuracy: 0.2873 - val_loss: 3.1742\n",
      "Epoch 4/100\n",
      "\u001b[1m170/170\u001b[0m \u001b[32m━━━━━━━━━━━━━━━━━━━━\u001b[0m\u001b[37m\u001b[0m \u001b[1m2s\u001b[0m 13ms/step - accuracy: 0.6158 - loss: 1.5014 - val_accuracy: 0.3257 - val_loss: 3.1506\n",
      "Epoch 5/100\n",
      "\u001b[1m170/170\u001b[0m \u001b[32m━━━━━━━━━━━━━━━━━━━━\u001b[0m\u001b[37m\u001b[0m \u001b[1m2s\u001b[0m 13ms/step - accuracy: 0.7949 - loss: 0.7660 - val_accuracy: 0.3375 - val_loss: 3.4509\n",
      "Epoch 6/100\n",
      "\u001b[1m170/170\u001b[0m \u001b[32m━━━━━━━━━━━━━━━━━━━━\u001b[0m\u001b[37m\u001b[0m \u001b[1m2s\u001b[0m 13ms/step - accuracy: 0.9104 - loss: 0.3501 - val_accuracy: 0.3191 - val_loss: 3.9998\n",
      "Epoch 7/100\n",
      "\u001b[1m170/170\u001b[0m \u001b[32m━━━━━━━━━━━━━━━━━━━━\u001b[0m\u001b[37m\u001b[0m \u001b[1m2s\u001b[0m 14ms/step - accuracy: 0.9643 - loss: 0.1631 - val_accuracy: 0.3205 - val_loss: 4.2291\n",
      "Epoch 8/100\n",
      "\u001b[1m170/170\u001b[0m \u001b[32m━━━━━━━━━━━━━━━━━━━━\u001b[0m\u001b[37m\u001b[0m \u001b[1m2s\u001b[0m 14ms/step - accuracy: 0.9734 - loss: 0.1389 - val_accuracy: 0.3154 - val_loss: 4.5333\n",
      "Epoch 9/100\n",
      "\u001b[1m170/170\u001b[0m \u001b[32m━━━━━━━━━━━━━━━━━━━━\u001b[0m\u001b[37m\u001b[0m \u001b[1m2s\u001b[0m 14ms/step - accuracy: 0.9831 - loss: 0.0849 - val_accuracy: 0.3072 - val_loss: 5.0225\n"
     ]
    },
    {
     "data": {
      "text/plain": [
       "<keras.src.callbacks.history.History at 0x7f55237c7af0>"
      ]
     },
     "execution_count": 15,
     "metadata": {},
     "output_type": "execute_result"
    }
   ],
   "source": [
    "model.fit(train_dataset,  validation_data=(validation_dataset), epochs=100, callbacks=[callback])"
   ]
  },
  {
   "cell_type": "markdown",
   "id": "fb96d6d7-193d-4264-94c9-66a906ea60f4",
   "metadata": {},
   "source": [
    "Best val_loss is the 6th last one, 3.1506. This has training accuracy of 61.58% and val accuracy of 32.57%. We can get better training accuracy obviously (the last one is 98%!), but this is clearly overfit.\n",
    "\n",
    "Let's first try some data augmentation and build it into the model"
   ]
  },
  {
   "cell_type": "code",
   "execution_count": 64,
   "id": "aeb96a5f-ea0f-4b4f-9944-7b90df14450c",
   "metadata": {},
   "outputs": [],
   "source": [
    "data_augmentation_layers = tf.keras.Sequential([\n",
    "    layers.RandomFlip(\"horizontal\"),\n",
    "    layers.RandomRotation(0.1),\n",
    "])"
   ]
  },
  {
   "cell_type": "code",
   "execution_count": 17,
   "id": "fe4ef2b3-874d-44e7-9146-2816977d072c",
   "metadata": {},
   "outputs": [],
   "source": [
    "model = tf.keras.models.Sequential()\n",
    "model.add(tf.keras.Input(shape=(IMG_SIZE[0], IMG_SIZE[1],3)))\n",
    "model.add(data_augmentation_layers)\n",
    "model.add(layers.Rescaling(1./255))\n",
    "model.add(layers.Conv2D(16, 3, padding='same', activation='relu'))\n",
    "model.add(layers.MaxPooling2D())\n",
    "model.add(layers.Conv2D(32, 3, padding='same', activation='relu'))\n",
    "model.add(layers.MaxPooling2D())\n",
    "model.add(layers.Flatten())\n",
    "model.add(layers.Dense(128, activation='relu'))\n",
    "model.add(layers.Dense(num_classes, activation='softmax'))"
   ]
  },
  {
   "cell_type": "code",
   "execution_count": 18,
   "id": "d230578e-1d3d-45dd-995b-45f82b1f1eaf",
   "metadata": {},
   "outputs": [],
   "source": [
    "model.compile(optimizer=tf.keras.optimizers.Adam(),\n",
    "              loss=tf.keras.losses.CategoricalCrossentropy(from_logits=False),\n",
    "              metrics=['accuracy'])"
   ]
  },
  {
   "cell_type": "code",
   "execution_count": 19,
   "id": "a35ff249-7ce4-41f2-907f-545a39b3f3d6",
   "metadata": {},
   "outputs": [
    {
     "name": "stdout",
     "output_type": "stream",
     "text": [
      "Epoch 1/100\n",
      "\u001b[1m170/170\u001b[0m \u001b[32m━━━━━━━━━━━━━━━━━━━━\u001b[0m\u001b[37m\u001b[0m \u001b[1m8s\u001b[0m 32ms/step - accuracy: 0.0191 - loss: 4.9682 - val_accuracy: 0.1189 - val_loss: 3.9695\n",
      "Epoch 2/100\n",
      "\u001b[1m170/170\u001b[0m \u001b[32m━━━━━━━━━━━━━━━━━━━━\u001b[0m\u001b[37m\u001b[0m \u001b[1m5s\u001b[0m 28ms/step - accuracy: 0.1550 - loss: 3.6127 - val_accuracy: 0.2651 - val_loss: 3.0279\n",
      "Epoch 3/100\n",
      "\u001b[1m170/170\u001b[0m \u001b[32m━━━━━━━━━━━━━━━━━━━━\u001b[0m\u001b[37m\u001b[0m \u001b[1m5s\u001b[0m 27ms/step - accuracy: 0.2870 - loss: 2.8871 - val_accuracy: 0.3035 - val_loss: 2.8579\n",
      "Epoch 4/100\n",
      "\u001b[1m170/170\u001b[0m \u001b[32m━━━━━━━━━━━━━━━━━━━━\u001b[0m\u001b[37m\u001b[0m \u001b[1m5s\u001b[0m 29ms/step - accuracy: 0.3855 - loss: 2.4128 - val_accuracy: 0.3656 - val_loss: 2.5230\n",
      "Epoch 5/100\n",
      "\u001b[1m170/170\u001b[0m \u001b[32m━━━━━━━━━━━━━━━━━━━━\u001b[0m\u001b[37m\u001b[0m \u001b[1m5s\u001b[0m 27ms/step - accuracy: 0.4482 - loss: 2.1110 - val_accuracy: 0.4291 - val_loss: 2.3559\n",
      "Epoch 6/100\n",
      "\u001b[1m170/170\u001b[0m \u001b[32m━━━━━━━━━━━━━━━━━━━━\u001b[0m\u001b[37m\u001b[0m \u001b[1m5s\u001b[0m 27ms/step - accuracy: 0.5106 - loss: 1.8449 - val_accuracy: 0.4261 - val_loss: 2.3181\n",
      "Epoch 7/100\n",
      "\u001b[1m170/170\u001b[0m \u001b[32m━━━━━━━━━━━━━━━━━━━━\u001b[0m\u001b[37m\u001b[0m \u001b[1m5s\u001b[0m 28ms/step - accuracy: 0.5500 - loss: 1.6739 - val_accuracy: 0.4535 - val_loss: 2.2601\n",
      "Epoch 8/100\n",
      "\u001b[1m170/170\u001b[0m \u001b[32m━━━━━━━━━━━━━━━━━━━━\u001b[0m\u001b[37m\u001b[0m \u001b[1m5s\u001b[0m 29ms/step - accuracy: 0.5937 - loss: 1.4631 - val_accuracy: 0.4756 - val_loss: 2.2272\n",
      "Epoch 9/100\n",
      "\u001b[1m170/170\u001b[0m \u001b[32m━━━━━━━━━━━━━━━━━━━━\u001b[0m\u001b[37m\u001b[0m \u001b[1m5s\u001b[0m 29ms/step - accuracy: 0.6294 - loss: 1.3705 - val_accuracy: 0.4911 - val_loss: 2.1327\n",
      "Epoch 10/100\n",
      "\u001b[1m170/170\u001b[0m \u001b[32m━━━━━━━━━━━━━━━━━━━━\u001b[0m\u001b[37m\u001b[0m \u001b[1m5s\u001b[0m 29ms/step - accuracy: 0.6625 - loss: 1.2592 - val_accuracy: 0.4919 - val_loss: 2.1635\n",
      "Epoch 11/100\n",
      "\u001b[1m170/170\u001b[0m \u001b[32m━━━━━━━━━━━━━━━━━━━━\u001b[0m\u001b[37m\u001b[0m \u001b[1m5s\u001b[0m 27ms/step - accuracy: 0.6884 - loss: 1.1501 - val_accuracy: 0.5148 - val_loss: 2.2148\n",
      "Epoch 12/100\n",
      "\u001b[1m170/170\u001b[0m \u001b[32m━━━━━━━━━━━━━━━━━━━━\u001b[0m\u001b[37m\u001b[0m \u001b[1m5s\u001b[0m 28ms/step - accuracy: 0.7129 - loss: 1.0148 - val_accuracy: 0.5244 - val_loss: 2.1733\n",
      "Epoch 13/100\n",
      "\u001b[1m170/170\u001b[0m \u001b[32m━━━━━━━━━━━━━━━━━━━━\u001b[0m\u001b[37m\u001b[0m \u001b[1m5s\u001b[0m 28ms/step - accuracy: 0.7278 - loss: 0.9586 - val_accuracy: 0.5185 - val_loss: 2.2977\n",
      "Epoch 14/100\n",
      "\u001b[1m170/170\u001b[0m \u001b[32m━━━━━━━━━━━━━━━━━━━━\u001b[0m\u001b[37m\u001b[0m \u001b[1m5s\u001b[0m 29ms/step - accuracy: 0.7479 - loss: 0.8845 - val_accuracy: 0.4956 - val_loss: 2.3301\n"
     ]
    },
    {
     "data": {
      "text/plain": [
       "<keras.src.callbacks.history.History at 0x7f5529711760>"
      ]
     },
     "execution_count": 19,
     "metadata": {},
     "output_type": "execute_result"
    }
   ],
   "source": [
    "model.fit(train_dataset,  validation_data=(validation_dataset), epochs=100, callbacks=[callback])"
   ]
  },
  {
   "cell_type": "markdown",
   "id": "cd71c0d9-436c-428a-a976-bf697b883d59",
   "metadata": {},
   "source": [
    "Best val_loss is 2.1327 with a validation accuracy of 49.19%, this is a good improvement but still some overfitting (62.94% on training set). More epochs would probably make the overfitting worse looking at above\n",
    "\n",
    "Let's try dropout"
   ]
  },
  {
   "cell_type": "code",
   "execution_count": 23,
   "id": "c815fa28-7c55-40f3-8b58-dc1c39708404",
   "metadata": {},
   "outputs": [],
   "source": [
    "model = tf.keras.models.Sequential()\n",
    "model.add(tf.keras.Input(shape=(IMG_SIZE[0], IMG_SIZE[1],3)))\n",
    "model.add(data_augmentation_layers)\n",
    "model.add(layers.Rescaling(1./255))\n",
    "model.add(layers.Conv2D(16, 3, padding='same', activation='relu'))\n",
    "model.add(layers.MaxPooling2D())\n",
    "model.add(layers.Dropout(0.2))\n",
    "model.add(layers.Conv2D(32, 3, padding='same', activation='relu'))\n",
    "model.add(layers.MaxPooling2D())\n",
    "model.add(layers.Flatten())\n",
    "model.add(layers.Dropout(0.2))\n",
    "model.add(layers.Dense(128, activation='relu'))\n",
    "model.add(layers.Dense(num_classes, activation='softmax'))"
   ]
  },
  {
   "cell_type": "code",
   "execution_count": 24,
   "id": "b215f1cb-e34f-4c05-a39c-33248f5b83eb",
   "metadata": {},
   "outputs": [],
   "source": [
    "model.compile(optimizer=tf.keras.optimizers.Adam(),\n",
    "              loss=tf.keras.losses.CategoricalCrossentropy(from_logits=False),\n",
    "              metrics=['accuracy'])"
   ]
  },
  {
   "cell_type": "code",
   "execution_count": 25,
   "id": "e6b3da55-ad94-4d36-a57a-42cd01ddf78c",
   "metadata": {},
   "outputs": [],
   "source": [
    "callback = tf.keras.callbacks.EarlyStopping(monitor='val_loss', patience=5, restore_best_weights=True)"
   ]
  },
  {
   "cell_type": "code",
   "execution_count": 26,
   "id": "5835ae8f-abdd-4481-bef0-a7b8b499c1da",
   "metadata": {},
   "outputs": [
    {
     "name": "stdout",
     "output_type": "stream",
     "text": [
      "Epoch 1/100\n",
      "\u001b[1m170/170\u001b[0m \u001b[32m━━━━━━━━━━━━━━━━━━━━\u001b[0m\u001b[37m\u001b[0m \u001b[1m5s\u001b[0m 26ms/step - accuracy: 0.0153 - loss: 5.0127 - val_accuracy: 0.0502 - val_loss: 4.6068\n",
      "Epoch 2/100\n",
      "\u001b[1m170/170\u001b[0m \u001b[32m━━━━━━━━━━━━━━━━━━━━\u001b[0m\u001b[37m\u001b[0m \u001b[1m5s\u001b[0m 27ms/step - accuracy: 0.0759 - loss: 4.2716 - val_accuracy: 0.1595 - val_loss: 3.5927\n",
      "Epoch 3/100\n",
      "\u001b[1m170/170\u001b[0m \u001b[32m━━━━━━━━━━━━━━━━━━━━\u001b[0m\u001b[37m\u001b[0m \u001b[1m5s\u001b[0m 27ms/step - accuracy: 0.1724 - loss: 3.4314 - val_accuracy: 0.2238 - val_loss: 3.1942\n",
      "Epoch 4/100\n",
      "\u001b[1m170/170\u001b[0m \u001b[32m━━━━━━━━━━━━━━━━━━━━\u001b[0m\u001b[37m\u001b[0m \u001b[1m5s\u001b[0m 27ms/step - accuracy: 0.2356 - loss: 2.9988 - val_accuracy: 0.2578 - val_loss: 2.9845\n",
      "Epoch 5/100\n",
      "\u001b[1m170/170\u001b[0m \u001b[32m━━━━━━━━━━━━━━━━━━━━\u001b[0m\u001b[37m\u001b[0m \u001b[1m5s\u001b[0m 27ms/step - accuracy: 0.2999 - loss: 2.7487 - val_accuracy: 0.3087 - val_loss: 2.7823\n",
      "Epoch 6/100\n",
      "\u001b[1m170/170\u001b[0m \u001b[32m━━━━━━━━━━━━━━━━━━━━\u001b[0m\u001b[37m\u001b[0m \u001b[1m5s\u001b[0m 27ms/step - accuracy: 0.3210 - loss: 2.5614 - val_accuracy: 0.3427 - val_loss: 2.6513\n",
      "Epoch 7/100\n",
      "\u001b[1m170/170\u001b[0m \u001b[32m━━━━━━━━━━━━━━━━━━━━\u001b[0m\u001b[37m\u001b[0m \u001b[1m5s\u001b[0m 27ms/step - accuracy: 0.3819 - loss: 2.3915 - val_accuracy: 0.3567 - val_loss: 2.5689\n",
      "Epoch 8/100\n",
      "\u001b[1m170/170\u001b[0m \u001b[32m━━━━━━━━━━━━━━━━━━━━\u001b[0m\u001b[37m\u001b[0m \u001b[1m5s\u001b[0m 27ms/step - accuracy: 0.3913 - loss: 2.2895 - val_accuracy: 0.3936 - val_loss: 2.4978\n",
      "Epoch 9/100\n",
      "\u001b[1m170/170\u001b[0m \u001b[32m━━━━━━━━━━━━━━━━━━━━\u001b[0m\u001b[37m\u001b[0m \u001b[1m5s\u001b[0m 28ms/step - accuracy: 0.4312 - loss: 2.1453 - val_accuracy: 0.3900 - val_loss: 2.4518\n",
      "Epoch 10/100\n",
      "\u001b[1m170/170\u001b[0m \u001b[32m━━━━━━━━━━━━━━━━━━━━\u001b[0m\u001b[37m\u001b[0m \u001b[1m5s\u001b[0m 27ms/step - accuracy: 0.4599 - loss: 2.0109 - val_accuracy: 0.3966 - val_loss: 2.3778\n",
      "Epoch 11/100\n",
      "\u001b[1m170/170\u001b[0m \u001b[32m━━━━━━━━━━━━━━━━━━━━\u001b[0m\u001b[37m\u001b[0m \u001b[1m5s\u001b[0m 30ms/step - accuracy: 0.4752 - loss: 1.9201 - val_accuracy: 0.4261 - val_loss: 2.3313\n",
      "Epoch 12/100\n",
      "\u001b[1m170/170\u001b[0m \u001b[32m━━━━━━━━━━━━━━━━━━━━\u001b[0m\u001b[37m\u001b[0m \u001b[1m6s\u001b[0m 33ms/step - accuracy: 0.4976 - loss: 1.8509 - val_accuracy: 0.4232 - val_loss: 2.3000\n",
      "Epoch 13/100\n",
      "\u001b[1m170/170\u001b[0m \u001b[32m━━━━━━━━━━━━━━━━━━━━\u001b[0m\u001b[37m\u001b[0m \u001b[1m6s\u001b[0m 33ms/step - accuracy: 0.5189 - loss: 1.7834 - val_accuracy: 0.4343 - val_loss: 2.2950\n",
      "Epoch 14/100\n",
      "\u001b[1m170/170\u001b[0m \u001b[32m━━━━━━━━━━━━━━━━━━━━\u001b[0m\u001b[37m\u001b[0m \u001b[1m6s\u001b[0m 33ms/step - accuracy: 0.5214 - loss: 1.7361 - val_accuracy: 0.4572 - val_loss: 2.2325\n",
      "Epoch 15/100\n",
      "\u001b[1m170/170\u001b[0m \u001b[32m━━━━━━━━━━━━━━━━━━━━\u001b[0m\u001b[37m\u001b[0m \u001b[1m5s\u001b[0m 27ms/step - accuracy: 0.5439 - loss: 1.6752 - val_accuracy: 0.4645 - val_loss: 2.2105\n",
      "Epoch 16/100\n",
      "\u001b[1m170/170\u001b[0m \u001b[32m━━━━━━━━━━━━━━━━━━━━\u001b[0m\u001b[37m\u001b[0m \u001b[1m5s\u001b[0m 27ms/step - accuracy: 0.5551 - loss: 1.6047 - val_accuracy: 0.4490 - val_loss: 2.2211\n",
      "Epoch 17/100\n",
      "\u001b[1m170/170\u001b[0m \u001b[32m━━━━━━━━━━━━━━━━━━━━\u001b[0m\u001b[37m\u001b[0m \u001b[1m5s\u001b[0m 26ms/step - accuracy: 0.5711 - loss: 1.5486 - val_accuracy: 0.4564 - val_loss: 2.1770\n",
      "Epoch 18/100\n",
      "\u001b[1m170/170\u001b[0m \u001b[32m━━━━━━━━━━━━━━━━━━━━\u001b[0m\u001b[37m\u001b[0m \u001b[1m5s\u001b[0m 29ms/step - accuracy: 0.5971 - loss: 1.4699 - val_accuracy: 0.4660 - val_loss: 2.1565\n",
      "Epoch 19/100\n",
      "\u001b[1m170/170\u001b[0m \u001b[32m━━━━━━━━━━━━━━━━━━━━\u001b[0m\u001b[37m\u001b[0m \u001b[1m5s\u001b[0m 28ms/step - accuracy: 0.5909 - loss: 1.4468 - val_accuracy: 0.4756 - val_loss: 2.2007\n",
      "Epoch 20/100\n",
      "\u001b[1m170/170\u001b[0m \u001b[32m━━━━━━━━━━━━━━━━━━━━\u001b[0m\u001b[37m\u001b[0m \u001b[1m5s\u001b[0m 28ms/step - accuracy: 0.6054 - loss: 1.4059 - val_accuracy: 0.4601 - val_loss: 2.1880\n",
      "Epoch 21/100\n",
      "\u001b[1m170/170\u001b[0m \u001b[32m━━━━━━━━━━━━━━━━━━━━\u001b[0m\u001b[37m\u001b[0m \u001b[1m5s\u001b[0m 28ms/step - accuracy: 0.6260 - loss: 1.3401 - val_accuracy: 0.4675 - val_loss: 2.1902\n",
      "Epoch 22/100\n",
      "\u001b[1m170/170\u001b[0m \u001b[32m━━━━━━━━━━━━━━━━━━━━\u001b[0m\u001b[37m\u001b[0m \u001b[1m5s\u001b[0m 28ms/step - accuracy: 0.6263 - loss: 1.3311 - val_accuracy: 0.4490 - val_loss: 2.3221\n",
      "Epoch 23/100\n",
      "\u001b[1m170/170\u001b[0m \u001b[32m━━━━━━━━━━━━━━━━━━━━\u001b[0m\u001b[37m\u001b[0m \u001b[1m5s\u001b[0m 28ms/step - accuracy: 0.6261 - loss: 1.3327 - val_accuracy: 0.4749 - val_loss: 2.2670\n"
     ]
    },
    {
     "data": {
      "text/plain": [
       "<keras.src.callbacks.history.History at 0x7f54b40a1400>"
      ]
     },
     "execution_count": 26,
     "metadata": {},
     "output_type": "execute_result"
    }
   ],
   "source": [
    "model.fit(train_dataset,  validation_data=(validation_dataset), epochs=100, callbacks=[callback])"
   ]
  },
  {
   "cell_type": "markdown",
   "id": "eb17f444-31d7-4f7e-8731-8d66e8ef1f00",
   "metadata": {},
   "source": [
    "Actually no better with droppout 9ms/step - accuracy: 0.5971 - loss: 1.4699 - val_accuracy: 0.4660 - val_loss: 2.1565 is the best line. Which was worse than without droppout. I would probably try increasing the patience here as clearly the training score can improve and maybe that'd kick the val score up too.\n",
    "\n",
    "Anyway, we're really at a limit of what we can do with such a small dataset - Transfer Learning might improve things"
   ]
  },
  {
   "cell_type": "markdown",
   "id": "1be27268-4077-4ae5-aa5d-49956feb163c",
   "metadata": {},
   "source": [
    "## Transfer Learning\n",
    "Like the tutorial, we are going to use Xception as our base model, initialised as below"
   ]
  },
  {
   "cell_type": "code",
   "execution_count": 60,
   "id": "67653f9e-91cb-4326-9e37-34f8534f8351",
   "metadata": {},
   "outputs": [],
   "source": [
    "base_model = tf.keras.applications.Xception(\n",
    "    weights='imagenet',  # Load weights pre-trained on ImageNet.\n",
    "    input_shape=(IMG_SIZE[0], IMG_SIZE[1],3),\n",
    "    include_top=False)"
   ]
  },
  {
   "cell_type": "code",
   "execution_count": null,
   "id": "54594e99-ed69-4cc3-bbc5-10901a64d72b",
   "metadata": {},
   "outputs": [],
   "source": []
  },
  {
   "cell_type": "code",
   "execution_count": 61,
   "id": "1d7ae73a-20e5-49c3-b3ed-546a49ef6b13",
   "metadata": {},
   "outputs": [],
   "source": [
    "base_model.trainable = False"
   ]
  },
  {
   "cell_type": "markdown",
   "id": "1108143e-72f1-4218-887b-5ed6a9d6a245",
   "metadata": {},
   "source": [
    "Setting things up like in the notes"
   ]
  },
  {
   "cell_type": "code",
   "execution_count": 62,
   "id": "b680ca4e-d360-49b3-93e0-62c55ed4c3cd",
   "metadata": {},
   "outputs": [],
   "source": [
    "inputs = tf.keras.Input(shape=(IMG_SIZE[0], IMG_SIZE[1],3))"
   ]
  },
  {
   "cell_type": "markdown",
   "id": "b92b4f6f-a841-432a-ab51-f67c45b648e2",
   "metadata": {},
   "source": [
    "I'm going to include data_augmentation in this one as it made such a difference with the custom CNN it'll probably make a difference here too\n",
    "\n",
    "If you want to compare with and without, well you'll have to do it yourself!"
   ]
  },
  {
   "cell_type": "code",
   "execution_count": 30,
   "id": "1dd71c59-64c2-4c04-87e4-7ebd8c368aed",
   "metadata": {},
   "outputs": [],
   "source": [
    "x = data_augmentation_layers(inputs)"
   ]
  },
  {
   "cell_type": "code",
   "execution_count": 31,
   "id": "5e015e31-d208-4e44-8193-0f5243dcfc39",
   "metadata": {},
   "outputs": [],
   "source": [
    "x = tf.keras.applications.xception.preprocess_input(x)"
   ]
  },
  {
   "cell_type": "code",
   "execution_count": 32,
   "id": "f4d1b3cf-c371-4c1f-8ab5-ddaa249f0728",
   "metadata": {},
   "outputs": [],
   "source": [
    "x = base_model(x, training=False)"
   ]
  },
  {
   "cell_type": "code",
   "execution_count": 33,
   "id": "94605a1f-e202-451c-a9e7-b3561e5b4726",
   "metadata": {},
   "outputs": [],
   "source": [
    "x = tf.keras.layers.GlobalAveragePooling2D()(x)"
   ]
  },
  {
   "cell_type": "code",
   "execution_count": 34,
   "id": "95fa758c-0448-4942-b2aa-c8a6ea0a0360",
   "metadata": {},
   "outputs": [],
   "source": [
    "outputs = tf.keras.layers.Dense(num_classes, activation='softmax')(x)"
   ]
  },
  {
   "cell_type": "code",
   "execution_count": 35,
   "id": "21aa5f34-a626-4023-9355-76606447e926",
   "metadata": {},
   "outputs": [],
   "source": [
    "model = tf.keras.Model(inputs, outputs)"
   ]
  },
  {
   "cell_type": "code",
   "execution_count": 36,
   "id": "556b74df-bf3b-4cd6-b0cc-8fd1205ae9fb",
   "metadata": {},
   "outputs": [],
   "source": [
    "model.compile(optimizer=tf.keras.optimizers.Adam(),\n",
    "              loss=tf.keras.losses.CategoricalCrossentropy(from_logits=False),\n",
    "              metrics=['accuracy'])"
   ]
  },
  {
   "cell_type": "code",
   "execution_count": null,
   "id": "0e313011-3f7c-40b5-be4f-393980790cfa",
   "metadata": {},
   "outputs": [],
   "source": [
    "callback = tf.keras.callbacks.EarlyStopping(monitor='val_loss', patience=5, restore_best_weights=True)"
   ]
  },
  {
   "cell_type": "markdown",
   "id": "4d3ae3e0-a8d0-4615-a9d4-16297f1349e2",
   "metadata": {},
   "source": [
    "## Timing\n",
    "on my ATU laptop this took 900 ms per step and over 150s per epoch\n",
    "\n",
    "Much much faster on this laptop which has a crappy GPU. I would try this on my desktop PC except I don't want to install WSL and all the Python stuff on that"
   ]
  },
  {
   "cell_type": "code",
   "execution_count": 37,
   "id": "46eef0dc-9fdb-4383-8963-a58952614d28",
   "metadata": {},
   "outputs": [
    {
     "name": "stdout",
     "output_type": "stream",
     "text": [
      "Epoch 1/100\n",
      "\u001b[1m170/170\u001b[0m \u001b[32m━━━━━━━━━━━━━━━━━━━━\u001b[0m\u001b[37m\u001b[0m \u001b[1m19s\u001b[0m 95ms/step - accuracy: 0.1356 - loss: 4.4275 - val_accuracy: 0.4084 - val_loss: 2.7256\n",
      "Epoch 2/100\n",
      "\u001b[1m170/170\u001b[0m \u001b[32m━━━━━━━━━━━━━━━━━━━━\u001b[0m\u001b[37m\u001b[0m \u001b[1m16s\u001b[0m 94ms/step - accuracy: 0.5445 - loss: 2.0899 - val_accuracy: 0.4631 - val_loss: 2.3206\n",
      "Epoch 3/100\n",
      "\u001b[1m170/170\u001b[0m \u001b[32m━━━━━━━━━━━━━━━━━━━━\u001b[0m\u001b[37m\u001b[0m \u001b[1m16s\u001b[0m 96ms/step - accuracy: 0.6622 - loss: 1.5624 - val_accuracy: 0.5037 - val_loss: 2.1102\n",
      "Epoch 4/100\n",
      "\u001b[1m170/170\u001b[0m \u001b[32m━━━━━━━━━━━━━━━━━━━━\u001b[0m\u001b[37m\u001b[0m \u001b[1m18s\u001b[0m 103ms/step - accuracy: 0.7160 - loss: 1.3060 - val_accuracy: 0.5229 - val_loss: 2.0056\n",
      "Epoch 5/100\n",
      "\u001b[1m170/170\u001b[0m \u001b[32m━━━━━━━━━━━━━━━━━━━━\u001b[0m\u001b[37m\u001b[0m \u001b[1m20s\u001b[0m 117ms/step - accuracy: 0.7649 - loss: 1.0983 - val_accuracy: 0.5591 - val_loss: 1.9028\n",
      "Epoch 6/100\n",
      "\u001b[1m170/170\u001b[0m \u001b[32m━━━━━━━━━━━━━━━━━━━━\u001b[0m\u001b[37m\u001b[0m \u001b[1m21s\u001b[0m 123ms/step - accuracy: 0.7927 - loss: 0.9599 - val_accuracy: 0.5665 - val_loss: 1.8488\n",
      "Epoch 7/100\n",
      "\u001b[1m170/170\u001b[0m \u001b[32m━━━━━━━━━━━━━━━━━━━━\u001b[0m\u001b[37m\u001b[0m \u001b[1m17s\u001b[0m 101ms/step - accuracy: 0.8313 - loss: 0.8062 - val_accuracy: 0.5613 - val_loss: 1.8096\n",
      "Epoch 8/100\n",
      "\u001b[1m170/170\u001b[0m \u001b[32m━━━━━━━━━━━━━━━━━━━━\u001b[0m\u001b[37m\u001b[0m \u001b[1m16s\u001b[0m 93ms/step - accuracy: 0.8366 - loss: 0.7561 - val_accuracy: 0.5775 - val_loss: 1.8049\n",
      "Epoch 9/100\n",
      "\u001b[1m170/170\u001b[0m \u001b[32m━━━━━━━━━━━━━━━━━━━━\u001b[0m\u001b[37m\u001b[0m \u001b[1m18s\u001b[0m 106ms/step - accuracy: 0.8610 - loss: 0.6817 - val_accuracy: 0.5798 - val_loss: 1.7976\n",
      "Epoch 10/100\n",
      "\u001b[1m170/170\u001b[0m \u001b[32m━━━━━━━━━━━━━━━━━━━━\u001b[0m\u001b[37m\u001b[0m \u001b[1m20s\u001b[0m 114ms/step - accuracy: 0.8775 - loss: 0.6018 - val_accuracy: 0.5746 - val_loss: 1.7792\n",
      "Epoch 11/100\n",
      "\u001b[1m170/170\u001b[0m \u001b[32m━━━━━━━━━━━━━━━━━━━━\u001b[0m\u001b[37m\u001b[0m \u001b[1m17s\u001b[0m 102ms/step - accuracy: 0.8912 - loss: 0.5494 - val_accuracy: 0.5982 - val_loss: 1.7494\n",
      "Epoch 12/100\n",
      "\u001b[1m170/170\u001b[0m \u001b[32m━━━━━━━━━━━━━━━━━━━━\u001b[0m\u001b[37m\u001b[0m \u001b[1m15s\u001b[0m 89ms/step - accuracy: 0.8994 - loss: 0.5179 - val_accuracy: 0.5886 - val_loss: 1.7875\n",
      "Epoch 13/100\n",
      "\u001b[1m170/170\u001b[0m \u001b[32m━━━━━━━━━━━━━━━━━━━━\u001b[0m\u001b[37m\u001b[0m \u001b[1m15s\u001b[0m 90ms/step - accuracy: 0.8960 - loss: 0.4982 - val_accuracy: 0.5990 - val_loss: 1.7355\n",
      "Epoch 14/100\n",
      "\u001b[1m170/170\u001b[0m \u001b[32m━━━━━━━━━━━━━━━━━━━━\u001b[0m\u001b[37m\u001b[0m \u001b[1m15s\u001b[0m 88ms/step - accuracy: 0.9192 - loss: 0.4385 - val_accuracy: 0.5879 - val_loss: 1.7412\n",
      "Epoch 15/100\n",
      "\u001b[1m170/170\u001b[0m \u001b[32m━━━━━━━━━━━━━━━━━━━━\u001b[0m\u001b[37m\u001b[0m \u001b[1m15s\u001b[0m 88ms/step - accuracy: 0.9105 - loss: 0.4405 - val_accuracy: 0.5871 - val_loss: 1.7516\n",
      "Epoch 16/100\n",
      "\u001b[1m170/170\u001b[0m \u001b[32m━━━━━━━━━━━━━━━━━━━━\u001b[0m\u001b[37m\u001b[0m \u001b[1m15s\u001b[0m 89ms/step - accuracy: 0.9257 - loss: 0.3919 - val_accuracy: 0.6012 - val_loss: 1.7291\n",
      "Epoch 17/100\n",
      "\u001b[1m170/170\u001b[0m \u001b[32m━━━━━━━━━━━━━━━━━━━━\u001b[0m\u001b[37m\u001b[0m \u001b[1m15s\u001b[0m 89ms/step - accuracy: 0.9248 - loss: 0.3843 - val_accuracy: 0.5968 - val_loss: 1.7369\n",
      "Epoch 18/100\n",
      "\u001b[1m170/170\u001b[0m \u001b[32m━━━━━━━━━━━━━━━━━━━━\u001b[0m\u001b[37m\u001b[0m \u001b[1m15s\u001b[0m 88ms/step - accuracy: 0.9391 - loss: 0.3386 - val_accuracy: 0.6152 - val_loss: 1.7411\n",
      "Epoch 19/100\n",
      "\u001b[1m170/170\u001b[0m \u001b[32m━━━━━━━━━━━━━━━━━━━━\u001b[0m\u001b[37m\u001b[0m \u001b[1m15s\u001b[0m 86ms/step - accuracy: 0.9412 - loss: 0.3062 - val_accuracy: 0.5960 - val_loss: 1.7634\n",
      "Epoch 20/100\n",
      "\u001b[1m170/170\u001b[0m \u001b[32m━━━━━━━━━━━━━━━━━━━━\u001b[0m\u001b[37m\u001b[0m \u001b[1m14s\u001b[0m 83ms/step - accuracy: 0.9445 - loss: 0.3043 - val_accuracy: 0.5997 - val_loss: 1.7617\n",
      "Epoch 21/100\n",
      "\u001b[1m170/170\u001b[0m \u001b[32m━━━━━━━━━━━━━━━━━━━━\u001b[0m\u001b[37m\u001b[0m \u001b[1m15s\u001b[0m 86ms/step - accuracy: 0.9462 - loss: 0.2801 - val_accuracy: 0.6004 - val_loss: 1.7657\n"
     ]
    },
    {
     "data": {
      "text/plain": [
       "<keras.src.callbacks.history.History at 0x7f54604707c0>"
      ]
     },
     "execution_count": 37,
     "metadata": {},
     "output_type": "execute_result"
    }
   ],
   "source": [
    "model.fit(train_dataset,  validation_data=(validation_dataset), epochs=100, callbacks=[callback])"
   ]
  },
  {
   "cell_type": "markdown",
   "id": "82bcb1a9-a809-462e-ad5f-d36673ed8527",
   "metadata": {},
   "source": [
    "Performance is better alright! Took longer to train though, 85-90m/s per step on this computer (Much longer on ATU Laptop!!)\n",
    "\n",
    "0.9257 - loss: 0.3919 - val_accuracy: 0.6012 - val_loss: 1.7291\n",
    "\n",
    "Val_loss has decreased. Val accuracy upto 60%. Not too bad for so many categories I think. Still overfitting so let's try to improve it, we'll add a dropout layer.\n",
    "\n",
    "However, I doubt it'll improve things, Dropout did not work much on the previous CNN and I already have included data_augmentation\n",
    "\n",
    "### Note\n",
    "base_model does not need to be reinitialised - unless we do any fine-tuning, it is only rewritten again below as I restarted the kernel"
   ]
  },
  {
   "cell_type": "code",
   "execution_count": 15,
   "id": "81a671b3-2ee1-49cc-8c5c-1645a88544dc",
   "metadata": {},
   "outputs": [],
   "source": [
    "base_model = tf.keras.applications.Xception(\n",
    "    weights='imagenet',  # Load weights pre-trained on ImageNet.\n",
    "    input_shape=(IMG_SIZE[0], IMG_SIZE[1],3),\n",
    "    include_top=False)\n",
    "base_model.trainable = False\n",
    "x = data_augmentation_layers(inputs)\n",
    "x = tf.keras.applications.xception.preprocess_input(x)\n",
    "x = base_model(x, training=False)\n",
    "x = tf.keras.layers.GlobalAveragePooling2D()(x)\n",
    "x = tf.keras.layers.Dropout(0.2)(x)\n",
    "outputs = tf.keras.layers.Dense(num_classes)(x)\n",
    "model = tf.keras.Model(inputs, outputs)"
   ]
  },
  {
   "cell_type": "markdown",
   "id": "52ea0d0a-2775-4ea7-be17-412920dc9dbb",
   "metadata": {},
   "source": [
    "For some reason I decided not to have softmax on the last layer here (the reason is to make students notice the difference!)\n",
    "\n",
    "So I have to set from_logits as True"
   ]
  },
  {
   "cell_type": "code",
   "execution_count": 16,
   "id": "a62d6ef0-16cf-4f37-bee2-f49155304b0e",
   "metadata": {},
   "outputs": [],
   "source": [
    "model.compile(optimizer=tf.keras.optimizers.Adam(),\n",
    "              loss=tf.keras.losses.CategoricalCrossentropy(from_logits=True),\n",
    "              metrics=['accuracy'])"
   ]
  },
  {
   "cell_type": "code",
   "execution_count": 17,
   "id": "998fa795-41b8-49db-ae64-9a0baa3ab438",
   "metadata": {},
   "outputs": [
    {
     "data": {
      "text/html": [
       "<pre style=\"white-space:pre;overflow-x:auto;line-height:normal;font-family:Menlo,'DejaVu Sans Mono',consolas,'Courier New',monospace\"><span style=\"font-weight: bold\">Model: \"functional_2\"</span>\n",
       "</pre>\n"
      ],
      "text/plain": [
       "\u001b[1mModel: \"functional_2\"\u001b[0m\n"
      ]
     },
     "metadata": {},
     "output_type": "display_data"
    },
    {
     "data": {
      "text/html": [
       "<pre style=\"white-space:pre;overflow-x:auto;line-height:normal;font-family:Menlo,'DejaVu Sans Mono',consolas,'Courier New',monospace\">┏━━━━━━━━━━━━━━━━━━━━━━━━━━━━━━━━━┳━━━━━━━━━━━━━━━━━━━━━━━━┳━━━━━━━━━━━━━━━┓\n",
       "┃<span style=\"font-weight: bold\"> Layer (type)                    </span>┃<span style=\"font-weight: bold\"> Output Shape           </span>┃<span style=\"font-weight: bold\">       Param # </span>┃\n",
       "┡━━━━━━━━━━━━━━━━━━━━━━━━━━━━━━━━━╇━━━━━━━━━━━━━━━━━━━━━━━━╇━━━━━━━━━━━━━━━┩\n",
       "│ input_layer_2 (<span style=\"color: #0087ff; text-decoration-color: #0087ff\">InputLayer</span>)      │ (<span style=\"color: #00d7ff; text-decoration-color: #00d7ff\">None</span>, <span style=\"color: #00af00; text-decoration-color: #00af00\">128</span>, <span style=\"color: #00af00; text-decoration-color: #00af00\">128</span>, <span style=\"color: #00af00; text-decoration-color: #00af00\">3</span>)    │             <span style=\"color: #00af00; text-decoration-color: #00af00\">0</span> │\n",
       "├─────────────────────────────────┼────────────────────────┼───────────────┤\n",
       "│ sequential (<span style=\"color: #0087ff; text-decoration-color: #0087ff\">Sequential</span>)         │ (<span style=\"color: #00d7ff; text-decoration-color: #00d7ff\">None</span>, <span style=\"color: #00af00; text-decoration-color: #00af00\">128</span>, <span style=\"color: #00af00; text-decoration-color: #00af00\">128</span>, <span style=\"color: #00af00; text-decoration-color: #00af00\">3</span>)    │             <span style=\"color: #00af00; text-decoration-color: #00af00\">0</span> │\n",
       "├─────────────────────────────────┼────────────────────────┼───────────────┤\n",
       "│ true_divide (<span style=\"color: #0087ff; text-decoration-color: #0087ff\">TrueDivide</span>)        │ (<span style=\"color: #00d7ff; text-decoration-color: #00d7ff\">None</span>, <span style=\"color: #00af00; text-decoration-color: #00af00\">128</span>, <span style=\"color: #00af00; text-decoration-color: #00af00\">128</span>, <span style=\"color: #00af00; text-decoration-color: #00af00\">3</span>)    │             <span style=\"color: #00af00; text-decoration-color: #00af00\">0</span> │\n",
       "├─────────────────────────────────┼────────────────────────┼───────────────┤\n",
       "│ subtract (<span style=\"color: #0087ff; text-decoration-color: #0087ff\">Subtract</span>)             │ (<span style=\"color: #00d7ff; text-decoration-color: #00d7ff\">None</span>, <span style=\"color: #00af00; text-decoration-color: #00af00\">128</span>, <span style=\"color: #00af00; text-decoration-color: #00af00\">128</span>, <span style=\"color: #00af00; text-decoration-color: #00af00\">3</span>)    │             <span style=\"color: #00af00; text-decoration-color: #00af00\">0</span> │\n",
       "├─────────────────────────────────┼────────────────────────┼───────────────┤\n",
       "│ xception (<span style=\"color: #0087ff; text-decoration-color: #0087ff\">Functional</span>)           │ (<span style=\"color: #00d7ff; text-decoration-color: #00d7ff\">None</span>, <span style=\"color: #00af00; text-decoration-color: #00af00\">4</span>, <span style=\"color: #00af00; text-decoration-color: #00af00\">4</span>, <span style=\"color: #00af00; text-decoration-color: #00af00\">2048</span>)     │    <span style=\"color: #00af00; text-decoration-color: #00af00\">20,861,480</span> │\n",
       "├─────────────────────────────────┼────────────────────────┼───────────────┤\n",
       "│ global_average_pooling2d        │ (<span style=\"color: #00d7ff; text-decoration-color: #00d7ff\">None</span>, <span style=\"color: #00af00; text-decoration-color: #00af00\">2048</span>)           │             <span style=\"color: #00af00; text-decoration-color: #00af00\">0</span> │\n",
       "│ (<span style=\"color: #0087ff; text-decoration-color: #0087ff\">GlobalAveragePooling2D</span>)        │                        │               │\n",
       "├─────────────────────────────────┼────────────────────────┼───────────────┤\n",
       "│ dropout (<span style=\"color: #0087ff; text-decoration-color: #0087ff\">Dropout</span>)               │ (<span style=\"color: #00d7ff; text-decoration-color: #00d7ff\">None</span>, <span style=\"color: #00af00; text-decoration-color: #00af00\">2048</span>)           │             <span style=\"color: #00af00; text-decoration-color: #00af00\">0</span> │\n",
       "├─────────────────────────────────┼────────────────────────┼───────────────┤\n",
       "│ dense (<span style=\"color: #0087ff; text-decoration-color: #0087ff\">Dense</span>)                   │ (<span style=\"color: #00d7ff; text-decoration-color: #00d7ff\">None</span>, <span style=\"color: #00af00; text-decoration-color: #00af00\">149</span>)            │       <span style=\"color: #00af00; text-decoration-color: #00af00\">305,301</span> │\n",
       "└─────────────────────────────────┴────────────────────────┴───────────────┘\n",
       "</pre>\n"
      ],
      "text/plain": [
       "┏━━━━━━━━━━━━━━━━━━━━━━━━━━━━━━━━━┳━━━━━━━━━━━━━━━━━━━━━━━━┳━━━━━━━━━━━━━━━┓\n",
       "┃\u001b[1m \u001b[0m\u001b[1mLayer (type)                   \u001b[0m\u001b[1m \u001b[0m┃\u001b[1m \u001b[0m\u001b[1mOutput Shape          \u001b[0m\u001b[1m \u001b[0m┃\u001b[1m \u001b[0m\u001b[1m      Param #\u001b[0m\u001b[1m \u001b[0m┃\n",
       "┡━━━━━━━━━━━━━━━━━━━━━━━━━━━━━━━━━╇━━━━━━━━━━━━━━━━━━━━━━━━╇━━━━━━━━━━━━━━━┩\n",
       "│ input_layer_2 (\u001b[38;5;33mInputLayer\u001b[0m)      │ (\u001b[38;5;45mNone\u001b[0m, \u001b[38;5;34m128\u001b[0m, \u001b[38;5;34m128\u001b[0m, \u001b[38;5;34m3\u001b[0m)    │             \u001b[38;5;34m0\u001b[0m │\n",
       "├─────────────────────────────────┼────────────────────────┼───────────────┤\n",
       "│ sequential (\u001b[38;5;33mSequential\u001b[0m)         │ (\u001b[38;5;45mNone\u001b[0m, \u001b[38;5;34m128\u001b[0m, \u001b[38;5;34m128\u001b[0m, \u001b[38;5;34m3\u001b[0m)    │             \u001b[38;5;34m0\u001b[0m │\n",
       "├─────────────────────────────────┼────────────────────────┼───────────────┤\n",
       "│ true_divide (\u001b[38;5;33mTrueDivide\u001b[0m)        │ (\u001b[38;5;45mNone\u001b[0m, \u001b[38;5;34m128\u001b[0m, \u001b[38;5;34m128\u001b[0m, \u001b[38;5;34m3\u001b[0m)    │             \u001b[38;5;34m0\u001b[0m │\n",
       "├─────────────────────────────────┼────────────────────────┼───────────────┤\n",
       "│ subtract (\u001b[38;5;33mSubtract\u001b[0m)             │ (\u001b[38;5;45mNone\u001b[0m, \u001b[38;5;34m128\u001b[0m, \u001b[38;5;34m128\u001b[0m, \u001b[38;5;34m3\u001b[0m)    │             \u001b[38;5;34m0\u001b[0m │\n",
       "├─────────────────────────────────┼────────────────────────┼───────────────┤\n",
       "│ xception (\u001b[38;5;33mFunctional\u001b[0m)           │ (\u001b[38;5;45mNone\u001b[0m, \u001b[38;5;34m4\u001b[0m, \u001b[38;5;34m4\u001b[0m, \u001b[38;5;34m2048\u001b[0m)     │    \u001b[38;5;34m20,861,480\u001b[0m │\n",
       "├─────────────────────────────────┼────────────────────────┼───────────────┤\n",
       "│ global_average_pooling2d        │ (\u001b[38;5;45mNone\u001b[0m, \u001b[38;5;34m2048\u001b[0m)           │             \u001b[38;5;34m0\u001b[0m │\n",
       "│ (\u001b[38;5;33mGlobalAveragePooling2D\u001b[0m)        │                        │               │\n",
       "├─────────────────────────────────┼────────────────────────┼───────────────┤\n",
       "│ dropout (\u001b[38;5;33mDropout\u001b[0m)               │ (\u001b[38;5;45mNone\u001b[0m, \u001b[38;5;34m2048\u001b[0m)           │             \u001b[38;5;34m0\u001b[0m │\n",
       "├─────────────────────────────────┼────────────────────────┼───────────────┤\n",
       "│ dense (\u001b[38;5;33mDense\u001b[0m)                   │ (\u001b[38;5;45mNone\u001b[0m, \u001b[38;5;34m149\u001b[0m)            │       \u001b[38;5;34m305,301\u001b[0m │\n",
       "└─────────────────────────────────┴────────────────────────┴───────────────┘\n"
      ]
     },
     "metadata": {},
     "output_type": "display_data"
    },
    {
     "data": {
      "text/html": [
       "<pre style=\"white-space:pre;overflow-x:auto;line-height:normal;font-family:Menlo,'DejaVu Sans Mono',consolas,'Courier New',monospace\"><span style=\"font-weight: bold\"> Total params: </span><span style=\"color: #00af00; text-decoration-color: #00af00\">21,166,781</span> (80.74 MB)\n",
       "</pre>\n"
      ],
      "text/plain": [
       "\u001b[1m Total params: \u001b[0m\u001b[38;5;34m21,166,781\u001b[0m (80.74 MB)\n"
      ]
     },
     "metadata": {},
     "output_type": "display_data"
    },
    {
     "data": {
      "text/html": [
       "<pre style=\"white-space:pre;overflow-x:auto;line-height:normal;font-family:Menlo,'DejaVu Sans Mono',consolas,'Courier New',monospace\"><span style=\"font-weight: bold\"> Trainable params: </span><span style=\"color: #00af00; text-decoration-color: #00af00\">305,301</span> (1.16 MB)\n",
       "</pre>\n"
      ],
      "text/plain": [
       "\u001b[1m Trainable params: \u001b[0m\u001b[38;5;34m305,301\u001b[0m (1.16 MB)\n"
      ]
     },
     "metadata": {},
     "output_type": "display_data"
    },
    {
     "data": {
      "text/html": [
       "<pre style=\"white-space:pre;overflow-x:auto;line-height:normal;font-family:Menlo,'DejaVu Sans Mono',consolas,'Courier New',monospace\"><span style=\"font-weight: bold\"> Non-trainable params: </span><span style=\"color: #00af00; text-decoration-color: #00af00\">20,861,480</span> (79.58 MB)\n",
       "</pre>\n"
      ],
      "text/plain": [
       "\u001b[1m Non-trainable params: \u001b[0m\u001b[38;5;34m20,861,480\u001b[0m (79.58 MB)\n"
      ]
     },
     "metadata": {},
     "output_type": "display_data"
    }
   ],
   "source": [
    "model.summary()"
   ]
  },
  {
   "cell_type": "code",
   "execution_count": 18,
   "id": "faffb2d3-6ce3-4fd9-91c8-b215c47b5b3b",
   "metadata": {},
   "outputs": [],
   "source": [
    "callback = tf.keras.callbacks.EarlyStopping(monitor='val_loss', patience=5, restore_best_weights=True)"
   ]
  },
  {
   "cell_type": "code",
   "execution_count": 19,
   "id": "bfb7780c-8faf-4db0-8da8-0bde293291de",
   "metadata": {},
   "outputs": [
    {
     "name": "stdout",
     "output_type": "stream",
     "text": [
      "Epoch 1/100\n",
      "\u001b[1m170/170\u001b[0m \u001b[32m━━━━━━━━━━━━━━━━━━━━\u001b[0m\u001b[37m\u001b[0m \u001b[1m19s\u001b[0m 86ms/step - accuracy: 0.1220 - loss: 4.5135 - val_accuracy: 0.3900 - val_loss: 2.7408\n",
      "Epoch 2/100\n",
      "\u001b[1m170/170\u001b[0m \u001b[32m━━━━━━━━━━━━━━━━━━━━\u001b[0m\u001b[37m\u001b[0m \u001b[1m13s\u001b[0m 77ms/step - accuracy: 0.5130 - loss: 2.2256 - val_accuracy: 0.4668 - val_loss: 2.3291\n",
      "Epoch 3/100\n",
      "\u001b[1m170/170\u001b[0m \u001b[32m━━━━━━━━━━━━━━━━━━━━\u001b[0m\u001b[37m\u001b[0m \u001b[1m14s\u001b[0m 79ms/step - accuracy: 0.6215 - loss: 1.7032 - val_accuracy: 0.4985 - val_loss: 2.1208\n",
      "Epoch 4/100\n",
      "\u001b[1m170/170\u001b[0m \u001b[32m━━━━━━━━━━━━━━━━━━━━\u001b[0m\u001b[37m\u001b[0m \u001b[1m14s\u001b[0m 82ms/step - accuracy: 0.6824 - loss: 1.4335 - val_accuracy: 0.5111 - val_loss: 2.0121\n",
      "Epoch 5/100\n",
      "\u001b[1m170/170\u001b[0m \u001b[32m━━━━━━━━━━━━━━━━━━━━\u001b[0m\u001b[37m\u001b[0m \u001b[1m14s\u001b[0m 83ms/step - accuracy: 0.7208 - loss: 1.2304 - val_accuracy: 0.5458 - val_loss: 1.9484\n",
      "Epoch 6/100\n",
      "\u001b[1m170/170\u001b[0m \u001b[32m━━━━━━━━━━━━━━━━━━━━\u001b[0m\u001b[37m\u001b[0m \u001b[1m15s\u001b[0m 87ms/step - accuracy: 0.7504 - loss: 1.0921 - val_accuracy: 0.5591 - val_loss: 1.8996\n",
      "Epoch 7/100\n",
      "\u001b[1m170/170\u001b[0m \u001b[32m━━━━━━━━━━━━━━━━━━━━\u001b[0m\u001b[37m\u001b[0m \u001b[1m14s\u001b[0m 84ms/step - accuracy: 0.7769 - loss: 0.9847 - val_accuracy: 0.5613 - val_loss: 1.8615\n",
      "Epoch 8/100\n",
      "\u001b[1m170/170\u001b[0m \u001b[32m━━━━━━━━━━━━━━━━━━━━\u001b[0m\u001b[37m\u001b[0m \u001b[1m15s\u001b[0m 86ms/step - accuracy: 0.7886 - loss: 0.9091 - val_accuracy: 0.5606 - val_loss: 1.8377\n",
      "Epoch 9/100\n",
      "\u001b[1m170/170\u001b[0m \u001b[32m━━━━━━━━━━━━━━━━━━━━\u001b[0m\u001b[37m\u001b[0m \u001b[1m16s\u001b[0m 92ms/step - accuracy: 0.8233 - loss: 0.8030 - val_accuracy: 0.5842 - val_loss: 1.8244\n",
      "Epoch 10/100\n",
      "\u001b[1m170/170\u001b[0m \u001b[32m━━━━━━━━━━━━━━━━━━━━\u001b[0m\u001b[37m\u001b[0m \u001b[1m17s\u001b[0m 98ms/step - accuracy: 0.8263 - loss: 0.7602 - val_accuracy: 0.5606 - val_loss: 1.8094\n",
      "Epoch 11/100\n",
      "\u001b[1m170/170\u001b[0m \u001b[32m━━━━━━━━━━━━━━━━━━━━\u001b[0m\u001b[37m\u001b[0m \u001b[1m15s\u001b[0m 89ms/step - accuracy: 0.8412 - loss: 0.7026 - val_accuracy: 0.5805 - val_loss: 1.7904\n",
      "Epoch 12/100\n",
      "\u001b[1m170/170\u001b[0m \u001b[32m━━━━━━━━━━━━━━━━━━━━\u001b[0m\u001b[37m\u001b[0m \u001b[1m15s\u001b[0m 89ms/step - accuracy: 0.8575 - loss: 0.6402 - val_accuracy: 0.5842 - val_loss: 1.7768\n",
      "Epoch 13/100\n",
      "\u001b[1m170/170\u001b[0m \u001b[32m━━━━━━━━━━━━━━━━━━━━\u001b[0m\u001b[37m\u001b[0m \u001b[1m15s\u001b[0m 89ms/step - accuracy: 0.8604 - loss: 0.6116 - val_accuracy: 0.5805 - val_loss: 1.7971\n",
      "Epoch 14/100\n",
      "\u001b[1m170/170\u001b[0m \u001b[32m━━━━━━━━━━━━━━━━━━━━\u001b[0m\u001b[37m\u001b[0m \u001b[1m15s\u001b[0m 87ms/step - accuracy: 0.8757 - loss: 0.5760 - val_accuracy: 0.5886 - val_loss: 1.7524\n",
      "Epoch 15/100\n",
      "\u001b[1m170/170\u001b[0m \u001b[32m━━━━━━━━━━━━━━━━━━━━\u001b[0m\u001b[37m\u001b[0m \u001b[1m14s\u001b[0m 83ms/step - accuracy: 0.8734 - loss: 0.5400 - val_accuracy: 0.5968 - val_loss: 1.7445\n",
      "Epoch 16/100\n",
      "\u001b[1m170/170\u001b[0m \u001b[32m━━━━━━━━━━━━━━━━━━━━\u001b[0m\u001b[37m\u001b[0m \u001b[1m14s\u001b[0m 83ms/step - accuracy: 0.8881 - loss: 0.5169 - val_accuracy: 0.5820 - val_loss: 1.7682\n",
      "Epoch 17/100\n",
      "\u001b[1m170/170\u001b[0m \u001b[32m━━━━━━━━━━━━━━━━━━━━\u001b[0m\u001b[37m\u001b[0m \u001b[1m15s\u001b[0m 91ms/step - accuracy: 0.8857 - loss: 0.4764 - val_accuracy: 0.6012 - val_loss: 1.7479\n",
      "Epoch 18/100\n",
      "\u001b[1m170/170\u001b[0m \u001b[32m━━━━━━━━━━━━━━━━━━━━\u001b[0m\u001b[37m\u001b[0m \u001b[1m17s\u001b[0m 102ms/step - accuracy: 0.8955 - loss: 0.4722 - val_accuracy: 0.5916 - val_loss: 1.7886\n",
      "Epoch 19/100\n",
      "\u001b[1m170/170\u001b[0m \u001b[32m━━━━━━━━━━━━━━━━━━━━\u001b[0m\u001b[37m\u001b[0m \u001b[1m18s\u001b[0m 105ms/step - accuracy: 0.8911 - loss: 0.4627 - val_accuracy: 0.5864 - val_loss: 1.7618\n",
      "Epoch 20/100\n",
      "\u001b[1m170/170\u001b[0m \u001b[32m━━━━━━━━━━━━━━━━━━━━\u001b[0m\u001b[37m\u001b[0m \u001b[1m19s\u001b[0m 110ms/step - accuracy: 0.8924 - loss: 0.4579 - val_accuracy: 0.5960 - val_loss: 1.7792\n"
     ]
    },
    {
     "data": {
      "text/plain": [
       "<keras.src.callbacks.history.History at 0x7f578bfc68b0>"
      ]
     },
     "execution_count": 19,
     "metadata": {},
     "output_type": "execute_result"
    }
   ],
   "source": [
    "model.fit(train_dataset,  validation_data=(validation_dataset), epochs=100, callbacks=[callback])"
   ]
  },
  {
   "cell_type": "markdown",
   "id": "2bde9ae0-2677-424a-bef0-ccc5ca8f017c",
   "metadata": {},
   "source": [
    "accuracy: 0.8734 - loss: 0.5400 - val_accuracy: 0.5968 - val_loss: 1.7445\n",
    "\n",
    "Dropout didn't help. Oh well\n",
    "\n",
    "Now let's try more Dense layers, again I don't think it'll do much but worth a try"
   ]
  },
  {
   "cell_type": "code",
   "execution_count": 65,
   "id": "74966fe1-5bdb-437d-af48-f72ffcce65ec",
   "metadata": {},
   "outputs": [],
   "source": [
    "x = data_augmentation_layers(inputs)\n",
    "x = tf.keras.applications.xception.preprocess_input(x)\n",
    "x = base_model(x, training=False)\n",
    "x = tf.keras.layers.GlobalAveragePooling2D()(x)\n",
    "x = tf.keras.layers.Dense(1024, activation='relu')(x)\n",
    "x = tf.keras.layers.Dense(1024, activation='relu')(x)\n",
    "outputs = tf.keras.layers.Dense(num_classes)(x)\n",
    "model = tf.keras.Model(inputs, outputs)"
   ]
  },
  {
   "cell_type": "code",
   "execution_count": 66,
   "id": "38fa8f0a-12e9-482e-b6c4-fb1d1d71d26f",
   "metadata": {},
   "outputs": [
    {
     "data": {
      "text/html": [
       "<pre style=\"white-space:pre;overflow-x:auto;line-height:normal;font-family:Menlo,'DejaVu Sans Mono',consolas,'Courier New',monospace\"><span style=\"font-weight: bold\">Model: \"functional_23\"</span>\n",
       "</pre>\n"
      ],
      "text/plain": [
       "\u001b[1mModel: \"functional_23\"\u001b[0m\n"
      ]
     },
     "metadata": {},
     "output_type": "display_data"
    },
    {
     "data": {
      "text/html": [
       "<pre style=\"white-space:pre;overflow-x:auto;line-height:normal;font-family:Menlo,'DejaVu Sans Mono',consolas,'Courier New',monospace\">┏━━━━━━━━━━━━━━━━━━━━━━━━━━━━━━━━━┳━━━━━━━━━━━━━━━━━━━━━━━━┳━━━━━━━━━━━━━━━┓\n",
       "┃<span style=\"font-weight: bold\"> Layer (type)                    </span>┃<span style=\"font-weight: bold\"> Output Shape           </span>┃<span style=\"font-weight: bold\">       Param # </span>┃\n",
       "┡━━━━━━━━━━━━━━━━━━━━━━━━━━━━━━━━━╇━━━━━━━━━━━━━━━━━━━━━━━━╇━━━━━━━━━━━━━━━┩\n",
       "│ input_layer_27 (<span style=\"color: #0087ff; text-decoration-color: #0087ff\">InputLayer</span>)     │ (<span style=\"color: #00d7ff; text-decoration-color: #00d7ff\">None</span>, <span style=\"color: #00af00; text-decoration-color: #00af00\">128</span>, <span style=\"color: #00af00; text-decoration-color: #00af00\">128</span>, <span style=\"color: #00af00; text-decoration-color: #00af00\">3</span>)    │             <span style=\"color: #00af00; text-decoration-color: #00af00\">0</span> │\n",
       "├─────────────────────────────────┼────────────────────────┼───────────────┤\n",
       "│ sequential_5 (<span style=\"color: #0087ff; text-decoration-color: #0087ff\">Sequential</span>)       │ (<span style=\"color: #00d7ff; text-decoration-color: #00d7ff\">None</span>, <span style=\"color: #00af00; text-decoration-color: #00af00\">128</span>, <span style=\"color: #00af00; text-decoration-color: #00af00\">128</span>, <span style=\"color: #00af00; text-decoration-color: #00af00\">3</span>)    │             <span style=\"color: #00af00; text-decoration-color: #00af00\">0</span> │\n",
       "├─────────────────────────────────┼────────────────────────┼───────────────┤\n",
       "│ true_divide_9 (<span style=\"color: #0087ff; text-decoration-color: #0087ff\">TrueDivide</span>)      │ (<span style=\"color: #00d7ff; text-decoration-color: #00d7ff\">None</span>, <span style=\"color: #00af00; text-decoration-color: #00af00\">128</span>, <span style=\"color: #00af00; text-decoration-color: #00af00\">128</span>, <span style=\"color: #00af00; text-decoration-color: #00af00\">3</span>)    │             <span style=\"color: #00af00; text-decoration-color: #00af00\">0</span> │\n",
       "├─────────────────────────────────┼────────────────────────┼───────────────┤\n",
       "│ subtract_9 (<span style=\"color: #0087ff; text-decoration-color: #0087ff\">Subtract</span>)           │ (<span style=\"color: #00d7ff; text-decoration-color: #00d7ff\">None</span>, <span style=\"color: #00af00; text-decoration-color: #00af00\">128</span>, <span style=\"color: #00af00; text-decoration-color: #00af00\">128</span>, <span style=\"color: #00af00; text-decoration-color: #00af00\">3</span>)    │             <span style=\"color: #00af00; text-decoration-color: #00af00\">0</span> │\n",
       "├─────────────────────────────────┼────────────────────────┼───────────────┤\n",
       "│ xception (<span style=\"color: #0087ff; text-decoration-color: #0087ff\">Functional</span>)           │ (<span style=\"color: #00d7ff; text-decoration-color: #00d7ff\">None</span>, <span style=\"color: #00af00; text-decoration-color: #00af00\">4</span>, <span style=\"color: #00af00; text-decoration-color: #00af00\">4</span>, <span style=\"color: #00af00; text-decoration-color: #00af00\">2048</span>)     │    <span style=\"color: #00af00; text-decoration-color: #00af00\">20,861,480</span> │\n",
       "├─────────────────────────────────┼────────────────────────┼───────────────┤\n",
       "│ global_average_pooling2d_8      │ (<span style=\"color: #00d7ff; text-decoration-color: #00d7ff\">None</span>, <span style=\"color: #00af00; text-decoration-color: #00af00\">2048</span>)           │             <span style=\"color: #00af00; text-decoration-color: #00af00\">0</span> │\n",
       "│ (<span style=\"color: #0087ff; text-decoration-color: #0087ff\">GlobalAveragePooling2D</span>)        │                        │               │\n",
       "├─────────────────────────────────┼────────────────────────┼───────────────┤\n",
       "│ dense_11 (<span style=\"color: #0087ff; text-decoration-color: #0087ff\">Dense</span>)                │ (<span style=\"color: #00d7ff; text-decoration-color: #00d7ff\">None</span>, <span style=\"color: #00af00; text-decoration-color: #00af00\">1024</span>)           │     <span style=\"color: #00af00; text-decoration-color: #00af00\">2,098,176</span> │\n",
       "├─────────────────────────────────┼────────────────────────┼───────────────┤\n",
       "│ dense_12 (<span style=\"color: #0087ff; text-decoration-color: #0087ff\">Dense</span>)                │ (<span style=\"color: #00d7ff; text-decoration-color: #00d7ff\">None</span>, <span style=\"color: #00af00; text-decoration-color: #00af00\">1024</span>)           │     <span style=\"color: #00af00; text-decoration-color: #00af00\">1,049,600</span> │\n",
       "├─────────────────────────────────┼────────────────────────┼───────────────┤\n",
       "│ dense_13 (<span style=\"color: #0087ff; text-decoration-color: #0087ff\">Dense</span>)                │ (<span style=\"color: #00d7ff; text-decoration-color: #00d7ff\">None</span>, <span style=\"color: #00af00; text-decoration-color: #00af00\">149</span>)            │       <span style=\"color: #00af00; text-decoration-color: #00af00\">152,725</span> │\n",
       "└─────────────────────────────────┴────────────────────────┴───────────────┘\n",
       "</pre>\n"
      ],
      "text/plain": [
       "┏━━━━━━━━━━━━━━━━━━━━━━━━━━━━━━━━━┳━━━━━━━━━━━━━━━━━━━━━━━━┳━━━━━━━━━━━━━━━┓\n",
       "┃\u001b[1m \u001b[0m\u001b[1mLayer (type)                   \u001b[0m\u001b[1m \u001b[0m┃\u001b[1m \u001b[0m\u001b[1mOutput Shape          \u001b[0m\u001b[1m \u001b[0m┃\u001b[1m \u001b[0m\u001b[1m      Param #\u001b[0m\u001b[1m \u001b[0m┃\n",
       "┡━━━━━━━━━━━━━━━━━━━━━━━━━━━━━━━━━╇━━━━━━━━━━━━━━━━━━━━━━━━╇━━━━━━━━━━━━━━━┩\n",
       "│ input_layer_27 (\u001b[38;5;33mInputLayer\u001b[0m)     │ (\u001b[38;5;45mNone\u001b[0m, \u001b[38;5;34m128\u001b[0m, \u001b[38;5;34m128\u001b[0m, \u001b[38;5;34m3\u001b[0m)    │             \u001b[38;5;34m0\u001b[0m │\n",
       "├─────────────────────────────────┼────────────────────────┼───────────────┤\n",
       "│ sequential_5 (\u001b[38;5;33mSequential\u001b[0m)       │ (\u001b[38;5;45mNone\u001b[0m, \u001b[38;5;34m128\u001b[0m, \u001b[38;5;34m128\u001b[0m, \u001b[38;5;34m3\u001b[0m)    │             \u001b[38;5;34m0\u001b[0m │\n",
       "├─────────────────────────────────┼────────────────────────┼───────────────┤\n",
       "│ true_divide_9 (\u001b[38;5;33mTrueDivide\u001b[0m)      │ (\u001b[38;5;45mNone\u001b[0m, \u001b[38;5;34m128\u001b[0m, \u001b[38;5;34m128\u001b[0m, \u001b[38;5;34m3\u001b[0m)    │             \u001b[38;5;34m0\u001b[0m │\n",
       "├─────────────────────────────────┼────────────────────────┼───────────────┤\n",
       "│ subtract_9 (\u001b[38;5;33mSubtract\u001b[0m)           │ (\u001b[38;5;45mNone\u001b[0m, \u001b[38;5;34m128\u001b[0m, \u001b[38;5;34m128\u001b[0m, \u001b[38;5;34m3\u001b[0m)    │             \u001b[38;5;34m0\u001b[0m │\n",
       "├─────────────────────────────────┼────────────────────────┼───────────────┤\n",
       "│ xception (\u001b[38;5;33mFunctional\u001b[0m)           │ (\u001b[38;5;45mNone\u001b[0m, \u001b[38;5;34m4\u001b[0m, \u001b[38;5;34m4\u001b[0m, \u001b[38;5;34m2048\u001b[0m)     │    \u001b[38;5;34m20,861,480\u001b[0m │\n",
       "├─────────────────────────────────┼────────────────────────┼───────────────┤\n",
       "│ global_average_pooling2d_8      │ (\u001b[38;5;45mNone\u001b[0m, \u001b[38;5;34m2048\u001b[0m)           │             \u001b[38;5;34m0\u001b[0m │\n",
       "│ (\u001b[38;5;33mGlobalAveragePooling2D\u001b[0m)        │                        │               │\n",
       "├─────────────────────────────────┼────────────────────────┼───────────────┤\n",
       "│ dense_11 (\u001b[38;5;33mDense\u001b[0m)                │ (\u001b[38;5;45mNone\u001b[0m, \u001b[38;5;34m1024\u001b[0m)           │     \u001b[38;5;34m2,098,176\u001b[0m │\n",
       "├─────────────────────────────────┼────────────────────────┼───────────────┤\n",
       "│ dense_12 (\u001b[38;5;33mDense\u001b[0m)                │ (\u001b[38;5;45mNone\u001b[0m, \u001b[38;5;34m1024\u001b[0m)           │     \u001b[38;5;34m1,049,600\u001b[0m │\n",
       "├─────────────────────────────────┼────────────────────────┼───────────────┤\n",
       "│ dense_13 (\u001b[38;5;33mDense\u001b[0m)                │ (\u001b[38;5;45mNone\u001b[0m, \u001b[38;5;34m149\u001b[0m)            │       \u001b[38;5;34m152,725\u001b[0m │\n",
       "└─────────────────────────────────┴────────────────────────┴───────────────┘\n"
      ]
     },
     "metadata": {},
     "output_type": "display_data"
    },
    {
     "data": {
      "text/html": [
       "<pre style=\"white-space:pre;overflow-x:auto;line-height:normal;font-family:Menlo,'DejaVu Sans Mono',consolas,'Courier New',monospace\"><span style=\"font-weight: bold\"> Total params: </span><span style=\"color: #00af00; text-decoration-color: #00af00\">24,161,981</span> (92.17 MB)\n",
       "</pre>\n"
      ],
      "text/plain": [
       "\u001b[1m Total params: \u001b[0m\u001b[38;5;34m24,161,981\u001b[0m (92.17 MB)\n"
      ]
     },
     "metadata": {},
     "output_type": "display_data"
    },
    {
     "data": {
      "text/html": [
       "<pre style=\"white-space:pre;overflow-x:auto;line-height:normal;font-family:Menlo,'DejaVu Sans Mono',consolas,'Courier New',monospace\"><span style=\"font-weight: bold\"> Trainable params: </span><span style=\"color: #00af00; text-decoration-color: #00af00\">3,300,501</span> (12.59 MB)\n",
       "</pre>\n"
      ],
      "text/plain": [
       "\u001b[1m Trainable params: \u001b[0m\u001b[38;5;34m3,300,501\u001b[0m (12.59 MB)\n"
      ]
     },
     "metadata": {},
     "output_type": "display_data"
    },
    {
     "data": {
      "text/html": [
       "<pre style=\"white-space:pre;overflow-x:auto;line-height:normal;font-family:Menlo,'DejaVu Sans Mono',consolas,'Courier New',monospace\"><span style=\"font-weight: bold\"> Non-trainable params: </span><span style=\"color: #00af00; text-decoration-color: #00af00\">20,861,480</span> (79.58 MB)\n",
       "</pre>\n"
      ],
      "text/plain": [
       "\u001b[1m Non-trainable params: \u001b[0m\u001b[38;5;34m20,861,480\u001b[0m (79.58 MB)\n"
      ]
     },
     "metadata": {},
     "output_type": "display_data"
    }
   ],
   "source": [
    "model.compile(optimizer=tf.keras.optimizers.Adam(),\n",
    "              loss=tf.keras.losses.CategoricalCrossentropy(from_logits=True),\n",
    "              metrics=['accuracy'])\n",
    "model.summary()"
   ]
  },
  {
   "cell_type": "code",
   "execution_count": 67,
   "id": "839a9f9f-bb9f-4ebc-ae14-6257a6320bb9",
   "metadata": {},
   "outputs": [
    {
     "name": "stdout",
     "output_type": "stream",
     "text": [
      "Epoch 1/100\n",
      "\u001b[1m170/170\u001b[0m \u001b[32m━━━━━━━━━━━━━━━━━━━━\u001b[0m\u001b[37m\u001b[0m \u001b[1m27s\u001b[0m 103ms/step - accuracy: 0.0845 - loss: 4.5476 - val_accuracy: 0.3117 - val_loss: 2.9071\n",
      "Epoch 2/100\n",
      "\u001b[1m170/170\u001b[0m \u001b[32m━━━━━━━━━━━━━━━━━━━━\u001b[0m\u001b[37m\u001b[0m \u001b[1m16s\u001b[0m 93ms/step - accuracy: 0.3812 - loss: 2.5471 - val_accuracy: 0.4077 - val_loss: 2.3484\n",
      "Epoch 3/100\n",
      "\u001b[1m170/170\u001b[0m \u001b[32m━━━━━━━━━━━━━━━━━━━━\u001b[0m\u001b[37m\u001b[0m \u001b[1m17s\u001b[0m 97ms/step - accuracy: 0.5101 - loss: 1.8980 - val_accuracy: 0.4727 - val_loss: 2.1754\n",
      "Epoch 4/100\n",
      "\u001b[1m170/170\u001b[0m \u001b[32m━━━━━━━━━━━━━━━━━━━━\u001b[0m\u001b[37m\u001b[0m \u001b[1m17s\u001b[0m 97ms/step - accuracy: 0.5899 - loss: 1.5355 - val_accuracy: 0.4705 - val_loss: 2.1745\n",
      "Epoch 5/100\n",
      "\u001b[1m170/170\u001b[0m \u001b[32m━━━━━━━━━━━━━━━━━━━━\u001b[0m\u001b[37m\u001b[0m \u001b[1m16s\u001b[0m 96ms/step - accuracy: 0.6406 - loss: 1.2640 - val_accuracy: 0.4852 - val_loss: 2.1772\n",
      "Epoch 6/100\n",
      "\u001b[1m170/170\u001b[0m \u001b[32m━━━━━━━━━━━━━━━━━━━━\u001b[0m\u001b[37m\u001b[0m \u001b[1m16s\u001b[0m 96ms/step - accuracy: 0.7101 - loss: 1.0751 - val_accuracy: 0.4897 - val_loss: 2.1937\n",
      "Epoch 7/100\n",
      "\u001b[1m170/170\u001b[0m \u001b[32m━━━━━━━━━━━━━━━━━━━━\u001b[0m\u001b[37m\u001b[0m \u001b[1m16s\u001b[0m 95ms/step - accuracy: 0.7343 - loss: 0.9163 - val_accuracy: 0.5096 - val_loss: 2.2129\n",
      "Epoch 8/100\n",
      "\u001b[1m170/170\u001b[0m \u001b[32m━━━━━━━━━━━━━━━━━━━━\u001b[0m\u001b[37m\u001b[0m \u001b[1m16s\u001b[0m 96ms/step - accuracy: 0.7752 - loss: 0.7779 - val_accuracy: 0.5111 - val_loss: 2.2611\n",
      "Epoch 9/100\n",
      "\u001b[1m170/170\u001b[0m \u001b[32m━━━━━━━━━━━━━━━━━━━━\u001b[0m\u001b[37m\u001b[0m \u001b[1m21s\u001b[0m 96ms/step - accuracy: 0.7995 - loss: 0.6961 - val_accuracy: 0.5222 - val_loss: 2.2019\n",
      "Epoch 10/100\n",
      "\u001b[1m170/170\u001b[0m \u001b[32m━━━━━━━━━━━━━━━━━━━━\u001b[0m\u001b[37m\u001b[0m \u001b[1m17s\u001b[0m 98ms/step - accuracy: 0.8067 - loss: 0.6467 - val_accuracy: 0.5118 - val_loss: 2.2941\n",
      "Epoch 11/100\n",
      "\u001b[1m170/170\u001b[0m \u001b[32m━━━━━━━━━━━━━━━━━━━━\u001b[0m\u001b[37m\u001b[0m \u001b[1m17s\u001b[0m 98ms/step - accuracy: 0.8333 - loss: 0.5857 - val_accuracy: 0.5177 - val_loss: 2.2705\n",
      "Epoch 12/100\n",
      "\u001b[1m170/170\u001b[0m \u001b[32m━━━━━━━━━━━━━━━━━━━━\u001b[0m\u001b[37m\u001b[0m \u001b[1m16s\u001b[0m 96ms/step - accuracy: 0.8505 - loss: 0.5406 - val_accuracy: 0.5148 - val_loss: 2.3889\n"
     ]
    },
    {
     "data": {
      "text/plain": [
       "<keras.src.callbacks.history.History at 0x7f56229a4100>"
      ]
     },
     "execution_count": 67,
     "metadata": {},
     "output_type": "execute_result"
    }
   ],
   "source": [
    "callback = tf.keras.callbacks.EarlyStopping(monitor='val_loss', patience=8, restore_best_weights=True)\n",
    "model.fit(train_dataset,  validation_data=(validation_dataset), epochs=100, callbacks=[callback])"
   ]
  },
  {
   "cell_type": "markdown",
   "id": "25b140d2-db8d-45bb-ab09-2600fff15929",
   "metadata": {},
   "source": [
    "More parameters, longer training time and..... it's performance is not better. I even tried a patience of 8 to give it some more time to turn things around - didn't work\n",
    "\n",
    "Would a different data augmentation do anything?"
   ]
  },
  {
   "cell_type": "code",
   "execution_count": 27,
   "id": "e2995460-ed90-410a-b74b-d90d6b17db73",
   "metadata": {},
   "outputs": [],
   "source": [
    "data_augmentation = tf.keras.Sequential([\n",
    "  layers.RandomFlip(\"horizontal_and_vertical\"),\n",
    "  layers.RandomRotation(0.2),\n",
    "])\n"
   ]
  },
  {
   "cell_type": "code",
   "execution_count": 29,
   "id": "4c68acb8-f5a1-4353-8755-273450e94cdb",
   "metadata": {},
   "outputs": [],
   "source": [
    "x = data_augmentation(inputs)\n",
    "x = tf.keras.applications.xception.preprocess_input(x)\n",
    "x = base_model(x, training=False)\n",
    "x = tf.keras.layers.GlobalAveragePooling2D()(x)\n",
    "outputs = tf.keras.layers.Dense(num_classes)(x)\n",
    "model = tf.keras.Model(inputs, outputs)"
   ]
  },
  {
   "cell_type": "code",
   "execution_count": 30,
   "id": "c512b331-a725-45ff-9532-b4b8d3c3c70a",
   "metadata": {},
   "outputs": [
    {
     "data": {
      "text/html": [
       "<pre style=\"white-space:pre;overflow-x:auto;line-height:normal;font-family:Menlo,'DejaVu Sans Mono',consolas,'Courier New',monospace\"><span style=\"font-weight: bold\">Model: \"functional_11\"</span>\n",
       "</pre>\n"
      ],
      "text/plain": [
       "\u001b[1mModel: \"functional_11\"\u001b[0m\n"
      ]
     },
     "metadata": {},
     "output_type": "display_data"
    },
    {
     "data": {
      "text/html": [
       "<pre style=\"white-space:pre;overflow-x:auto;line-height:normal;font-family:Menlo,'DejaVu Sans Mono',consolas,'Courier New',monospace\">┏━━━━━━━━━━━━━━━━━━━━━━━━━━━━━━━━━┳━━━━━━━━━━━━━━━━━━━━━━━━┳━━━━━━━━━━━━━━━┓\n",
       "┃<span style=\"font-weight: bold\"> Layer (type)                    </span>┃<span style=\"font-weight: bold\"> Output Shape           </span>┃<span style=\"font-weight: bold\">       Param # </span>┃\n",
       "┡━━━━━━━━━━━━━━━━━━━━━━━━━━━━━━━━━╇━━━━━━━━━━━━━━━━━━━━━━━━╇━━━━━━━━━━━━━━━┩\n",
       "│ input_layer_2 (<span style=\"color: #0087ff; text-decoration-color: #0087ff\">InputLayer</span>)      │ (<span style=\"color: #00d7ff; text-decoration-color: #00d7ff\">None</span>, <span style=\"color: #00af00; text-decoration-color: #00af00\">128</span>, <span style=\"color: #00af00; text-decoration-color: #00af00\">128</span>, <span style=\"color: #00af00; text-decoration-color: #00af00\">3</span>)    │             <span style=\"color: #00af00; text-decoration-color: #00af00\">0</span> │\n",
       "├─────────────────────────────────┼────────────────────────┼───────────────┤\n",
       "│ sequential_1 (<span style=\"color: #0087ff; text-decoration-color: #0087ff\">Sequential</span>)       │ (<span style=\"color: #00d7ff; text-decoration-color: #00d7ff\">None</span>, <span style=\"color: #00af00; text-decoration-color: #00af00\">128</span>, <span style=\"color: #00af00; text-decoration-color: #00af00\">128</span>, <span style=\"color: #00af00; text-decoration-color: #00af00\">3</span>)    │             <span style=\"color: #00af00; text-decoration-color: #00af00\">0</span> │\n",
       "├─────────────────────────────────┼────────────────────────┼───────────────┤\n",
       "│ true_divide_4 (<span style=\"color: #0087ff; text-decoration-color: #0087ff\">TrueDivide</span>)      │ (<span style=\"color: #00d7ff; text-decoration-color: #00d7ff\">None</span>, <span style=\"color: #00af00; text-decoration-color: #00af00\">128</span>, <span style=\"color: #00af00; text-decoration-color: #00af00\">128</span>, <span style=\"color: #00af00; text-decoration-color: #00af00\">3</span>)    │             <span style=\"color: #00af00; text-decoration-color: #00af00\">0</span> │\n",
       "├─────────────────────────────────┼────────────────────────┼───────────────┤\n",
       "│ subtract_4 (<span style=\"color: #0087ff; text-decoration-color: #0087ff\">Subtract</span>)           │ (<span style=\"color: #00d7ff; text-decoration-color: #00d7ff\">None</span>, <span style=\"color: #00af00; text-decoration-color: #00af00\">128</span>, <span style=\"color: #00af00; text-decoration-color: #00af00\">128</span>, <span style=\"color: #00af00; text-decoration-color: #00af00\">3</span>)    │             <span style=\"color: #00af00; text-decoration-color: #00af00\">0</span> │\n",
       "├─────────────────────────────────┼────────────────────────┼───────────────┤\n",
       "│ xception (<span style=\"color: #0087ff; text-decoration-color: #0087ff\">Functional</span>)           │ (<span style=\"color: #00d7ff; text-decoration-color: #00d7ff\">None</span>, <span style=\"color: #00af00; text-decoration-color: #00af00\">4</span>, <span style=\"color: #00af00; text-decoration-color: #00af00\">4</span>, <span style=\"color: #00af00; text-decoration-color: #00af00\">2048</span>)     │    <span style=\"color: #00af00; text-decoration-color: #00af00\">20,861,480</span> │\n",
       "├─────────────────────────────────┼────────────────────────┼───────────────┤\n",
       "│ global_average_pooling2d_4      │ (<span style=\"color: #00d7ff; text-decoration-color: #00d7ff\">None</span>, <span style=\"color: #00af00; text-decoration-color: #00af00\">2048</span>)           │             <span style=\"color: #00af00; text-decoration-color: #00af00\">0</span> │\n",
       "│ (<span style=\"color: #0087ff; text-decoration-color: #0087ff\">GlobalAveragePooling2D</span>)        │                        │               │\n",
       "├─────────────────────────────────┼────────────────────────┼───────────────┤\n",
       "│ dense_7 (<span style=\"color: #0087ff; text-decoration-color: #0087ff\">Dense</span>)                 │ (<span style=\"color: #00d7ff; text-decoration-color: #00d7ff\">None</span>, <span style=\"color: #00af00; text-decoration-color: #00af00\">149</span>)            │       <span style=\"color: #00af00; text-decoration-color: #00af00\">305,301</span> │\n",
       "└─────────────────────────────────┴────────────────────────┴───────────────┘\n",
       "</pre>\n"
      ],
      "text/plain": [
       "┏━━━━━━━━━━━━━━━━━━━━━━━━━━━━━━━━━┳━━━━━━━━━━━━━━━━━━━━━━━━┳━━━━━━━━━━━━━━━┓\n",
       "┃\u001b[1m \u001b[0m\u001b[1mLayer (type)                   \u001b[0m\u001b[1m \u001b[0m┃\u001b[1m \u001b[0m\u001b[1mOutput Shape          \u001b[0m\u001b[1m \u001b[0m┃\u001b[1m \u001b[0m\u001b[1m      Param #\u001b[0m\u001b[1m \u001b[0m┃\n",
       "┡━━━━━━━━━━━━━━━━━━━━━━━━━━━━━━━━━╇━━━━━━━━━━━━━━━━━━━━━━━━╇━━━━━━━━━━━━━━━┩\n",
       "│ input_layer_2 (\u001b[38;5;33mInputLayer\u001b[0m)      │ (\u001b[38;5;45mNone\u001b[0m, \u001b[38;5;34m128\u001b[0m, \u001b[38;5;34m128\u001b[0m, \u001b[38;5;34m3\u001b[0m)    │             \u001b[38;5;34m0\u001b[0m │\n",
       "├─────────────────────────────────┼────────────────────────┼───────────────┤\n",
       "│ sequential_1 (\u001b[38;5;33mSequential\u001b[0m)       │ (\u001b[38;5;45mNone\u001b[0m, \u001b[38;5;34m128\u001b[0m, \u001b[38;5;34m128\u001b[0m, \u001b[38;5;34m3\u001b[0m)    │             \u001b[38;5;34m0\u001b[0m │\n",
       "├─────────────────────────────────┼────────────────────────┼───────────────┤\n",
       "│ true_divide_4 (\u001b[38;5;33mTrueDivide\u001b[0m)      │ (\u001b[38;5;45mNone\u001b[0m, \u001b[38;5;34m128\u001b[0m, \u001b[38;5;34m128\u001b[0m, \u001b[38;5;34m3\u001b[0m)    │             \u001b[38;5;34m0\u001b[0m │\n",
       "├─────────────────────────────────┼────────────────────────┼───────────────┤\n",
       "│ subtract_4 (\u001b[38;5;33mSubtract\u001b[0m)           │ (\u001b[38;5;45mNone\u001b[0m, \u001b[38;5;34m128\u001b[0m, \u001b[38;5;34m128\u001b[0m, \u001b[38;5;34m3\u001b[0m)    │             \u001b[38;5;34m0\u001b[0m │\n",
       "├─────────────────────────────────┼────────────────────────┼───────────────┤\n",
       "│ xception (\u001b[38;5;33mFunctional\u001b[0m)           │ (\u001b[38;5;45mNone\u001b[0m, \u001b[38;5;34m4\u001b[0m, \u001b[38;5;34m4\u001b[0m, \u001b[38;5;34m2048\u001b[0m)     │    \u001b[38;5;34m20,861,480\u001b[0m │\n",
       "├─────────────────────────────────┼────────────────────────┼───────────────┤\n",
       "│ global_average_pooling2d_4      │ (\u001b[38;5;45mNone\u001b[0m, \u001b[38;5;34m2048\u001b[0m)           │             \u001b[38;5;34m0\u001b[0m │\n",
       "│ (\u001b[38;5;33mGlobalAveragePooling2D\u001b[0m)        │                        │               │\n",
       "├─────────────────────────────────┼────────────────────────┼───────────────┤\n",
       "│ dense_7 (\u001b[38;5;33mDense\u001b[0m)                 │ (\u001b[38;5;45mNone\u001b[0m, \u001b[38;5;34m149\u001b[0m)            │       \u001b[38;5;34m305,301\u001b[0m │\n",
       "└─────────────────────────────────┴────────────────────────┴───────────────┘\n"
      ]
     },
     "metadata": {},
     "output_type": "display_data"
    },
    {
     "data": {
      "text/html": [
       "<pre style=\"white-space:pre;overflow-x:auto;line-height:normal;font-family:Menlo,'DejaVu Sans Mono',consolas,'Courier New',monospace\"><span style=\"font-weight: bold\"> Total params: </span><span style=\"color: #00af00; text-decoration-color: #00af00\">21,166,781</span> (80.74 MB)\n",
       "</pre>\n"
      ],
      "text/plain": [
       "\u001b[1m Total params: \u001b[0m\u001b[38;5;34m21,166,781\u001b[0m (80.74 MB)\n"
      ]
     },
     "metadata": {},
     "output_type": "display_data"
    },
    {
     "data": {
      "text/html": [
       "<pre style=\"white-space:pre;overflow-x:auto;line-height:normal;font-family:Menlo,'DejaVu Sans Mono',consolas,'Courier New',monospace\"><span style=\"font-weight: bold\"> Trainable params: </span><span style=\"color: #00af00; text-decoration-color: #00af00\">305,301</span> (1.16 MB)\n",
       "</pre>\n"
      ],
      "text/plain": [
       "\u001b[1m Trainable params: \u001b[0m\u001b[38;5;34m305,301\u001b[0m (1.16 MB)\n"
      ]
     },
     "metadata": {},
     "output_type": "display_data"
    },
    {
     "data": {
      "text/html": [
       "<pre style=\"white-space:pre;overflow-x:auto;line-height:normal;font-family:Menlo,'DejaVu Sans Mono',consolas,'Courier New',monospace\"><span style=\"font-weight: bold\"> Non-trainable params: </span><span style=\"color: #00af00; text-decoration-color: #00af00\">20,861,480</span> (79.58 MB)\n",
       "</pre>\n"
      ],
      "text/plain": [
       "\u001b[1m Non-trainable params: \u001b[0m\u001b[38;5;34m20,861,480\u001b[0m (79.58 MB)\n"
      ]
     },
     "metadata": {},
     "output_type": "display_data"
    }
   ],
   "source": [
    "model.compile(optimizer=tf.keras.optimizers.Adam(),\n",
    "              loss=tf.keras.losses.CategoricalCrossentropy(from_logits=True),\n",
    "              metrics=['accuracy'])\n",
    "model.summary()"
   ]
  },
  {
   "cell_type": "code",
   "execution_count": 31,
   "id": "915b3945-7d71-4755-a152-54bc512dd958",
   "metadata": {},
   "outputs": [
    {
     "name": "stdout",
     "output_type": "stream",
     "text": [
      "Epoch 1/100\n",
      "\u001b[1m170/170\u001b[0m \u001b[32m━━━━━━━━━━━━━━━━━━━━\u001b[0m\u001b[37m\u001b[0m \u001b[1m16s\u001b[0m 78ms/step - accuracy: 0.1156 - loss: 4.5430 - val_accuracy: 0.3242 - val_loss: 2.9996\n",
      "Epoch 2/100\n",
      "\u001b[1m170/170\u001b[0m \u001b[32m━━━━━━━━━━━━━━━━━━━━\u001b[0m\u001b[37m\u001b[0m \u001b[1m14s\u001b[0m 80ms/step - accuracy: 0.4563 - loss: 2.4432 - val_accuracy: 0.4106 - val_loss: 2.5898\n",
      "Epoch 3/100\n",
      "\u001b[1m170/170\u001b[0m \u001b[32m━━━━━━━━━━━━━━━━━━━━\u001b[0m\u001b[37m\u001b[0m \u001b[1m14s\u001b[0m 82ms/step - accuracy: 0.5585 - loss: 1.9651 - val_accuracy: 0.4291 - val_loss: 2.3922\n",
      "Epoch 4/100\n",
      "\u001b[1m170/170\u001b[0m \u001b[32m━━━━━━━━━━━━━━━━━━━━\u001b[0m\u001b[37m\u001b[0m \u001b[1m14s\u001b[0m 85ms/step - accuracy: 0.5996 - loss: 1.7005 - val_accuracy: 0.4579 - val_loss: 2.2728\n",
      "Epoch 5/100\n",
      "\u001b[1m170/170\u001b[0m \u001b[32m━━━━━━━━━━━━━━━━━━━━\u001b[0m\u001b[37m\u001b[0m \u001b[1m15s\u001b[0m 85ms/step - accuracy: 0.6673 - loss: 1.4694 - val_accuracy: 0.4697 - val_loss: 2.2039\n",
      "Epoch 6/100\n",
      "\u001b[1m170/170\u001b[0m \u001b[32m━━━━━━━━━━━━━━━━━━━━\u001b[0m\u001b[37m\u001b[0m \u001b[1m15s\u001b[0m 86ms/step - accuracy: 0.6868 - loss: 1.3313 - val_accuracy: 0.4830 - val_loss: 2.1734\n",
      "Epoch 7/100\n",
      "\u001b[1m170/170\u001b[0m \u001b[32m━━━━━━━━━━━━━━━━━━━━\u001b[0m\u001b[37m\u001b[0m \u001b[1m15s\u001b[0m 87ms/step - accuracy: 0.7198 - loss: 1.2124 - val_accuracy: 0.4904 - val_loss: 2.1251\n",
      "Epoch 8/100\n",
      "\u001b[1m170/170\u001b[0m \u001b[32m━━━━━━━━━━━━━━━━━━━━\u001b[0m\u001b[37m\u001b[0m \u001b[1m15s\u001b[0m 88ms/step - accuracy: 0.7445 - loss: 1.1143 - val_accuracy: 0.4874 - val_loss: 2.1003\n",
      "Epoch 9/100\n",
      "\u001b[1m170/170\u001b[0m \u001b[32m━━━━━━━━━━━━━━━━━━━━\u001b[0m\u001b[37m\u001b[0m \u001b[1m16s\u001b[0m 96ms/step - accuracy: 0.7480 - loss: 1.0367 - val_accuracy: 0.5074 - val_loss: 2.0519\n",
      "Epoch 10/100\n",
      "\u001b[1m170/170\u001b[0m \u001b[32m━━━━━━━━━━━━━━━━━━━━\u001b[0m\u001b[37m\u001b[0m \u001b[1m15s\u001b[0m 90ms/step - accuracy: 0.7750 - loss: 0.9440 - val_accuracy: 0.5059 - val_loss: 2.0275\n",
      "Epoch 11/100\n",
      "\u001b[1m170/170\u001b[0m \u001b[32m━━━━━━━━━━━━━━━━━━━━\u001b[0m\u001b[37m\u001b[0m \u001b[1m17s\u001b[0m 99ms/step - accuracy: 0.7741 - loss: 0.9272 - val_accuracy: 0.5318 - val_loss: 1.9816\n",
      "Epoch 12/100\n",
      "\u001b[1m170/170\u001b[0m \u001b[32m━━━━━━━━━━━━━━━━━━━━\u001b[0m\u001b[37m\u001b[0m \u001b[1m17s\u001b[0m 99ms/step - accuracy: 0.7991 - loss: 0.8517 - val_accuracy: 0.5273 - val_loss: 2.0025\n",
      "Epoch 13/100\n",
      "\u001b[1m170/170\u001b[0m \u001b[32m━━━━━━━━━━━━━━━━━━━━\u001b[0m\u001b[37m\u001b[0m \u001b[1m18s\u001b[0m 103ms/step - accuracy: 0.7958 - loss: 0.8087 - val_accuracy: 0.5251 - val_loss: 2.0153\n",
      "Epoch 14/100\n",
      "\u001b[1m170/170\u001b[0m \u001b[32m━━━━━━━━━━━━━━━━━━━━\u001b[0m\u001b[37m\u001b[0m \u001b[1m17s\u001b[0m 96ms/step - accuracy: 0.8050 - loss: 0.7880 - val_accuracy: 0.5236 - val_loss: 1.9866\n",
      "Epoch 15/100\n",
      "\u001b[1m170/170\u001b[0m \u001b[32m━━━━━━━━━━━━━━━━━━━━\u001b[0m\u001b[37m\u001b[0m \u001b[1m17s\u001b[0m 100ms/step - accuracy: 0.8074 - loss: 0.7538 - val_accuracy: 0.5288 - val_loss: 1.9995\n",
      "Epoch 16/100\n",
      "\u001b[1m170/170\u001b[0m \u001b[32m━━━━━━━━━━━━━━━━━━━━\u001b[0m\u001b[37m\u001b[0m \u001b[1m18s\u001b[0m 107ms/step - accuracy: 0.8272 - loss: 0.7119 - val_accuracy: 0.5310 - val_loss: 1.9716\n",
      "Epoch 17/100\n",
      "\u001b[1m170/170\u001b[0m \u001b[32m━━━━━━━━━━━━━━━━━━━━\u001b[0m\u001b[37m\u001b[0m \u001b[1m16s\u001b[0m 93ms/step - accuracy: 0.8366 - loss: 0.6870 - val_accuracy: 0.5369 - val_loss: 2.0012\n",
      "Epoch 18/100\n",
      "\u001b[1m170/170\u001b[0m \u001b[32m━━━━━━━━━━━━━━━━━━━━\u001b[0m\u001b[37m\u001b[0m \u001b[1m15s\u001b[0m 88ms/step - accuracy: 0.8367 - loss: 0.6590 - val_accuracy: 0.5318 - val_loss: 2.0002\n",
      "Epoch 19/100\n",
      "\u001b[1m170/170\u001b[0m \u001b[32m━━━━━━━━━━━━━━━━━━━━\u001b[0m\u001b[37m\u001b[0m \u001b[1m15s\u001b[0m 87ms/step - accuracy: 0.8462 - loss: 0.6237 - val_accuracy: 0.5281 - val_loss: 2.0009\n",
      "Epoch 20/100\n",
      "\u001b[1m170/170\u001b[0m \u001b[32m━━━━━━━━━━━━━━━━━━━━\u001b[0m\u001b[37m\u001b[0m \u001b[1m15s\u001b[0m 86ms/step - accuracy: 0.8493 - loss: 0.6190 - val_accuracy: 0.5443 - val_loss: 1.9573\n",
      "Epoch 21/100\n",
      "\u001b[1m170/170\u001b[0m \u001b[32m━━━━━━━━━━━━━━━━━━━━\u001b[0m\u001b[37m\u001b[0m \u001b[1m14s\u001b[0m 84ms/step - accuracy: 0.8559 - loss: 0.5956 - val_accuracy: 0.5266 - val_loss: 1.9487\n",
      "Epoch 22/100\n",
      "\u001b[1m170/170\u001b[0m \u001b[32m━━━━━━━━━━━━━━━━━━━━\u001b[0m\u001b[37m\u001b[0m \u001b[1m15s\u001b[0m 87ms/step - accuracy: 0.8677 - loss: 0.5555 - val_accuracy: 0.5288 - val_loss: 2.0342\n",
      "Epoch 23/100\n",
      "\u001b[1m170/170\u001b[0m \u001b[32m━━━━━━━━━━━━━━━━━━━━\u001b[0m\u001b[37m\u001b[0m \u001b[1m14s\u001b[0m 83ms/step - accuracy: 0.8693 - loss: 0.5322 - val_accuracy: 0.5303 - val_loss: 2.0041\n",
      "Epoch 24/100\n",
      "\u001b[1m170/170\u001b[0m \u001b[32m━━━━━━━━━━━━━━━━━━━━\u001b[0m\u001b[37m\u001b[0m \u001b[1m14s\u001b[0m 83ms/step - accuracy: 0.8658 - loss: 0.5292 - val_accuracy: 0.5451 - val_loss: 1.9819\n",
      "Epoch 25/100\n",
      "\u001b[1m170/170\u001b[0m \u001b[32m━━━━━━━━━━━━━━━━━━━━\u001b[0m\u001b[37m\u001b[0m \u001b[1m14s\u001b[0m 82ms/step - accuracy: 0.8535 - loss: 0.5465 - val_accuracy: 0.5451 - val_loss: 1.9817\n",
      "Epoch 26/100\n",
      "\u001b[1m170/170\u001b[0m \u001b[32m━━━━━━━━━━━━━━━━━━━━\u001b[0m\u001b[37m\u001b[0m \u001b[1m14s\u001b[0m 82ms/step - accuracy: 0.8690 - loss: 0.5259 - val_accuracy: 0.5414 - val_loss: 1.9996\n"
     ]
    },
    {
     "data": {
      "text/plain": [
       "<keras.src.callbacks.history.History at 0x7f56a81acee0>"
      ]
     },
     "execution_count": 31,
     "metadata": {},
     "output_type": "execute_result"
    }
   ],
   "source": [
    "callback = tf.keras.callbacks.EarlyStopping(monitor='val_loss', patience=5, restore_best_weights=True)\n",
    "model.fit(train_dataset,  validation_data=(validation_dataset), epochs=100, callbacks=[callback])"
   ]
  },
  {
   "cell_type": "markdown",
   "id": "771ae9bb-cd1f-47e8-88f3-ae6f4cda87c8",
   "metadata": {},
   "source": [
    "No, it did not do anything\n",
    "\n",
    "Let's try different image sizes. I'm going to shrink images to the smallest they can be for Xception\n",
    "\n",
    "This time we will need to reload the training and validation datasets, using the same seed will give us the same split\n",
    "\n",
    "### Note\n",
    "This time also we need to instantiate the base_model as we will be changing one of it's parameters"
   ]
  },
  {
   "cell_type": "code",
   "execution_count": 36,
   "id": "06255b01-45ed-4c33-9908-70720403916a",
   "metadata": {},
   "outputs": [],
   "source": [
    "IMG_SIZE = (71, 71)"
   ]
  },
  {
   "cell_type": "code",
   "execution_count": 37,
   "id": "2dd9a8a9-785c-4ae7-9d60-ec0f6c16533d",
   "metadata": {},
   "outputs": [
    {
     "name": "stdout",
     "output_type": "stream",
     "text": [
      "Found 6773 files belonging to 149 classes.\n",
      "Using 5419 files for training.\n",
      "Found 6773 files belonging to 149 classes.\n",
      "Using 1354 files for validation.\n"
     ]
    }
   ],
   "source": [
    "train_dataset = tf.keras.utils.image_dataset_from_directory(train_dir,\n",
    "                                                            shuffle=True,\n",
    "                                                            image_size=IMG_SIZE, validation_split=0.2\n",
    "                                                           , subset='training', label_mode='categorical', \n",
    "                                                           seed=1138, batch_size=batch_size)\n",
    "validation_dataset = tf.keras.utils.image_dataset_from_directory(train_dir,\n",
    "                                                            shuffle=True,\n",
    "                                                            image_size=IMG_SIZE, validation_split=0.2\n",
    "                                                           , subset='validation',label_mode='categorical',\n",
    "                                                           seed=1138, batch_size=batch_size)"
   ]
  },
  {
   "cell_type": "markdown",
   "id": "d52cdd3a-e922-48a6-b186-b4bce214db4e",
   "metadata": {},
   "source": [
    "We also need to instantiate the data_augmentation_layers as these depend on the input size\n",
    "\n",
    "Don't forget to redefine inputs too"
   ]
  },
  {
   "cell_type": "code",
   "execution_count": 41,
   "id": "e93cd93c-3e94-4114-b75a-102b0ecf5428",
   "metadata": {},
   "outputs": [],
   "source": [
    "data_augmentation_layers = tf.keras.Sequential([\n",
    "    layers.RandomFlip(\"horizontal\"),\n",
    "    layers.RandomRotation(0.1),\n",
    "])\n",
    "inputs = tf.keras.Input(shape=(IMG_SIZE[0], IMG_SIZE[1],3))\n",
    "base_model = tf.keras.applications.Xception(\n",
    "    weights='imagenet',  # Load weights pre-trained on ImageNet.\n",
    "    input_shape=(IMG_SIZE[0], IMG_SIZE[1],3),\n",
    "    include_top=False)\n",
    "base_model.trainable = False\n",
    "x = data_augmentation_layers(inputs)\n",
    "x = tf.keras.applications.xception.preprocess_input(x)\n",
    "x = base_model(x, training=False)\n",
    "x = tf.keras.layers.GlobalAveragePooling2D()(x)\n",
    "outputs = tf.keras.layers.Dense(num_classes)(x)\n",
    "model = tf.keras.Model(inputs, outputs)"
   ]
  },
  {
   "cell_type": "code",
   "execution_count": 42,
   "id": "81c7a633-6c5e-400b-ac9c-50c0948b733a",
   "metadata": {},
   "outputs": [
    {
     "data": {
      "text/html": [
       "<pre style=\"white-space:pre;overflow-x:auto;line-height:normal;font-family:Menlo,'DejaVu Sans Mono',consolas,'Courier New',monospace\"><span style=\"font-weight: bold\">Model: \"functional_14\"</span>\n",
       "</pre>\n"
      ],
      "text/plain": [
       "\u001b[1mModel: \"functional_14\"\u001b[0m\n"
      ]
     },
     "metadata": {},
     "output_type": "display_data"
    },
    {
     "data": {
      "text/html": [
       "<pre style=\"white-space:pre;overflow-x:auto;line-height:normal;font-family:Menlo,'DejaVu Sans Mono',consolas,'Courier New',monospace\">┏━━━━━━━━━━━━━━━━━━━━━━━━━━━━━━━━━┳━━━━━━━━━━━━━━━━━━━━━━━━┳━━━━━━━━━━━━━━━┓\n",
       "┃<span style=\"font-weight: bold\"> Layer (type)                    </span>┃<span style=\"font-weight: bold\"> Output Shape           </span>┃<span style=\"font-weight: bold\">       Param # </span>┃\n",
       "┡━━━━━━━━━━━━━━━━━━━━━━━━━━━━━━━━━╇━━━━━━━━━━━━━━━━━━━━━━━━╇━━━━━━━━━━━━━━━┩\n",
       "│ input_layer_16 (<span style=\"color: #0087ff; text-decoration-color: #0087ff\">InputLayer</span>)     │ (<span style=\"color: #00d7ff; text-decoration-color: #00d7ff\">None</span>, <span style=\"color: #00af00; text-decoration-color: #00af00\">71</span>, <span style=\"color: #00af00; text-decoration-color: #00af00\">71</span>, <span style=\"color: #00af00; text-decoration-color: #00af00\">3</span>)      │             <span style=\"color: #00af00; text-decoration-color: #00af00\">0</span> │\n",
       "├─────────────────────────────────┼────────────────────────┼───────────────┤\n",
       "│ sequential_2 (<span style=\"color: #0087ff; text-decoration-color: #0087ff\">Sequential</span>)       │ (<span style=\"color: #00d7ff; text-decoration-color: #00d7ff\">None</span>, <span style=\"color: #00af00; text-decoration-color: #00af00\">71</span>, <span style=\"color: #00af00; text-decoration-color: #00af00\">71</span>, <span style=\"color: #00af00; text-decoration-color: #00af00\">3</span>)      │             <span style=\"color: #00af00; text-decoration-color: #00af00\">0</span> │\n",
       "├─────────────────────────────────┼────────────────────────┼───────────────┤\n",
       "│ true_divide_5 (<span style=\"color: #0087ff; text-decoration-color: #0087ff\">TrueDivide</span>)      │ (<span style=\"color: #00d7ff; text-decoration-color: #00d7ff\">None</span>, <span style=\"color: #00af00; text-decoration-color: #00af00\">71</span>, <span style=\"color: #00af00; text-decoration-color: #00af00\">71</span>, <span style=\"color: #00af00; text-decoration-color: #00af00\">3</span>)      │             <span style=\"color: #00af00; text-decoration-color: #00af00\">0</span> │\n",
       "├─────────────────────────────────┼────────────────────────┼───────────────┤\n",
       "│ subtract_5 (<span style=\"color: #0087ff; text-decoration-color: #0087ff\">Subtract</span>)           │ (<span style=\"color: #00d7ff; text-decoration-color: #00d7ff\">None</span>, <span style=\"color: #00af00; text-decoration-color: #00af00\">71</span>, <span style=\"color: #00af00; text-decoration-color: #00af00\">71</span>, <span style=\"color: #00af00; text-decoration-color: #00af00\">3</span>)      │             <span style=\"color: #00af00; text-decoration-color: #00af00\">0</span> │\n",
       "├─────────────────────────────────┼────────────────────────┼───────────────┤\n",
       "│ xception (<span style=\"color: #0087ff; text-decoration-color: #0087ff\">Functional</span>)           │ (<span style=\"color: #00d7ff; text-decoration-color: #00d7ff\">None</span>, <span style=\"color: #00af00; text-decoration-color: #00af00\">3</span>, <span style=\"color: #00af00; text-decoration-color: #00af00\">3</span>, <span style=\"color: #00af00; text-decoration-color: #00af00\">2048</span>)     │    <span style=\"color: #00af00; text-decoration-color: #00af00\">20,861,480</span> │\n",
       "├─────────────────────────────────┼────────────────────────┼───────────────┤\n",
       "│ global_average_pooling2d_5      │ (<span style=\"color: #00d7ff; text-decoration-color: #00d7ff\">None</span>, <span style=\"color: #00af00; text-decoration-color: #00af00\">2048</span>)           │             <span style=\"color: #00af00; text-decoration-color: #00af00\">0</span> │\n",
       "│ (<span style=\"color: #0087ff; text-decoration-color: #0087ff\">GlobalAveragePooling2D</span>)        │                        │               │\n",
       "├─────────────────────────────────┼────────────────────────┼───────────────┤\n",
       "│ dense_8 (<span style=\"color: #0087ff; text-decoration-color: #0087ff\">Dense</span>)                 │ (<span style=\"color: #00d7ff; text-decoration-color: #00d7ff\">None</span>, <span style=\"color: #00af00; text-decoration-color: #00af00\">149</span>)            │       <span style=\"color: #00af00; text-decoration-color: #00af00\">305,301</span> │\n",
       "└─────────────────────────────────┴────────────────────────┴───────────────┘\n",
       "</pre>\n"
      ],
      "text/plain": [
       "┏━━━━━━━━━━━━━━━━━━━━━━━━━━━━━━━━━┳━━━━━━━━━━━━━━━━━━━━━━━━┳━━━━━━━━━━━━━━━┓\n",
       "┃\u001b[1m \u001b[0m\u001b[1mLayer (type)                   \u001b[0m\u001b[1m \u001b[0m┃\u001b[1m \u001b[0m\u001b[1mOutput Shape          \u001b[0m\u001b[1m \u001b[0m┃\u001b[1m \u001b[0m\u001b[1m      Param #\u001b[0m\u001b[1m \u001b[0m┃\n",
       "┡━━━━━━━━━━━━━━━━━━━━━━━━━━━━━━━━━╇━━━━━━━━━━━━━━━━━━━━━━━━╇━━━━━━━━━━━━━━━┩\n",
       "│ input_layer_16 (\u001b[38;5;33mInputLayer\u001b[0m)     │ (\u001b[38;5;45mNone\u001b[0m, \u001b[38;5;34m71\u001b[0m, \u001b[38;5;34m71\u001b[0m, \u001b[38;5;34m3\u001b[0m)      │             \u001b[38;5;34m0\u001b[0m │\n",
       "├─────────────────────────────────┼────────────────────────┼───────────────┤\n",
       "│ sequential_2 (\u001b[38;5;33mSequential\u001b[0m)       │ (\u001b[38;5;45mNone\u001b[0m, \u001b[38;5;34m71\u001b[0m, \u001b[38;5;34m71\u001b[0m, \u001b[38;5;34m3\u001b[0m)      │             \u001b[38;5;34m0\u001b[0m │\n",
       "├─────────────────────────────────┼────────────────────────┼───────────────┤\n",
       "│ true_divide_5 (\u001b[38;5;33mTrueDivide\u001b[0m)      │ (\u001b[38;5;45mNone\u001b[0m, \u001b[38;5;34m71\u001b[0m, \u001b[38;5;34m71\u001b[0m, \u001b[38;5;34m3\u001b[0m)      │             \u001b[38;5;34m0\u001b[0m │\n",
       "├─────────────────────────────────┼────────────────────────┼───────────────┤\n",
       "│ subtract_5 (\u001b[38;5;33mSubtract\u001b[0m)           │ (\u001b[38;5;45mNone\u001b[0m, \u001b[38;5;34m71\u001b[0m, \u001b[38;5;34m71\u001b[0m, \u001b[38;5;34m3\u001b[0m)      │             \u001b[38;5;34m0\u001b[0m │\n",
       "├─────────────────────────────────┼────────────────────────┼───────────────┤\n",
       "│ xception (\u001b[38;5;33mFunctional\u001b[0m)           │ (\u001b[38;5;45mNone\u001b[0m, \u001b[38;5;34m3\u001b[0m, \u001b[38;5;34m3\u001b[0m, \u001b[38;5;34m2048\u001b[0m)     │    \u001b[38;5;34m20,861,480\u001b[0m │\n",
       "├─────────────────────────────────┼────────────────────────┼───────────────┤\n",
       "│ global_average_pooling2d_5      │ (\u001b[38;5;45mNone\u001b[0m, \u001b[38;5;34m2048\u001b[0m)           │             \u001b[38;5;34m0\u001b[0m │\n",
       "│ (\u001b[38;5;33mGlobalAveragePooling2D\u001b[0m)        │                        │               │\n",
       "├─────────────────────────────────┼────────────────────────┼───────────────┤\n",
       "│ dense_8 (\u001b[38;5;33mDense\u001b[0m)                 │ (\u001b[38;5;45mNone\u001b[0m, \u001b[38;5;34m149\u001b[0m)            │       \u001b[38;5;34m305,301\u001b[0m │\n",
       "└─────────────────────────────────┴────────────────────────┴───────────────┘\n"
      ]
     },
     "metadata": {},
     "output_type": "display_data"
    },
    {
     "data": {
      "text/html": [
       "<pre style=\"white-space:pre;overflow-x:auto;line-height:normal;font-family:Menlo,'DejaVu Sans Mono',consolas,'Courier New',monospace\"><span style=\"font-weight: bold\"> Total params: </span><span style=\"color: #00af00; text-decoration-color: #00af00\">21,166,781</span> (80.74 MB)\n",
       "</pre>\n"
      ],
      "text/plain": [
       "\u001b[1m Total params: \u001b[0m\u001b[38;5;34m21,166,781\u001b[0m (80.74 MB)\n"
      ]
     },
     "metadata": {},
     "output_type": "display_data"
    },
    {
     "data": {
      "text/html": [
       "<pre style=\"white-space:pre;overflow-x:auto;line-height:normal;font-family:Menlo,'DejaVu Sans Mono',consolas,'Courier New',monospace\"><span style=\"font-weight: bold\"> Trainable params: </span><span style=\"color: #00af00; text-decoration-color: #00af00\">305,301</span> (1.16 MB)\n",
       "</pre>\n"
      ],
      "text/plain": [
       "\u001b[1m Trainable params: \u001b[0m\u001b[38;5;34m305,301\u001b[0m (1.16 MB)\n"
      ]
     },
     "metadata": {},
     "output_type": "display_data"
    },
    {
     "data": {
      "text/html": [
       "<pre style=\"white-space:pre;overflow-x:auto;line-height:normal;font-family:Menlo,'DejaVu Sans Mono',consolas,'Courier New',monospace\"><span style=\"font-weight: bold\"> Non-trainable params: </span><span style=\"color: #00af00; text-decoration-color: #00af00\">20,861,480</span> (79.58 MB)\n",
       "</pre>\n"
      ],
      "text/plain": [
       "\u001b[1m Non-trainable params: \u001b[0m\u001b[38;5;34m20,861,480\u001b[0m (79.58 MB)\n"
      ]
     },
     "metadata": {},
     "output_type": "display_data"
    }
   ],
   "source": [
    "model.compile(optimizer=tf.keras.optimizers.Adam(),\n",
    "              loss=tf.keras.losses.CategoricalCrossentropy(from_logits=True),\n",
    "              metrics=['accuracy'])\n",
    "model.summary()"
   ]
  },
  {
   "cell_type": "code",
   "execution_count": 43,
   "id": "74ed0a20-fd88-42dd-92ab-7b539f55eb50",
   "metadata": {},
   "outputs": [
    {
     "name": "stdout",
     "output_type": "stream",
     "text": [
      "Epoch 1/100\n",
      "\u001b[1m170/170\u001b[0m \u001b[32m━━━━━━━━━━━━━━━━━━━━\u001b[0m\u001b[37m\u001b[0m \u001b[1m10s\u001b[0m 44ms/step - accuracy: 0.0974 - loss: 4.7322 - val_accuracy: 0.2770 - val_loss: 3.2847\n",
      "Epoch 2/100\n",
      "\u001b[1m170/170\u001b[0m \u001b[32m━━━━━━━━━━━━━━━━━━━━\u001b[0m\u001b[37m\u001b[0m \u001b[1m6s\u001b[0m 35ms/step - accuracy: 0.4144 - loss: 2.5566 - val_accuracy: 0.3456 - val_loss: 2.9493\n",
      "Epoch 3/100\n",
      "\u001b[1m170/170\u001b[0m \u001b[32m━━━━━━━━━━━━━━━━━━━━\u001b[0m\u001b[37m\u001b[0m \u001b[1m6s\u001b[0m 37ms/step - accuracy: 0.5076 - loss: 2.1128 - val_accuracy: 0.3693 - val_loss: 2.8052\n",
      "Epoch 4/100\n",
      "\u001b[1m170/170\u001b[0m \u001b[32m━━━━━━━━━━━━━━━━━━━━\u001b[0m\u001b[37m\u001b[0m \u001b[1m6s\u001b[0m 37ms/step - accuracy: 0.5650 - loss: 1.8178 - val_accuracy: 0.3914 - val_loss: 2.6974\n",
      "Epoch 5/100\n",
      "\u001b[1m170/170\u001b[0m \u001b[32m━━━━━━━━━━━━━━━━━━━━\u001b[0m\u001b[37m\u001b[0m \u001b[1m7s\u001b[0m 41ms/step - accuracy: 0.6292 - loss: 1.6007 - val_accuracy: 0.4010 - val_loss: 2.6313\n",
      "Epoch 6/100\n",
      "\u001b[1m170/170\u001b[0m \u001b[32m━━━━━━━━━━━━━━━━━━━━\u001b[0m\u001b[37m\u001b[0m \u001b[1m7s\u001b[0m 42ms/step - accuracy: 0.6520 - loss: 1.4489 - val_accuracy: 0.4254 - val_loss: 2.6230\n",
      "Epoch 7/100\n",
      "\u001b[1m170/170\u001b[0m \u001b[32m━━━━━━━━━━━━━━━━━━━━\u001b[0m\u001b[37m\u001b[0m \u001b[1m7s\u001b[0m 42ms/step - accuracy: 0.6985 - loss: 1.3151 - val_accuracy: 0.4239 - val_loss: 2.5868\n",
      "Epoch 8/100\n",
      "\u001b[1m170/170\u001b[0m \u001b[32m━━━━━━━━━━━━━━━━━━━━\u001b[0m\u001b[37m\u001b[0m \u001b[1m7s\u001b[0m 42ms/step - accuracy: 0.7221 - loss: 1.1859 - val_accuracy: 0.4202 - val_loss: 2.6006\n",
      "Epoch 9/100\n",
      "\u001b[1m170/170\u001b[0m \u001b[32m━━━━━━━━━━━━━━━━━━━━\u001b[0m\u001b[37m\u001b[0m \u001b[1m7s\u001b[0m 43ms/step - accuracy: 0.7385 - loss: 1.1435 - val_accuracy: 0.4365 - val_loss: 2.5707\n",
      "Epoch 10/100\n",
      "\u001b[1m170/170\u001b[0m \u001b[32m━━━━━━━━━━━━━━━━━━━━\u001b[0m\u001b[37m\u001b[0m \u001b[1m7s\u001b[0m 40ms/step - accuracy: 0.7489 - loss: 1.0512 - val_accuracy: 0.4350 - val_loss: 2.5814\n",
      "Epoch 11/100\n",
      "\u001b[1m170/170\u001b[0m \u001b[32m━━━━━━━━━━━━━━━━━━━━\u001b[0m\u001b[37m\u001b[0m \u001b[1m7s\u001b[0m 41ms/step - accuracy: 0.7874 - loss: 0.9352 - val_accuracy: 0.4343 - val_loss: 2.5713\n",
      "Epoch 12/100\n",
      "\u001b[1m170/170\u001b[0m \u001b[32m━━━━━━━━━━━━━━━━━━━━\u001b[0m\u001b[37m\u001b[0m \u001b[1m7s\u001b[0m 42ms/step - accuracy: 0.7913 - loss: 0.8997 - val_accuracy: 0.4372 - val_loss: 2.5712\n",
      "Epoch 13/100\n",
      "\u001b[1m170/170\u001b[0m \u001b[32m━━━━━━━━━━━━━━━━━━━━\u001b[0m\u001b[37m\u001b[0m \u001b[1m7s\u001b[0m 42ms/step - accuracy: 0.7987 - loss: 0.8581 - val_accuracy: 0.4372 - val_loss: 2.5965\n",
      "Epoch 14/100\n",
      "\u001b[1m170/170\u001b[0m \u001b[32m━━━━━━━━━━━━━━━━━━━━\u001b[0m\u001b[37m\u001b[0m \u001b[1m7s\u001b[0m 42ms/step - accuracy: 0.8136 - loss: 0.8119 - val_accuracy: 0.4542 - val_loss: 2.5663\n",
      "Epoch 15/100\n",
      "\u001b[1m170/170\u001b[0m \u001b[32m━━━━━━━━━━━━━━━━━━━━\u001b[0m\u001b[37m\u001b[0m \u001b[1m7s\u001b[0m 43ms/step - accuracy: 0.8217 - loss: 0.7777 - val_accuracy: 0.4513 - val_loss: 2.5490\n",
      "Epoch 16/100\n",
      "\u001b[1m170/170\u001b[0m \u001b[32m━━━━━━━━━━━━━━━━━━━━\u001b[0m\u001b[37m\u001b[0m \u001b[1m7s\u001b[0m 42ms/step - accuracy: 0.8205 - loss: 0.7525 - val_accuracy: 0.4557 - val_loss: 2.5852\n",
      "Epoch 17/100\n",
      "\u001b[1m170/170\u001b[0m \u001b[32m━━━━━━━━━━━━━━━━━━━━\u001b[0m\u001b[37m\u001b[0m \u001b[1m7s\u001b[0m 42ms/step - accuracy: 0.8356 - loss: 0.7141 - val_accuracy: 0.4594 - val_loss: 2.5626\n",
      "Epoch 18/100\n",
      "\u001b[1m170/170\u001b[0m \u001b[32m━━━━━━━━━━━━━━━━━━━━\u001b[0m\u001b[37m\u001b[0m \u001b[1m7s\u001b[0m 41ms/step - accuracy: 0.8477 - loss: 0.6343 - val_accuracy: 0.4586 - val_loss: 2.5990\n",
      "Epoch 19/100\n",
      "\u001b[1m170/170\u001b[0m \u001b[32m━━━━━━━━━━━━━━━━━━━━\u001b[0m\u001b[37m\u001b[0m \u001b[1m7s\u001b[0m 38ms/step - accuracy: 0.8607 - loss: 0.6045 - val_accuracy: 0.4527 - val_loss: 2.5784\n",
      "Epoch 20/100\n",
      "\u001b[1m170/170\u001b[0m \u001b[32m━━━━━━━━━━━━━━━━━━━━\u001b[0m\u001b[37m\u001b[0m \u001b[1m6s\u001b[0m 38ms/step - accuracy: 0.8688 - loss: 0.5755 - val_accuracy: 0.4609 - val_loss: 2.5933\n"
     ]
    },
    {
     "data": {
      "text/plain": [
       "<keras.src.callbacks.history.History at 0x7f56425b3400>"
      ]
     },
     "execution_count": 43,
     "metadata": {},
     "output_type": "execute_result"
    }
   ],
   "source": [
    "callback = tf.keras.callbacks.EarlyStopping(monitor='val_loss', patience=5, restore_best_weights=True)\n",
    "model.fit(train_dataset,  validation_data=(validation_dataset), epochs=100, callbacks=[callback])"
   ]
  },
  {
   "cell_type": "markdown",
   "id": "4474b3cb-1cfa-4d4b-88f6-564656de6d1f",
   "metadata": {},
   "source": [
    "It's worse with smaller images\n",
    "\n",
    "Maybe bigger images = better?"
   ]
  },
  {
   "cell_type": "code",
   "execution_count": 11,
   "id": "11bc05dd-31ce-458f-b881-f1cba5453b2b",
   "metadata": {},
   "outputs": [],
   "source": [
    "IMG_SIZE = (299, 299)"
   ]
  },
  {
   "cell_type": "code",
   "execution_count": 12,
   "id": "cec7cbae-79d9-418d-9180-26c86cd027c0",
   "metadata": {},
   "outputs": [
    {
     "name": "stdout",
     "output_type": "stream",
     "text": [
      "Found 6773 files belonging to 149 classes.\n",
      "Using 5419 files for training.\n",
      "Found 6773 files belonging to 149 classes.\n",
      "Using 1354 files for validation.\n"
     ]
    }
   ],
   "source": [
    "train_dataset = tf.keras.utils.image_dataset_from_directory(train_dir,\n",
    "                                                            shuffle=True,\n",
    "                                                            image_size=IMG_SIZE, validation_split=0.2\n",
    "                                                           , subset='training', label_mode='categorical', \n",
    "                                                           seed=1138, batch_size=batch_size)\n",
    "validation_dataset = tf.keras.utils.image_dataset_from_directory(train_dir,\n",
    "                                                            shuffle=True,\n",
    "                                                            image_size=IMG_SIZE, validation_split=0.2\n",
    "                                                           , subset='validation',label_mode='categorical',\n",
    "                                                           seed=1138, batch_size=batch_size)"
   ]
  },
  {
   "cell_type": "markdown",
   "id": "90cf0102-889f-45b8-a65d-3b6b1ec8090f",
   "metadata": {},
   "source": [
    "Redoing the model, including inputs, basemodel and data augmentation"
   ]
  },
  {
   "cell_type": "code",
   "execution_count": 15,
   "id": "c3899809-ec0a-4264-98c7-2a80aa5834f3",
   "metadata": {},
   "outputs": [],
   "source": [
    "data_augmentation_layers = tf.keras.Sequential([\n",
    "    layers.RandomFlip(\"horizontal\"),\n",
    "    layers.RandomRotation(0.1),\n",
    "])\n",
    "inputs = tf.keras.Input(shape=(IMG_SIZE[0], IMG_SIZE[1],3))\n",
    "base_model = tf.keras.applications.Xception(\n",
    "    weights='imagenet',  # Load weights pre-trained on ImageNet.\n",
    "    input_shape=(IMG_SIZE[0], IMG_SIZE[1],3),\n",
    "    include_top=False)\n",
    "base_model.trainable = False\n",
    "x = data_augmentation_layers(inputs)\n",
    "x = tf.keras.applications.xception.preprocess_input(x)\n",
    "x = base_model(x, training=False)\n",
    "x = tf.keras.layers.GlobalAveragePooling2D()(x)\n",
    "outputs = tf.keras.layers.Dense(num_classes)(x)\n",
    "model = tf.keras.Model(inputs, outputs)"
   ]
  },
  {
   "cell_type": "code",
   "execution_count": 16,
   "id": "36a13a0a-1e0a-4c7d-98b7-e1e2908cf967",
   "metadata": {},
   "outputs": [
    {
     "data": {
      "text/html": [
       "<pre style=\"white-space:pre;overflow-x:auto;line-height:normal;font-family:Menlo,'DejaVu Sans Mono',consolas,'Courier New',monospace\"><span style=\"font-weight: bold\">Model: \"functional_2\"</span>\n",
       "</pre>\n"
      ],
      "text/plain": [
       "\u001b[1mModel: \"functional_2\"\u001b[0m\n"
      ]
     },
     "metadata": {},
     "output_type": "display_data"
    },
    {
     "data": {
      "text/html": [
       "<pre style=\"white-space:pre;overflow-x:auto;line-height:normal;font-family:Menlo,'DejaVu Sans Mono',consolas,'Courier New',monospace\">┏━━━━━━━━━━━━━━━━━━━━━━━━━━━━━━━━━┳━━━━━━━━━━━━━━━━━━━━━━━━┳━━━━━━━━━━━━━━━┓\n",
       "┃<span style=\"font-weight: bold\"> Layer (type)                    </span>┃<span style=\"font-weight: bold\"> Output Shape           </span>┃<span style=\"font-weight: bold\">       Param # </span>┃\n",
       "┡━━━━━━━━━━━━━━━━━━━━━━━━━━━━━━━━━╇━━━━━━━━━━━━━━━━━━━━━━━━╇━━━━━━━━━━━━━━━┩\n",
       "│ input_layer (<span style=\"color: #0087ff; text-decoration-color: #0087ff\">InputLayer</span>)        │ (<span style=\"color: #00d7ff; text-decoration-color: #00d7ff\">None</span>, <span style=\"color: #00af00; text-decoration-color: #00af00\">299</span>, <span style=\"color: #00af00; text-decoration-color: #00af00\">299</span>, <span style=\"color: #00af00; text-decoration-color: #00af00\">3</span>)    │             <span style=\"color: #00af00; text-decoration-color: #00af00\">0</span> │\n",
       "├─────────────────────────────────┼────────────────────────┼───────────────┤\n",
       "│ sequential (<span style=\"color: #0087ff; text-decoration-color: #0087ff\">Sequential</span>)         │ (<span style=\"color: #00d7ff; text-decoration-color: #00d7ff\">None</span>, <span style=\"color: #00af00; text-decoration-color: #00af00\">299</span>, <span style=\"color: #00af00; text-decoration-color: #00af00\">299</span>, <span style=\"color: #00af00; text-decoration-color: #00af00\">3</span>)    │             <span style=\"color: #00af00; text-decoration-color: #00af00\">0</span> │\n",
       "├─────────────────────────────────┼────────────────────────┼───────────────┤\n",
       "│ true_divide (<span style=\"color: #0087ff; text-decoration-color: #0087ff\">TrueDivide</span>)        │ (<span style=\"color: #00d7ff; text-decoration-color: #00d7ff\">None</span>, <span style=\"color: #00af00; text-decoration-color: #00af00\">299</span>, <span style=\"color: #00af00; text-decoration-color: #00af00\">299</span>, <span style=\"color: #00af00; text-decoration-color: #00af00\">3</span>)    │             <span style=\"color: #00af00; text-decoration-color: #00af00\">0</span> │\n",
       "├─────────────────────────────────┼────────────────────────┼───────────────┤\n",
       "│ subtract (<span style=\"color: #0087ff; text-decoration-color: #0087ff\">Subtract</span>)             │ (<span style=\"color: #00d7ff; text-decoration-color: #00d7ff\">None</span>, <span style=\"color: #00af00; text-decoration-color: #00af00\">299</span>, <span style=\"color: #00af00; text-decoration-color: #00af00\">299</span>, <span style=\"color: #00af00; text-decoration-color: #00af00\">3</span>)    │             <span style=\"color: #00af00; text-decoration-color: #00af00\">0</span> │\n",
       "├─────────────────────────────────┼────────────────────────┼───────────────┤\n",
       "│ xception (<span style=\"color: #0087ff; text-decoration-color: #0087ff\">Functional</span>)           │ (<span style=\"color: #00d7ff; text-decoration-color: #00d7ff\">None</span>, <span style=\"color: #00af00; text-decoration-color: #00af00\">10</span>, <span style=\"color: #00af00; text-decoration-color: #00af00\">10</span>, <span style=\"color: #00af00; text-decoration-color: #00af00\">2048</span>)   │    <span style=\"color: #00af00; text-decoration-color: #00af00\">20,861,480</span> │\n",
       "├─────────────────────────────────┼────────────────────────┼───────────────┤\n",
       "│ global_average_pooling2d        │ (<span style=\"color: #00d7ff; text-decoration-color: #00d7ff\">None</span>, <span style=\"color: #00af00; text-decoration-color: #00af00\">2048</span>)           │             <span style=\"color: #00af00; text-decoration-color: #00af00\">0</span> │\n",
       "│ (<span style=\"color: #0087ff; text-decoration-color: #0087ff\">GlobalAveragePooling2D</span>)        │                        │               │\n",
       "├─────────────────────────────────┼────────────────────────┼───────────────┤\n",
       "│ dense (<span style=\"color: #0087ff; text-decoration-color: #0087ff\">Dense</span>)                   │ (<span style=\"color: #00d7ff; text-decoration-color: #00d7ff\">None</span>, <span style=\"color: #00af00; text-decoration-color: #00af00\">149</span>)            │       <span style=\"color: #00af00; text-decoration-color: #00af00\">305,301</span> │\n",
       "└─────────────────────────────────┴────────────────────────┴───────────────┘\n",
       "</pre>\n"
      ],
      "text/plain": [
       "┏━━━━━━━━━━━━━━━━━━━━━━━━━━━━━━━━━┳━━━━━━━━━━━━━━━━━━━━━━━━┳━━━━━━━━━━━━━━━┓\n",
       "┃\u001b[1m \u001b[0m\u001b[1mLayer (type)                   \u001b[0m\u001b[1m \u001b[0m┃\u001b[1m \u001b[0m\u001b[1mOutput Shape          \u001b[0m\u001b[1m \u001b[0m┃\u001b[1m \u001b[0m\u001b[1m      Param #\u001b[0m\u001b[1m \u001b[0m┃\n",
       "┡━━━━━━━━━━━━━━━━━━━━━━━━━━━━━━━━━╇━━━━━━━━━━━━━━━━━━━━━━━━╇━━━━━━━━━━━━━━━┩\n",
       "│ input_layer (\u001b[38;5;33mInputLayer\u001b[0m)        │ (\u001b[38;5;45mNone\u001b[0m, \u001b[38;5;34m299\u001b[0m, \u001b[38;5;34m299\u001b[0m, \u001b[38;5;34m3\u001b[0m)    │             \u001b[38;5;34m0\u001b[0m │\n",
       "├─────────────────────────────────┼────────────────────────┼───────────────┤\n",
       "│ sequential (\u001b[38;5;33mSequential\u001b[0m)         │ (\u001b[38;5;45mNone\u001b[0m, \u001b[38;5;34m299\u001b[0m, \u001b[38;5;34m299\u001b[0m, \u001b[38;5;34m3\u001b[0m)    │             \u001b[38;5;34m0\u001b[0m │\n",
       "├─────────────────────────────────┼────────────────────────┼───────────────┤\n",
       "│ true_divide (\u001b[38;5;33mTrueDivide\u001b[0m)        │ (\u001b[38;5;45mNone\u001b[0m, \u001b[38;5;34m299\u001b[0m, \u001b[38;5;34m299\u001b[0m, \u001b[38;5;34m3\u001b[0m)    │             \u001b[38;5;34m0\u001b[0m │\n",
       "├─────────────────────────────────┼────────────────────────┼───────────────┤\n",
       "│ subtract (\u001b[38;5;33mSubtract\u001b[0m)             │ (\u001b[38;5;45mNone\u001b[0m, \u001b[38;5;34m299\u001b[0m, \u001b[38;5;34m299\u001b[0m, \u001b[38;5;34m3\u001b[0m)    │             \u001b[38;5;34m0\u001b[0m │\n",
       "├─────────────────────────────────┼────────────────────────┼───────────────┤\n",
       "│ xception (\u001b[38;5;33mFunctional\u001b[0m)           │ (\u001b[38;5;45mNone\u001b[0m, \u001b[38;5;34m10\u001b[0m, \u001b[38;5;34m10\u001b[0m, \u001b[38;5;34m2048\u001b[0m)   │    \u001b[38;5;34m20,861,480\u001b[0m │\n",
       "├─────────────────────────────────┼────────────────────────┼───────────────┤\n",
       "│ global_average_pooling2d        │ (\u001b[38;5;45mNone\u001b[0m, \u001b[38;5;34m2048\u001b[0m)           │             \u001b[38;5;34m0\u001b[0m │\n",
       "│ (\u001b[38;5;33mGlobalAveragePooling2D\u001b[0m)        │                        │               │\n",
       "├─────────────────────────────────┼────────────────────────┼───────────────┤\n",
       "│ dense (\u001b[38;5;33mDense\u001b[0m)                   │ (\u001b[38;5;45mNone\u001b[0m, \u001b[38;5;34m149\u001b[0m)            │       \u001b[38;5;34m305,301\u001b[0m │\n",
       "└─────────────────────────────────┴────────────────────────┴───────────────┘\n"
      ]
     },
     "metadata": {},
     "output_type": "display_data"
    },
    {
     "data": {
      "text/html": [
       "<pre style=\"white-space:pre;overflow-x:auto;line-height:normal;font-family:Menlo,'DejaVu Sans Mono',consolas,'Courier New',monospace\"><span style=\"font-weight: bold\"> Total params: </span><span style=\"color: #00af00; text-decoration-color: #00af00\">21,166,781</span> (80.74 MB)\n",
       "</pre>\n"
      ],
      "text/plain": [
       "\u001b[1m Total params: \u001b[0m\u001b[38;5;34m21,166,781\u001b[0m (80.74 MB)\n"
      ]
     },
     "metadata": {},
     "output_type": "display_data"
    },
    {
     "data": {
      "text/html": [
       "<pre style=\"white-space:pre;overflow-x:auto;line-height:normal;font-family:Menlo,'DejaVu Sans Mono',consolas,'Courier New',monospace\"><span style=\"font-weight: bold\"> Trainable params: </span><span style=\"color: #00af00; text-decoration-color: #00af00\">305,301</span> (1.16 MB)\n",
       "</pre>\n"
      ],
      "text/plain": [
       "\u001b[1m Trainable params: \u001b[0m\u001b[38;5;34m305,301\u001b[0m (1.16 MB)\n"
      ]
     },
     "metadata": {},
     "output_type": "display_data"
    },
    {
     "data": {
      "text/html": [
       "<pre style=\"white-space:pre;overflow-x:auto;line-height:normal;font-family:Menlo,'DejaVu Sans Mono',consolas,'Courier New',monospace\"><span style=\"font-weight: bold\"> Non-trainable params: </span><span style=\"color: #00af00; text-decoration-color: #00af00\">20,861,480</span> (79.58 MB)\n",
       "</pre>\n"
      ],
      "text/plain": [
       "\u001b[1m Non-trainable params: \u001b[0m\u001b[38;5;34m20,861,480\u001b[0m (79.58 MB)\n"
      ]
     },
     "metadata": {},
     "output_type": "display_data"
    }
   ],
   "source": [
    "model.compile(optimizer=tf.keras.optimizers.Adam(),\n",
    "              loss=tf.keras.losses.CategoricalCrossentropy(from_logits=True),\n",
    "              metrics=['accuracy'])\n",
    "model.summary()"
   ]
  },
  {
   "cell_type": "code",
   "execution_count": 17,
   "id": "91c72142-d9fb-47ef-bff5-9e74162308c1",
   "metadata": {},
   "outputs": [
    {
     "name": "stdout",
     "output_type": "stream",
     "text": [
      "Epoch 1/100\n",
      "\u001b[1m170/170\u001b[0m \u001b[32m━━━━━━━━━━━━━━━━━━━━\u001b[0m\u001b[37m\u001b[0m \u001b[1m87s\u001b[0m 450ms/step - accuracy: 0.1028 - loss: 4.6638 - val_accuracy: 0.4025 - val_loss: 3.2872\n",
      "Epoch 2/100\n",
      "\u001b[1m170/170\u001b[0m \u001b[32m━━━━━━━━━━━━━━━━━━━━\u001b[0m\u001b[37m\u001b[0m \u001b[1m75s\u001b[0m 440ms/step - accuracy: 0.5591 - loss: 2.7299 - val_accuracy: 0.5052 - val_loss: 2.5278\n",
      "Epoch 3/100\n",
      "\u001b[1m170/170\u001b[0m \u001b[32m━━━━━━━━━━━━━━━━━━━━\u001b[0m\u001b[37m\u001b[0m \u001b[1m72s\u001b[0m 420ms/step - accuracy: 0.6901 - loss: 1.9333 - val_accuracy: 0.5665 - val_loss: 2.1377\n",
      "Epoch 4/100\n",
      "\u001b[1m170/170\u001b[0m \u001b[32m━━━━━━━━━━━━━━━━━━━━\u001b[0m\u001b[37m\u001b[0m \u001b[1m71s\u001b[0m 419ms/step - accuracy: 0.7596 - loss: 1.4925 - val_accuracy: 0.5997 - val_loss: 1.9083\n",
      "Epoch 5/100\n",
      "\u001b[1m170/170\u001b[0m \u001b[32m━━━━━━━━━━━━━━━━━━━━\u001b[0m\u001b[37m\u001b[0m \u001b[1m72s\u001b[0m 422ms/step - accuracy: 0.8062 - loss: 1.2207 - val_accuracy: 0.6204 - val_loss: 1.7674\n",
      "Epoch 6/100\n",
      "\u001b[1m170/170\u001b[0m \u001b[32m━━━━━━━━━━━━━━━━━━━━\u001b[0m\u001b[37m\u001b[0m \u001b[1m72s\u001b[0m 421ms/step - accuracy: 0.8388 - loss: 1.0339 - val_accuracy: 0.6374 - val_loss: 1.6642\n",
      "Epoch 7/100\n",
      "\u001b[1m170/170\u001b[0m \u001b[32m━━━━━━━━━━━━━━━━━━━━\u001b[0m\u001b[37m\u001b[0m \u001b[1m72s\u001b[0m 421ms/step - accuracy: 0.8717 - loss: 0.8836 - val_accuracy: 0.6374 - val_loss: 1.6010\n",
      "Epoch 8/100\n",
      "\u001b[1m170/170\u001b[0m \u001b[32m━━━━━━━━━━━━━━━━━━━━\u001b[0m\u001b[37m\u001b[0m \u001b[1m72s\u001b[0m 422ms/step - accuracy: 0.8873 - loss: 0.7721 - val_accuracy: 0.6418 - val_loss: 1.5412\n",
      "Epoch 9/100\n",
      "\u001b[1m170/170\u001b[0m \u001b[32m━━━━━━━━━━━━━━━━━━━━\u001b[0m\u001b[37m\u001b[0m \u001b[1m75s\u001b[0m 439ms/step - accuracy: 0.9072 - loss: 0.6746 - val_accuracy: 0.6521 - val_loss: 1.5005\n",
      "Epoch 10/100\n",
      "\u001b[1m170/170\u001b[0m \u001b[32m━━━━━━━━━━━━━━━━━━━━\u001b[0m\u001b[37m\u001b[0m \u001b[1m77s\u001b[0m 454ms/step - accuracy: 0.9271 - loss: 0.5985 - val_accuracy: 0.6521 - val_loss: 1.4735\n",
      "Epoch 11/100\n",
      "\u001b[1m170/170\u001b[0m \u001b[32m━━━━━━━━━━━━━━━━━━━━\u001b[0m\u001b[37m\u001b[0m \u001b[1m88s\u001b[0m 519ms/step - accuracy: 0.9281 - loss: 0.5387 - val_accuracy: 0.6684 - val_loss: 1.4334\n",
      "Epoch 12/100\n",
      "\u001b[1m170/170\u001b[0m \u001b[32m━━━━━━━━━━━━━━━━━━━━\u001b[0m\u001b[37m\u001b[0m \u001b[1m151s\u001b[0m 888ms/step - accuracy: 0.9440 - loss: 0.4761 - val_accuracy: 0.6684 - val_loss: 1.4134\n",
      "Epoch 13/100\n",
      "\u001b[1m170/170\u001b[0m \u001b[32m━━━━━━━━━━━━━━━━━━━━\u001b[0m\u001b[37m\u001b[0m \u001b[1m89s\u001b[0m 521ms/step - accuracy: 0.9441 - loss: 0.4453 - val_accuracy: 0.6780 - val_loss: 1.3947\n",
      "Epoch 14/100\n",
      "\u001b[1m170/170\u001b[0m \u001b[32m━━━━━━━━━━━━━━━━━━━━\u001b[0m\u001b[37m\u001b[0m \u001b[1m61s\u001b[0m 360ms/step - accuracy: 0.9496 - loss: 0.4026 - val_accuracy: 0.6706 - val_loss: 1.3762\n",
      "Epoch 15/100\n",
      "\u001b[1m170/170\u001b[0m \u001b[32m━━━━━━━━━━━━━━━━━━━━\u001b[0m\u001b[37m\u001b[0m \u001b[1m60s\u001b[0m 354ms/step - accuracy: 0.9606 - loss: 0.3579 - val_accuracy: 0.6780 - val_loss: 1.3605\n",
      "Epoch 16/100\n",
      "\u001b[1m170/170\u001b[0m \u001b[32m━━━━━━━━━━━━━━━━━━━━\u001b[0m\u001b[37m\u001b[0m \u001b[1m60s\u001b[0m 351ms/step - accuracy: 0.9644 - loss: 0.3351 - val_accuracy: 0.6743 - val_loss: 1.3486\n",
      "Epoch 17/100\n",
      "\u001b[1m170/170\u001b[0m \u001b[32m━━━━━━━━━━━━━━━━━━━━\u001b[0m\u001b[37m\u001b[0m \u001b[1m60s\u001b[0m 351ms/step - accuracy: 0.9678 - loss: 0.3091 - val_accuracy: 0.6713 - val_loss: 1.3559\n",
      "Epoch 18/100\n",
      "\u001b[1m170/170\u001b[0m \u001b[32m━━━━━━━━━━━━━━━━━━━━\u001b[0m\u001b[37m\u001b[0m \u001b[1m60s\u001b[0m 353ms/step - accuracy: 0.9748 - loss: 0.2791 - val_accuracy: 0.6765 - val_loss: 1.3390\n",
      "Epoch 19/100\n",
      "\u001b[1m170/170\u001b[0m \u001b[32m━━━━━━━━━━━━━━━━━━━━\u001b[0m\u001b[37m\u001b[0m \u001b[1m59s\u001b[0m 345ms/step - accuracy: 0.9729 - loss: 0.2573 - val_accuracy: 0.6699 - val_loss: 1.3244\n",
      "Epoch 20/100\n",
      "\u001b[1m170/170\u001b[0m \u001b[32m━━━━━━━━━━━━━━━━━━━━\u001b[0m\u001b[37m\u001b[0m \u001b[1m59s\u001b[0m 348ms/step - accuracy: 0.9759 - loss: 0.2401 - val_accuracy: 0.6773 - val_loss: 1.3129\n",
      "Epoch 21/100\n",
      "\u001b[1m170/170\u001b[0m \u001b[32m━━━━━━━━━━━━━━━━━━━━\u001b[0m\u001b[37m\u001b[0m \u001b[1m59s\u001b[0m 346ms/step - accuracy: 0.9800 - loss: 0.2186 - val_accuracy: 0.6817 - val_loss: 1.3028\n",
      "Epoch 22/100\n",
      "\u001b[1m170/170\u001b[0m \u001b[32m━━━━━━━━━━━━━━━━━━━━\u001b[0m\u001b[37m\u001b[0m \u001b[1m60s\u001b[0m 350ms/step - accuracy: 0.9797 - loss: 0.1993 - val_accuracy: 0.6765 - val_loss: 1.3080\n",
      "Epoch 23/100\n",
      "\u001b[1m170/170\u001b[0m \u001b[32m━━━━━━━━━━━━━━━━━━━━\u001b[0m\u001b[37m\u001b[0m \u001b[1m59s\u001b[0m 347ms/step - accuracy: 0.9820 - loss: 0.1940 - val_accuracy: 0.6809 - val_loss: 1.3080\n",
      "Epoch 24/100\n",
      "\u001b[1m170/170\u001b[0m \u001b[32m━━━━━━━━━━━━━━━━━━━━\u001b[0m\u001b[37m\u001b[0m \u001b[1m59s\u001b[0m 345ms/step - accuracy: 0.9849 - loss: 0.1700 - val_accuracy: 0.6743 - val_loss: 1.3131\n",
      "Epoch 25/100\n",
      "\u001b[1m170/170\u001b[0m \u001b[32m━━━━━━━━━━━━━━━━━━━━\u001b[0m\u001b[37m\u001b[0m \u001b[1m59s\u001b[0m 349ms/step - accuracy: 0.9863 - loss: 0.1633 - val_accuracy: 0.6787 - val_loss: 1.2995\n",
      "Epoch 26/100\n",
      "\u001b[1m170/170\u001b[0m \u001b[32m━━━━━━━━━━━━━━━━━━━━\u001b[0m\u001b[37m\u001b[0m \u001b[1m61s\u001b[0m 357ms/step - accuracy: 0.9911 - loss: 0.1531 - val_accuracy: 0.6795 - val_loss: 1.3002\n",
      "Epoch 27/100\n",
      "\u001b[1m170/170\u001b[0m \u001b[32m━━━━━━━━━━━━━━━━━━━━\u001b[0m\u001b[37m\u001b[0m \u001b[1m60s\u001b[0m 353ms/step - accuracy: 0.9889 - loss: 0.1466 - val_accuracy: 0.6920 - val_loss: 1.2894\n",
      "Epoch 28/100\n",
      "\u001b[1m170/170\u001b[0m \u001b[32m━━━━━━━━━━━━━━━━━━━━\u001b[0m\u001b[37m\u001b[0m \u001b[1m59s\u001b[0m 350ms/step - accuracy: 0.9840 - loss: 0.1464 - val_accuracy: 0.6839 - val_loss: 1.2963\n",
      "Epoch 29/100\n",
      "\u001b[1m170/170\u001b[0m \u001b[32m━━━━━━━━━━━━━━━━━━━━\u001b[0m\u001b[37m\u001b[0m \u001b[1m60s\u001b[0m 350ms/step - accuracy: 0.9915 - loss: 0.1244 - val_accuracy: 0.6817 - val_loss: 1.2805\n",
      "Epoch 30/100\n",
      "\u001b[1m170/170\u001b[0m \u001b[32m━━━━━━━━━━━━━━━━━━━━\u001b[0m\u001b[37m\u001b[0m \u001b[1m59s\u001b[0m 347ms/step - accuracy: 0.9891 - loss: 0.1301 - val_accuracy: 0.6891 - val_loss: 1.2836\n",
      "Epoch 31/100\n",
      "\u001b[1m170/170\u001b[0m \u001b[32m━━━━━━━━━━━━━━━━━━━━\u001b[0m\u001b[37m\u001b[0m \u001b[1m59s\u001b[0m 347ms/step - accuracy: 0.9919 - loss: 0.1148 - val_accuracy: 0.6773 - val_loss: 1.2848\n",
      "Epoch 32/100\n",
      "\u001b[1m170/170\u001b[0m \u001b[32m━━━━━━━━━━━━━━━━━━━━\u001b[0m\u001b[37m\u001b[0m \u001b[1m59s\u001b[0m 347ms/step - accuracy: 0.9900 - loss: 0.1133 - val_accuracy: 0.6817 - val_loss: 1.2887\n",
      "Epoch 33/100\n",
      "\u001b[1m170/170\u001b[0m \u001b[32m━━━━━━━━━━━━━━━━━━━━\u001b[0m\u001b[37m\u001b[0m \u001b[1m59s\u001b[0m 348ms/step - accuracy: 0.9945 - loss: 0.1014 - val_accuracy: 0.6876 - val_loss: 1.2933\n",
      "Epoch 34/100\n",
      "\u001b[1m170/170\u001b[0m \u001b[32m━━━━━━━━━━━━━━━━━━━━\u001b[0m\u001b[37m\u001b[0m \u001b[1m59s\u001b[0m 347ms/step - accuracy: 0.9937 - loss: 0.0997 - val_accuracy: 0.6935 - val_loss: 1.2847\n"
     ]
    },
    {
     "data": {
      "text/plain": [
       "<keras.src.callbacks.history.History at 0x7f33a016bd30>"
      ]
     },
     "execution_count": 17,
     "metadata": {},
     "output_type": "execute_result"
    }
   ],
   "source": [
    "callback = tf.keras.callbacks.EarlyStopping(monitor='val_loss', patience=5, restore_best_weights=True)\n",
    "model.fit(train_dataset,  validation_data=(validation_dataset), epochs=100, callbacks=[callback])"
   ]
  },
  {
   "cell_type": "markdown",
   "id": "54034ef3-ee63-4db0-8daf-25c30ec70119",
   "metadata": {},
   "source": [
    "That's the best we've got so far \n",
    "\n",
    "accuracy: 0.9915 - loss: 0.1244 - val_accuracy: 0.6817 - val_loss: 1.2805\n",
    "\n",
    "but longest length of time to do an epoch, bigger images = more features = more training time\n",
    "\n",
    "We could add more dense layers, but this time with regularisation and maybe this would do better. Or dropout with more dense layers.\n",
    "\n",
    "Some fine-tuning of the network may help too, but we're already overfit so I'm not sure\n",
    "\n",
    "or we just accept 68% accuracy with 149 categories is not that bad for now, especially with how few images we started with"
   ]
  },
  {
   "cell_type": "markdown",
   "id": "4a4f9ace-067f-40d6-8d73-7bca0060a848",
   "metadata": {},
   "source": [
    "### Using the model\n",
    "\n",
    "We can load a different directory for test data"
   ]
  },
  {
   "cell_type": "code",
   "execution_count": 18,
   "id": "4fc73de8-534b-479a-9fed-e6d665fb73b9",
   "metadata": {},
   "outputs": [
    {
     "name": "stdout",
     "output_type": "stream",
     "text": [
      "Found 3 files belonging to 2 classes.\n"
     ]
    }
   ],
   "source": [
    "test_dataset = tf.keras.utils.image_dataset_from_directory(\n",
    "          \"test\",\n",
    "           shuffle=False,        #or False\n",
    "           image_size=IMG_SIZE)"
   ]
  },
  {
   "cell_type": "code",
   "execution_count": 19,
   "id": "aab07519-b694-4810-890b-b15e9f7e0683",
   "metadata": {},
   "outputs": [
    {
     "name": "stdout",
     "output_type": "stream",
     "text": [
      "\u001b[1m1/1\u001b[0m \u001b[32m━━━━━━━━━━━━━━━━━━━━\u001b[0m\u001b[37m\u001b[0m \u001b[1m2s\u001b[0m 2s/step\n"
     ]
    },
    {
     "data": {
      "text/plain": [
       "array([[-15.753512 , -20.568079 , -17.409592 , -21.129429 , -15.526989 ,\n",
       "        -18.235369 , -21.851618 , -16.851467 , -16.969446 , -16.330324 ,\n",
       "        -23.207123 , -17.067112 , -12.929646 , -15.521098 ,  -9.547735 ,\n",
       "        -11.47732  , -22.370789 , -12.986443 , -25.137352 , -13.621695 ,\n",
       "        -18.329826 , -10.947722 , -18.248014 , -16.608208 , -17.906548 ,\n",
       "        -18.721043 ,  -7.6655207, -14.600732 ,  -6.593982 , -11.859476 ,\n",
       "         -9.313738 , -16.032318 , -13.420492 , -20.094965 , -17.259537 ,\n",
       "        -19.799    ,  -8.15565  , -17.552761 ,  -9.665804 , -14.406064 ,\n",
       "        -13.181795 , -18.478264 , -11.486462 , -17.602884 , -15.401005 ,\n",
       "        -19.746683 , -15.489764 , -20.1081   , -17.548935 , -12.053834 ,\n",
       "        -22.212875 , -19.882587 , -13.238405 , -20.470463 , -13.744305 ,\n",
       "        -10.041298 , -19.436035 , -16.585854 , -10.487458 , -14.539312 ,\n",
       "        -15.067054 , -17.110956 , -20.334145 , -15.550175 ,  -9.827502 ,\n",
       "        -14.533242 , -18.98246  , -16.99719  , -20.20095  , -15.452454 ,\n",
       "        -15.591805 , -18.124186 , -10.202151 , -13.438227 , -13.889846 ,\n",
       "        -15.52181  , -14.44576  , -16.85426  , -17.93964  , -18.763227 ,\n",
       "        -17.831167 , -13.342336 , -21.425123 , -17.576275 , -20.059093 ,\n",
       "        -17.180319 , -15.80082  , -13.967371 , -16.589268 , -18.982801 ,\n",
       "        -12.949366 , -17.180433 , -14.249379 , -18.221909 , -16.036804 ,\n",
       "        -13.4784355, -15.730073 , -13.2543745, -16.427753 , -19.144306 ,\n",
       "        -15.890599 , -13.294126 , -13.472529 , -20.473396 , -16.930923 ,\n",
       "        -18.201942 , -13.121909 , -20.634687 , -14.5504265, -10.956728 ,\n",
       "         -8.471624 , -19.286081 , -15.496025 , -13.588788 , -19.128077 ,\n",
       "        -17.857048 , -11.683819 , -13.570268 , -16.295029 , -20.731646 ,\n",
       "        -18.006744 , -12.348441 , -16.203455 ,  -9.987137 , -11.022428 ,\n",
       "        -14.037455 , -14.552967 , -15.076707 , -21.215212 , -18.393606 ,\n",
       "        -20.524649 , -13.145879 , -15.321275 , -20.891941 , -18.181786 ,\n",
       "        -17.915764 , -20.903675 , -17.41848  , -18.315826 , -12.929774 ,\n",
       "        -17.370333 , -10.42865  , -11.1184635, -14.402345 , -12.98724  ,\n",
       "        -21.78132  , -13.538684 , -22.91466  , -17.95136  ],\n",
       "       [-10.208401 , -18.139877 , -15.664257 , -21.147438 , -12.217884 ,\n",
       "        -16.516636 , -23.290272 , -16.90241  , -20.032999 , -17.021042 ,\n",
       "        -21.048925 , -14.9386635, -13.4295845, -15.349109 , -12.802439 ,\n",
       "        -11.308042 , -19.29303  , -10.826586 , -19.376265 , -13.552578 ,\n",
       "        -17.479984 , -14.693615 , -15.851201 , -15.472175 , -17.50748  ,\n",
       "        -19.41244  ,  -9.79645  , -13.784195 ,  -8.614568 , -10.41507  ,\n",
       "        -12.04915  , -16.536346 , -10.446031 , -19.980087 , -13.044971 ,\n",
       "        -13.393445 , -12.71345  , -17.639402 ,  -9.336357 , -13.863018 ,\n",
       "        -10.598129 , -17.70207  , -15.485263 , -18.950678 , -14.239771 ,\n",
       "        -15.4663105, -15.845622 , -16.928112 , -15.320158 ,  -9.842194 ,\n",
       "        -21.968046 , -19.456257 , -12.589213 , -17.517885 , -11.377826 ,\n",
       "         -7.9354296, -17.12644  , -16.91241  ,  -7.9242673, -15.662411 ,\n",
       "        -17.009521 , -15.567689 , -16.857698 , -16.075766 , -12.199376 ,\n",
       "        -15.893135 , -18.809914 , -17.864971 , -15.749192 , -14.678189 ,\n",
       "        -15.927032 , -19.447918 , -11.588934 , -14.308586 , -16.825727 ,\n",
       "        -16.179176 , -14.260447 , -12.729682 , -18.802076 , -20.491417 ,\n",
       "        -13.041346 , -15.047036 , -19.046598 , -15.740879 , -18.84051  ,\n",
       "        -15.096531 , -13.248533 , -14.496752 , -14.237195 , -14.896768 ,\n",
       "         -9.976736 , -14.35874  , -13.71477  , -15.512445 , -12.844747 ,\n",
       "        -17.659212 , -17.897234 , -13.0257225, -18.626583 , -22.525314 ,\n",
       "        -13.480411 , -13.004409 , -14.203356 , -18.407354 , -17.323498 ,\n",
       "        -16.223667 , -12.674682 , -19.514189 ,  -9.505833 , -11.571549 ,\n",
       "         -9.757921 , -16.734716 , -16.551334 , -11.774648 , -14.258138 ,\n",
       "        -14.54972  , -12.576195 , -10.935858 , -13.359668 , -15.91118  ,\n",
       "        -14.913121 , -11.363311 , -13.410903 ,  -9.767206 , -11.931888 ,\n",
       "        -13.916921 , -14.535765 , -17.057919 , -20.111824 , -17.284834 ,\n",
       "        -19.253786 , -11.772585 , -16.496859 , -20.267948 , -14.55361  ,\n",
       "        -18.279339 , -19.664597 , -18.037611 , -15.80435  , -16.816607 ,\n",
       "        -16.791918 ,  -7.4331226, -11.14878  , -11.365828 , -11.337063 ,\n",
       "        -17.980724 , -16.023354 , -20.865538 , -17.82027  ],\n",
       "       [-11.258751 , -21.297953 , -16.145653 , -19.030972 , -14.225395 ,\n",
       "        -18.537868 , -23.295223 , -20.154696 , -17.741081 , -17.363468 ,\n",
       "        -21.66665  , -15.439972 , -13.989531 , -17.216845 , -10.525236 ,\n",
       "        -10.85534  , -23.248617 , -14.56486  , -22.300571 , -12.168286 ,\n",
       "        -18.837347 , -13.536588 , -19.225271 , -17.906267 , -19.921286 ,\n",
       "        -22.367113 ,  -8.158154 , -16.060053 ,  -6.8846273, -10.989227 ,\n",
       "         -9.802212 , -16.914345 ,  -9.895003 , -21.239252 , -15.170155 ,\n",
       "        -15.104862 , -11.869511 , -20.747013 ,  -8.132527 , -16.880121 ,\n",
       "        -11.950426 , -17.128689 , -13.563044 , -20.564526 , -15.556492 ,\n",
       "        -16.899685 , -15.628063 , -17.632004 , -18.036478 , -13.38895  ,\n",
       "        -24.744707 , -19.410793 , -12.667848 , -17.623276 , -12.599674 ,\n",
       "         -9.622952 , -17.775108 , -18.85844  , -10.332068 , -16.892351 ,\n",
       "        -15.672275 , -17.438177 , -17.429796 , -16.561028 ,  -8.35873  ,\n",
       "        -17.064102 , -20.084826 , -18.203339 , -17.987984 , -15.56912  ,\n",
       "        -15.319419 , -16.930616 ,  -8.893308 , -16.824911 , -15.586146 ,\n",
       "        -16.675621 , -15.810594 , -16.039883 , -19.141533 , -20.764566 ,\n",
       "        -16.367012 , -15.651113 , -19.518448 , -17.326979 , -20.539589 ,\n",
       "        -16.8406   , -12.600493 , -12.678341 , -14.29531  , -18.411318 ,\n",
       "        -10.166544 , -12.53045  , -16.209772 , -17.436352 , -14.509691 ,\n",
       "        -15.625257 , -17.780806 , -15.682246 , -17.559973 , -21.365997 ,\n",
       "        -14.499107 ,  -9.914655 , -13.5546665, -20.9961   , -18.84893  ,\n",
       "        -17.077234 , -12.410464 , -19.68786  , -10.275582 , -11.040297 ,\n",
       "        -10.110513 , -18.338785 , -17.646559 , -12.618094 , -14.5994005,\n",
       "        -17.74404  , -13.187847 , -12.243678 , -13.56104  , -17.410095 ,\n",
       "        -19.133667 , -12.677412 , -15.330934 ,  -7.417525 , -12.881443 ,\n",
       "        -15.7502165, -16.00415  , -13.762275 , -19.330553 , -18.27019  ,\n",
       "        -21.258818 , -12.89324  , -18.445848 , -23.647816 , -15.212915 ,\n",
       "        -20.089672 , -23.327501 , -18.630518 , -18.984358 , -14.239233 ,\n",
       "        -18.279894 ,  -9.541045 ,  -9.917455 , -11.631959 , -12.691961 ,\n",
       "        -18.868242 , -15.734132 , -23.891056 , -19.942657 ]],\n",
       "      dtype=float32)"
      ]
     },
     "execution_count": 19,
     "metadata": {},
     "output_type": "execute_result"
    }
   ],
   "source": [
    "predictions = model.predict(test_dataset)\n",
    "predictions"
   ]
  },
  {
   "cell_type": "markdown",
   "id": "c2608bc7-5df9-42d9-b3d0-c80490a403f6",
   "metadata": {},
   "source": [
    "Not very readable and we need a softmax to get us probabilites"
   ]
  },
  {
   "cell_type": "code",
   "execution_count": 20,
   "id": "378e18fa-283f-420a-9f73-5d45798b545a",
   "metadata": {},
   "outputs": [],
   "source": [
    "probability_model = tf.keras.Sequential([model, tf.keras.layers.Softmax()])"
   ]
  },
  {
   "cell_type": "code",
   "execution_count": 24,
   "id": "ff82ba78-d4f1-415b-9a2f-8ed884fcc339",
   "metadata": {},
   "outputs": [
    {
     "name": "stdout",
     "output_type": "stream",
     "text": [
      "\u001b[1m1/1\u001b[0m \u001b[32m━━━━━━━━━━━━━━━━━━━━\u001b[0m\u001b[37m\u001b[0m \u001b[1m0s\u001b[0m 18ms/step\n"
     ]
    },
    {
     "data": {
      "text/plain": [
       "array([[0.00004869, 0.00000039, 0.00000929, 0.00000023, 0.00006107,\n",
       "        0.00000407, 0.00000011, 0.00001624, 0.00001443, 0.00002735,\n",
       "        0.00000003, 0.00001309, 0.00081998, 0.00006143, 0.02412963,\n",
       "        0.00350383, 0.00000007, 0.00077471, 0.        , 0.00041044,\n",
       "        0.0000037 , 0.00595037, 0.00000402, 0.00002071, 0.00000565,\n",
       "        0.0000025 , 0.1584842 , 0.00015419, 0.46275297, 0.00239097,\n",
       "        0.03049119, 0.00003684, 0.00050192, 0.00000063, 0.0000108 ,\n",
       "        0.00000085, 0.09707903, 0.00000805, 0.02144243, 0.00018733,\n",
       "        0.00063723, 0.00000319, 0.00347194, 0.00000766, 0.00006926,\n",
       "        0.0000009 , 0.00006338, 0.00000063, 0.00000808, 0.00196864,\n",
       "        0.00000008, 0.00000078, 0.00060216, 0.00000044, 0.00036308,\n",
       "        0.01472987, 0.00000122, 0.00002118, 0.00942831, 0.00016396,\n",
       "        0.00009673, 0.00001253, 0.0000005 , 0.00005967, 0.01824103,\n",
       "        0.00016496, 0.00000193, 0.00001404, 0.00000057, 0.00006579,\n",
       "        0.00005723, 0.00000455, 0.01254126, 0.0004931 , 0.0003139 ,\n",
       "        0.00006138, 0.00018004, 0.00001619, 0.00000547, 0.0000024 ,\n",
       "        0.0000061 , 0.00054272, 0.00000017, 0.00000787, 0.00000066,\n",
       "        0.00001169, 0.00004644, 0.00029049, 0.00002111, 0.00000193,\n",
       "        0.00080397, 0.00001169, 0.00021911, 0.00000412, 0.00003668,\n",
       "        0.00047366, 0.00004984, 0.00059262, 0.00002481, 0.00000164,\n",
       "        0.00004245, 0.00056953, 0.00047647, 0.00000043, 0.000015  ,\n",
       "        0.00000421, 0.00067656, 0.00000037, 0.00016215, 0.00589702,\n",
       "        0.07077821, 0.00000142, 0.00006299, 0.00042417, 0.00000167,\n",
       "        0.00000594, 0.00285011, 0.0004321 , 0.00002833, 0.00000034,\n",
       "        0.00000512, 0.00146629, 0.00003105, 0.01554966, 0.00552204,\n",
       "        0.00027083, 0.00016174, 0.0000958 , 0.00000021, 0.00000347,\n",
       "        0.00000041, 0.00066054, 0.00007501, 0.00000029, 0.00000429,\n",
       "        0.0000056 , 0.00000028, 0.00000921, 0.00000376, 0.00081988,\n",
       "        0.00000967, 0.00999941, 0.0050164 , 0.00018803, 0.00077409,\n",
       "        0.00000012, 0.00044597, 0.00000004, 0.00000541],\n",
       "       [0.01622632, 0.00000583, 0.00006931, 0.00000029, 0.00217527,\n",
       "        0.00002955, 0.00000003, 0.00002009, 0.00000088, 0.00001785,\n",
       "        0.00000032, 0.00014318, 0.00064756, 0.00009498, 0.00121239,\n",
       "        0.00540321, 0.00000184, 0.00874471, 0.00000169, 0.00057261,\n",
       "        0.00001128, 0.00018294, 0.00005749, 0.00008398, 0.00001097,\n",
       "        0.00000163, 0.02449786, 0.00045423, 0.07987537, 0.01319669,\n",
       "        0.00257509, 0.00002898, 0.01279436, 0.00000093, 0.00095129,\n",
       "        0.00067139, 0.00132523, 0.00000962, 0.03881001, 0.0004198 ,\n",
       "        0.01098912, 0.00000903, 0.00008289, 0.00000259, 0.00028802,\n",
       "        0.00008448, 0.00005781, 0.00001958, 0.00009777, 0.02340247,\n",
       "        0.00000013, 0.00000156, 0.00150054, 0.00001086, 0.00503901,\n",
       "        0.1575284 , 0.00001606, 0.00001989, 0.15929662, 0.00006943,\n",
       "        0.00001805, 0.00007633, 0.00002101, 0.00004593, 0.0022159 ,\n",
       "        0.00005513, 0.00000298, 0.00000767, 0.00006366, 0.00018579,\n",
       "        0.00005329, 0.00000158, 0.00408002, 0.00026886, 0.00002169,\n",
       "        0.00004141, 0.00028212, 0.00130389, 0.00000301, 0.00000056,\n",
       "        0.00095475, 0.00012848, 0.00000235, 0.00006419, 0.00000289,\n",
       "        0.00012227, 0.00077608, 0.00022275, 0.00028876, 0.00014931,\n",
       "        0.02045647, 0.00025571, 0.00048688, 0.00008067, 0.00116217,\n",
       "        0.00000943, 0.00000743, 0.00096978, 0.00000358, 0.00000007,\n",
       "        0.00061547, 0.00099067, 0.0002987 , 0.00000446, 0.00001319,\n",
       "        0.00003961, 0.00137761, 0.00000147, 0.03275982, 0.00415157,\n",
       "        0.02546014, 0.00002376, 0.00002854, 0.0033885 , 0.00028278,\n",
       "        0.00021126, 0.0015202 , 0.00783952, 0.00069445, 0.00005414,\n",
       "        0.00014689, 0.00511268, 0.00065977, 0.02522484, 0.00289547,\n",
       "        0.00039777, 0.00021422, 0.0000172 , 0.00000081, 0.00001371,\n",
       "        0.00000191, 0.0033955 , 0.00003014, 0.00000069, 0.00021044,\n",
       "        0.00000507, 0.00000127, 0.00000646, 0.00006025, 0.00002189,\n",
       "        0.00002244, 0.26032028, 0.00633605, 0.00509983, 0.00524866,\n",
       "        0.00000684, 0.0000484 , 0.00000038, 0.00000802],\n",
       "       [0.00397544, 0.00000017, 0.00002999, 0.00000167, 0.00020464,\n",
       "        0.00000274, 0.00000002, 0.00000054, 0.00000608, 0.00000887,\n",
       "        0.00000012, 0.00006074, 0.00025907, 0.00001028, 0.00827841,\n",
       "        0.00595093, 0.00000002, 0.00014573, 0.00000006, 0.00160096,\n",
       "        0.00000203, 0.00040751, 0.00000138, 0.00000516, 0.00000069,\n",
       "        0.00000006, 0.08829945, 0.00003267, 0.31553203, 0.00520521,\n",
       "        0.01705896, 0.00001391, 0.01554726, 0.00000018, 0.00007956,\n",
       "        0.00008493, 0.00215842, 0.0000003 , 0.09059148, 0.00001439,\n",
       "        0.00199065, 0.00001122, 0.00039687, 0.00000036, 0.00005406,\n",
       "        0.00001411, 0.00005033, 0.00000678, 0.00000453, 0.00047234,\n",
       "        0.00000001, 0.00000115, 0.00097146, 0.00000684, 0.00103999,\n",
       "        0.02040816, 0.00000588, 0.00000199, 0.01004243, 0.00001421,\n",
       "        0.00004815, 0.00000824, 0.0000083 , 0.0000198 , 0.0722518 ,\n",
       "        0.00001197, 0.00000058, 0.00000383, 0.00000475, 0.00005338,\n",
       "        0.00006853, 0.00001368, 0.04233355, 0.00001521, 0.00005248,\n",
       "        0.00001766, 0.00004193, 0.00003334, 0.0000015 , 0.0000003 ,\n",
       "        0.00002404, 0.00004918, 0.00000103, 0.0000092 , 0.00000037,\n",
       "        0.00001497, 0.00103914, 0.00096131, 0.00019082, 0.00000311,\n",
       "        0.01185019, 0.00111454, 0.00002813, 0.00000825, 0.000154  ,\n",
       "        0.00005047, 0.00000585, 0.00004767, 0.00000729, 0.00000016,\n",
       "        0.00015564, 0.01524471, 0.0004002 , 0.00000023, 0.00000201,\n",
       "        0.00001182, 0.00125662, 0.00000087, 0.01062601, 0.00494606,\n",
       "        0.01253312, 0.00000335, 0.00000669, 0.00102101, 0.00014079,\n",
       "        0.00000607, 0.00057755, 0.0014847 , 0.00039766, 0.00000847,\n",
       "        0.00000151, 0.00096221, 0.00006774, 0.18518636, 0.00078462,\n",
       "        0.00004454, 0.00003455, 0.00032518, 0.00000124, 0.00000358,\n",
       "        0.00000018, 0.00077542, 0.00000301, 0.00000002, 0.00007623,\n",
       "        0.00000058, 0.00000002, 0.0000025 , 0.00000175, 0.00020183,\n",
       "        0.00000355, 0.02215011, 0.01520209, 0.00273718, 0.00094831,\n",
       "        0.00000197, 0.00004526, 0.00000001, 0.00000067]], dtype=float32)"
      ]
     },
     "execution_count": 24,
     "metadata": {},
     "output_type": "execute_result"
    }
   ],
   "source": [
    "probability_model.predict(test_dataset)"
   ]
  },
  {
   "cell_type": "markdown",
   "id": "504eb38d-7636-4f71-89b7-1dae2718b40a",
   "metadata": {},
   "source": [
    "Let's use pandas to make this more readable"
   ]
  },
  {
   "cell_type": "code",
   "execution_count": 30,
   "id": "93c9fa10-890c-486e-a433-cd5410c5992e",
   "metadata": {},
   "outputs": [
    {
     "data": {
      "text/plain": [
       "['test/eevee/eevee.jpg',\n",
       " 'test/pikachu/pikachu1.jpg',\n",
       " 'test/pikachu/pikachu2.jpg']"
      ]
     },
     "execution_count": 30,
     "metadata": {},
     "output_type": "execute_result"
    }
   ],
   "source": [
    "test_dataset.file_paths"
   ]
  },
  {
   "cell_type": "code",
   "execution_count": 31,
   "id": "daf52d63-f992-45d2-ac6a-0e6322b8474c",
   "metadata": {
    "scrolled": true
   },
   "outputs": [
    {
     "name": "stdout",
     "output_type": "stream",
     "text": [
      "\u001b[1m1/1\u001b[0m \u001b[32m━━━━━━━━━━━━━━━━━━━━\u001b[0m\u001b[37m\u001b[0m \u001b[1m0s\u001b[0m 23ms/step\n"
     ]
    },
    {
     "data": {
      "text/html": [
       "<div>\n",
       "<style scoped>\n",
       "    .dataframe tbody tr th:only-of-type {\n",
       "        vertical-align: middle;\n",
       "    }\n",
       "\n",
       "    .dataframe tbody tr th {\n",
       "        vertical-align: top;\n",
       "    }\n",
       "\n",
       "    .dataframe thead th {\n",
       "        text-align: right;\n",
       "    }\n",
       "</style>\n",
       "<table border=\"1\" class=\"dataframe\">\n",
       "  <thead>\n",
       "    <tr style=\"text-align: right;\">\n",
       "      <th></th>\n",
       "      <th>Abra</th>\n",
       "      <th>Aerodactyl</th>\n",
       "      <th>Alakazam</th>\n",
       "      <th>Arbok</th>\n",
       "      <th>Arcanine</th>\n",
       "      <th>Articuno</th>\n",
       "      <th>Beedrill</th>\n",
       "      <th>Bellsprout</th>\n",
       "      <th>Blastoise</th>\n",
       "      <th>Bulbasaur</th>\n",
       "      <th>...</th>\n",
       "      <th>Vileplume</th>\n",
       "      <th>Voltorb</th>\n",
       "      <th>Vulpix</th>\n",
       "      <th>Wartortle</th>\n",
       "      <th>Weedle</th>\n",
       "      <th>Weepinbell</th>\n",
       "      <th>Weezing</th>\n",
       "      <th>Wigglytuff</th>\n",
       "      <th>Zapdos</th>\n",
       "      <th>Zubat</th>\n",
       "    </tr>\n",
       "  </thead>\n",
       "  <tbody>\n",
       "    <tr>\n",
       "      <th>test/eevee/eevee.jpg</th>\n",
       "      <td>0.000049</td>\n",
       "      <td>3.948901e-07</td>\n",
       "      <td>0.000009</td>\n",
       "      <td>2.252606e-07</td>\n",
       "      <td>0.000061</td>\n",
       "      <td>0.000004</td>\n",
       "      <td>1.094063e-07</td>\n",
       "      <td>1.623979e-05</td>\n",
       "      <td>1.443254e-05</td>\n",
       "      <td>0.000027</td>\n",
       "      <td>...</td>\n",
       "      <td>0.000820</td>\n",
       "      <td>0.000010</td>\n",
       "      <td>0.009999</td>\n",
       "      <td>0.005016</td>\n",
       "      <td>0.000188</td>\n",
       "      <td>0.000774</td>\n",
       "      <td>1.173741e-07</td>\n",
       "      <td>0.000446</td>\n",
       "      <td>3.778934e-08</td>\n",
       "      <td>5.406331e-06</td>\n",
       "    </tr>\n",
       "    <tr>\n",
       "      <th>test/pikachu/pikachu1.jpg</th>\n",
       "      <td>0.016226</td>\n",
       "      <td>5.829396e-06</td>\n",
       "      <td>0.000069</td>\n",
       "      <td>2.880424e-07</td>\n",
       "      <td>0.002175</td>\n",
       "      <td>0.000030</td>\n",
       "      <td>3.379369e-08</td>\n",
       "      <td>2.009317e-05</td>\n",
       "      <td>8.779124e-07</td>\n",
       "      <td>0.000018</td>\n",
       "      <td>...</td>\n",
       "      <td>0.000022</td>\n",
       "      <td>0.000022</td>\n",
       "      <td>0.260320</td>\n",
       "      <td>0.006336</td>\n",
       "      <td>0.005100</td>\n",
       "      <td>0.005249</td>\n",
       "      <td>6.835066e-06</td>\n",
       "      <td>0.000048</td>\n",
       "      <td>3.818425e-07</td>\n",
       "      <td>8.024666e-06</td>\n",
       "    </tr>\n",
       "    <tr>\n",
       "      <th>test/pikachu/pikachu2.jpg</th>\n",
       "      <td>0.003975</td>\n",
       "      <td>1.735465e-07</td>\n",
       "      <td>0.000030</td>\n",
       "      <td>1.674762e-06</td>\n",
       "      <td>0.000205</td>\n",
       "      <td>0.000003</td>\n",
       "      <td>2.355118e-08</td>\n",
       "      <td>5.444100e-07</td>\n",
       "      <td>6.083387e-06</td>\n",
       "      <td>0.000009</td>\n",
       "      <td>...</td>\n",
       "      <td>0.000202</td>\n",
       "      <td>0.000004</td>\n",
       "      <td>0.022150</td>\n",
       "      <td>0.015202</td>\n",
       "      <td>0.002737</td>\n",
       "      <td>0.000948</td>\n",
       "      <td>1.970723e-06</td>\n",
       "      <td>0.000045</td>\n",
       "      <td>1.297913e-08</td>\n",
       "      <td>6.729967e-07</td>\n",
       "    </tr>\n",
       "  </tbody>\n",
       "</table>\n",
       "<p>3 rows × 149 columns</p>\n",
       "</div>"
      ],
      "text/plain": [
       "                               Abra    Aerodactyl  Alakazam         Arbok  \\\n",
       "test/eevee/eevee.jpg       0.000049  3.948901e-07  0.000009  2.252606e-07   \n",
       "test/pikachu/pikachu1.jpg  0.016226  5.829396e-06  0.000069  2.880424e-07   \n",
       "test/pikachu/pikachu2.jpg  0.003975  1.735465e-07  0.000030  1.674762e-06   \n",
       "\n",
       "                           Arcanine  Articuno      Beedrill    Bellsprout  \\\n",
       "test/eevee/eevee.jpg       0.000061  0.000004  1.094063e-07  1.623979e-05   \n",
       "test/pikachu/pikachu1.jpg  0.002175  0.000030  3.379369e-08  2.009317e-05   \n",
       "test/pikachu/pikachu2.jpg  0.000205  0.000003  2.355118e-08  5.444100e-07   \n",
       "\n",
       "                              Blastoise  Bulbasaur  ...  Vileplume   Voltorb  \\\n",
       "test/eevee/eevee.jpg       1.443254e-05   0.000027  ...   0.000820  0.000010   \n",
       "test/pikachu/pikachu1.jpg  8.779124e-07   0.000018  ...   0.000022  0.000022   \n",
       "test/pikachu/pikachu2.jpg  6.083387e-06   0.000009  ...   0.000202  0.000004   \n",
       "\n",
       "                             Vulpix  Wartortle    Weedle  Weepinbell  \\\n",
       "test/eevee/eevee.jpg       0.009999   0.005016  0.000188    0.000774   \n",
       "test/pikachu/pikachu1.jpg  0.260320   0.006336  0.005100    0.005249   \n",
       "test/pikachu/pikachu2.jpg  0.022150   0.015202  0.002737    0.000948   \n",
       "\n",
       "                                Weezing  Wigglytuff        Zapdos  \\\n",
       "test/eevee/eevee.jpg       1.173741e-07    0.000446  3.778934e-08   \n",
       "test/pikachu/pikachu1.jpg  6.835066e-06    0.000048  3.818425e-07   \n",
       "test/pikachu/pikachu2.jpg  1.970723e-06    0.000045  1.297913e-08   \n",
       "\n",
       "                                  Zubat  \n",
       "test/eevee/eevee.jpg       5.406331e-06  \n",
       "test/pikachu/pikachu1.jpg  8.024666e-06  \n",
       "test/pikachu/pikachu2.jpg  6.729967e-07  \n",
       "\n",
       "[3 rows x 149 columns]"
      ]
     },
     "execution_count": 31,
     "metadata": {},
     "output_type": "execute_result"
    }
   ],
   "source": [
    "predictions = probability_model.predict(test_dataset)\n",
    "df = pd.DataFrame(predictions, columns=class_names, index=test_dataset.file_paths)\n",
    "df"
   ]
  },
  {
   "cell_type": "code",
   "execution_count": 34,
   "id": "ac1bb631-f13f-48ae-8554-e3ec4d43b751",
   "metadata": {},
   "outputs": [],
   "source": [
    "df['Max'] = df.idxmax(axis=1)"
   ]
  },
  {
   "cell_type": "code",
   "execution_count": 35,
   "id": "78b9d26f-04db-40bb-9ee9-dfa848bb6b3b",
   "metadata": {},
   "outputs": [
    {
     "data": {
      "text/html": [
       "<div>\n",
       "<style scoped>\n",
       "    .dataframe tbody tr th:only-of-type {\n",
       "        vertical-align: middle;\n",
       "    }\n",
       "\n",
       "    .dataframe tbody tr th {\n",
       "        vertical-align: top;\n",
       "    }\n",
       "\n",
       "    .dataframe thead th {\n",
       "        text-align: right;\n",
       "    }\n",
       "</style>\n",
       "<table border=\"1\" class=\"dataframe\">\n",
       "  <thead>\n",
       "    <tr style=\"text-align: right;\">\n",
       "      <th></th>\n",
       "      <th>Abra</th>\n",
       "      <th>Aerodactyl</th>\n",
       "      <th>Alakazam</th>\n",
       "      <th>Arbok</th>\n",
       "      <th>Arcanine</th>\n",
       "      <th>Articuno</th>\n",
       "      <th>Beedrill</th>\n",
       "      <th>Bellsprout</th>\n",
       "      <th>Blastoise</th>\n",
       "      <th>Bulbasaur</th>\n",
       "      <th>...</th>\n",
       "      <th>Voltorb</th>\n",
       "      <th>Vulpix</th>\n",
       "      <th>Wartortle</th>\n",
       "      <th>Weedle</th>\n",
       "      <th>Weepinbell</th>\n",
       "      <th>Weezing</th>\n",
       "      <th>Wigglytuff</th>\n",
       "      <th>Zapdos</th>\n",
       "      <th>Zubat</th>\n",
       "      <th>Max</th>\n",
       "    </tr>\n",
       "  </thead>\n",
       "  <tbody>\n",
       "    <tr>\n",
       "      <th>test/eevee/eevee.jpg</th>\n",
       "      <td>0.000049</td>\n",
       "      <td>3.948901e-07</td>\n",
       "      <td>0.000009</td>\n",
       "      <td>2.252606e-07</td>\n",
       "      <td>0.000061</td>\n",
       "      <td>0.000004</td>\n",
       "      <td>1.094063e-07</td>\n",
       "      <td>1.623979e-05</td>\n",
       "      <td>1.443254e-05</td>\n",
       "      <td>0.000027</td>\n",
       "      <td>...</td>\n",
       "      <td>0.000010</td>\n",
       "      <td>0.009999</td>\n",
       "      <td>0.005016</td>\n",
       "      <td>0.000188</td>\n",
       "      <td>0.000774</td>\n",
       "      <td>1.173741e-07</td>\n",
       "      <td>0.000446</td>\n",
       "      <td>3.778934e-08</td>\n",
       "      <td>5.406331e-06</td>\n",
       "      <td>Drowzee</td>\n",
       "    </tr>\n",
       "    <tr>\n",
       "      <th>test/pikachu/pikachu1.jpg</th>\n",
       "      <td>0.016226</td>\n",
       "      <td>5.829396e-06</td>\n",
       "      <td>0.000069</td>\n",
       "      <td>2.880424e-07</td>\n",
       "      <td>0.002175</td>\n",
       "      <td>0.000030</td>\n",
       "      <td>3.379369e-08</td>\n",
       "      <td>2.009317e-05</td>\n",
       "      <td>8.779124e-07</td>\n",
       "      <td>0.000018</td>\n",
       "      <td>...</td>\n",
       "      <td>0.000022</td>\n",
       "      <td>0.260320</td>\n",
       "      <td>0.006336</td>\n",
       "      <td>0.005100</td>\n",
       "      <td>0.005249</td>\n",
       "      <td>6.835066e-06</td>\n",
       "      <td>0.000048</td>\n",
       "      <td>3.818425e-07</td>\n",
       "      <td>8.024666e-06</td>\n",
       "      <td>Vulpix</td>\n",
       "    </tr>\n",
       "    <tr>\n",
       "      <th>test/pikachu/pikachu2.jpg</th>\n",
       "      <td>0.003975</td>\n",
       "      <td>1.735465e-07</td>\n",
       "      <td>0.000030</td>\n",
       "      <td>1.674762e-06</td>\n",
       "      <td>0.000205</td>\n",
       "      <td>0.000003</td>\n",
       "      <td>2.355118e-08</td>\n",
       "      <td>5.444100e-07</td>\n",
       "      <td>6.083387e-06</td>\n",
       "      <td>0.000009</td>\n",
       "      <td>...</td>\n",
       "      <td>0.000004</td>\n",
       "      <td>0.022150</td>\n",
       "      <td>0.015202</td>\n",
       "      <td>0.002737</td>\n",
       "      <td>0.000948</td>\n",
       "      <td>1.970723e-06</td>\n",
       "      <td>0.000045</td>\n",
       "      <td>1.297913e-08</td>\n",
       "      <td>6.729967e-07</td>\n",
       "      <td>Drowzee</td>\n",
       "    </tr>\n",
       "  </tbody>\n",
       "</table>\n",
       "<p>3 rows × 150 columns</p>\n",
       "</div>"
      ],
      "text/plain": [
       "                               Abra    Aerodactyl  Alakazam         Arbok  \\\n",
       "test/eevee/eevee.jpg       0.000049  3.948901e-07  0.000009  2.252606e-07   \n",
       "test/pikachu/pikachu1.jpg  0.016226  5.829396e-06  0.000069  2.880424e-07   \n",
       "test/pikachu/pikachu2.jpg  0.003975  1.735465e-07  0.000030  1.674762e-06   \n",
       "\n",
       "                           Arcanine  Articuno      Beedrill    Bellsprout  \\\n",
       "test/eevee/eevee.jpg       0.000061  0.000004  1.094063e-07  1.623979e-05   \n",
       "test/pikachu/pikachu1.jpg  0.002175  0.000030  3.379369e-08  2.009317e-05   \n",
       "test/pikachu/pikachu2.jpg  0.000205  0.000003  2.355118e-08  5.444100e-07   \n",
       "\n",
       "                              Blastoise  Bulbasaur  ...   Voltorb    Vulpix  \\\n",
       "test/eevee/eevee.jpg       1.443254e-05   0.000027  ...  0.000010  0.009999   \n",
       "test/pikachu/pikachu1.jpg  8.779124e-07   0.000018  ...  0.000022  0.260320   \n",
       "test/pikachu/pikachu2.jpg  6.083387e-06   0.000009  ...  0.000004  0.022150   \n",
       "\n",
       "                           Wartortle    Weedle  Weepinbell       Weezing  \\\n",
       "test/eevee/eevee.jpg        0.005016  0.000188    0.000774  1.173741e-07   \n",
       "test/pikachu/pikachu1.jpg   0.006336  0.005100    0.005249  6.835066e-06   \n",
       "test/pikachu/pikachu2.jpg   0.015202  0.002737    0.000948  1.970723e-06   \n",
       "\n",
       "                           Wigglytuff        Zapdos         Zubat      Max  \n",
       "test/eevee/eevee.jpg         0.000446  3.778934e-08  5.406331e-06  Drowzee  \n",
       "test/pikachu/pikachu1.jpg    0.000048  3.818425e-07  8.024666e-06   Vulpix  \n",
       "test/pikachu/pikachu2.jpg    0.000045  1.297913e-08  6.729967e-07  Drowzee  \n",
       "\n",
       "[3 rows x 150 columns]"
      ]
     },
     "execution_count": 35,
     "metadata": {},
     "output_type": "execute_result"
    }
   ],
   "source": [
    "df"
   ]
  },
  {
   "cell_type": "markdown",
   "id": "267c730c-b648-4530-970f-8549f7ed4f1a",
   "metadata": {},
   "source": [
    "Unfortunately it got all those wrong! "
   ]
  },
  {
   "cell_type": "code",
   "execution_count": 38,
   "id": "30c383d8-1654-4fc8-b4de-401b1b824ac3",
   "metadata": {},
   "outputs": [
    {
     "data": {
      "text/plain": [
       "test/eevee/eevee.jpg         0.030491\n",
       "test/pikachu/pikachu1.jpg    0.002575\n",
       "test/pikachu/pikachu2.jpg    0.017059\n",
       "Name: Eevee, dtype: float32"
      ]
     },
     "execution_count": 38,
     "metadata": {},
     "output_type": "execute_result"
    }
   ],
   "source": [
    "df['Eevee']"
   ]
  },
  {
   "cell_type": "markdown",
   "id": "ee108931-d97d-4f68-811e-666af4e2665f",
   "metadata": {},
   "source": [
    "Not the result we wanted. Let's look at individual files"
   ]
  },
  {
   "cell_type": "markdown",
   "id": "bed0e6f9-80de-43f1-a3be-3e5c2b96c5bf",
   "metadata": {},
   "source": [
    "I don't want the scientific notation"
   ]
  },
  {
   "cell_type": "code",
   "execution_count": 23,
   "id": "815531d2-b0ae-423f-af9c-ed94cff49535",
   "metadata": {},
   "outputs": [],
   "source": [
    "np.set_printoptions(suppress=True)"
   ]
  },
  {
   "cell_type": "code",
   "execution_count": 40,
   "id": "10c36d78-a1a8-43bb-abb9-a35f8703f9f5",
   "metadata": {},
   "outputs": [],
   "source": [
    "from PIL import Image"
   ]
  },
  {
   "cell_type": "code",
   "execution_count": 41,
   "id": "c2b87ad3-c565-4f73-8f50-ac8e94c1cdad",
   "metadata": {},
   "outputs": [],
   "source": [
    "import numpy as np"
   ]
  },
  {
   "cell_type": "code",
   "execution_count": 42,
   "id": "f5b90ba4-5c94-44c5-8372-8f840908d585",
   "metadata": {},
   "outputs": [],
   "source": [
    "pikachu_image = np.array(Image.open(\"pikachu1.jpg\").resize((IMG_SIZE[0],IMG_SIZE[1])))"
   ]
  },
  {
   "cell_type": "code",
   "execution_count": 43,
   "id": "602b76f3-cb34-4315-b22c-b9d1fae16f9b",
   "metadata": {},
   "outputs": [],
   "source": [
    "pikachu_image = pikachu_image.reshape(1,IMG_SIZE[0],IMG_SIZE[1],3)"
   ]
  },
  {
   "cell_type": "code",
   "execution_count": 46,
   "id": "19016c5b-7aa9-4ab3-a7b4-9fb8d5d70ed1",
   "metadata": {},
   "outputs": [
    {
     "name": "stdout",
     "output_type": "stream",
     "text": [
      "\u001b[1m1/1\u001b[0m \u001b[32m━━━━━━━━━━━━━━━━━━━━\u001b[0m\u001b[37m\u001b[0m \u001b[1m1s\u001b[0m 510ms/step\n"
     ]
    }
   ],
   "source": [
    "ans = probability_model.predict(pikachu_image)"
   ]
  },
  {
   "cell_type": "code",
   "execution_count": 50,
   "id": "3c2b086b-374f-4445-a1b7-736909c58b6e",
   "metadata": {},
   "outputs": [
    {
     "data": {
      "text/plain": [
       "0    Vulpix\n",
       "dtype: object"
      ]
     },
     "execution_count": 50,
     "metadata": {},
     "output_type": "execute_result"
    }
   ],
   "source": [
    "pd.DataFrame(ans, columns=class_names).idxmax(axis=1)"
   ]
  },
  {
   "cell_type": "code",
   "execution_count": null,
   "id": "87eab265-7c3e-493d-9f06-262bebdfcffa",
   "metadata": {},
   "outputs": [],
   "source": []
  },
  {
   "cell_type": "code",
   "execution_count": 51,
   "id": "69fab0b6-9f3a-452f-bda3-3a9c4e3e680d",
   "metadata": {},
   "outputs": [
    {
     "data": {
      "image/jpeg": "[encoded data removed]",
      "image/png": "[encoded data removed]",
      "text/plain": [
       "<PIL.Image.Image image mode=RGB size=299x299>"
      ]
     },
     "execution_count": 51,
     "metadata": {},
     "output_type": "execute_result"
    }
   ],
   "source": [
    "Image.open(\"pikachu2.jpg\").resize((IMG_SIZE[0],IMG_SIZE[1]))"
   ]
  },
  {
   "cell_type": "code",
   "execution_count": 52,
   "id": "cfb31ce4-2d69-44e6-bb73-7edd52ac8213",
   "metadata": {},
   "outputs": [],
   "source": [
    "pikachu_image = np.array(Image.open(\"pikachu2.jpg\").resize((IMG_SIZE[0],IMG_SIZE[1])))\n",
    "pikachu_image = pikachu_image.reshape(1,IMG_SIZE[0],IMG_SIZE[1],3)"
   ]
  },
  {
   "cell_type": "code",
   "execution_count": 53,
   "id": "4041ecbc-e530-4ee7-8ba2-d737a8f663ab",
   "metadata": {},
   "outputs": [
    {
     "name": "stdout",
     "output_type": "stream",
     "text": [
      "\u001b[1m1/1\u001b[0m \u001b[32m━━━━━━━━━━━━━━━━━━━━\u001b[0m\u001b[37m\u001b[0m \u001b[1m0s\u001b[0m 20ms/step\n"
     ]
    },
    {
     "data": {
      "text/plain": [
       "0    Drowzee\n",
       "dtype: object"
      ]
     },
     "execution_count": 53,
     "metadata": {},
     "output_type": "execute_result"
    }
   ],
   "source": [
    "ans = probability_model.predict(pikachu_image)\n",
    "pd.DataFrame(ans, columns=class_names).idxmax(axis=1)"
   ]
  },
  {
   "cell_type": "code",
   "execution_count": 55,
   "id": "664425e5-f94f-4076-b5ee-a0b8c56d0d6e",
   "metadata": {},
   "outputs": [],
   "source": [
    "eevee_image = np.array(Image.open(\"eevee.jpg\").resize((IMG_SIZE[0],IMG_SIZE[1])))\n",
    "eevee_image = eevee_image.reshape(1,IMG_SIZE[0],IMG_SIZE[1],3)"
   ]
  },
  {
   "cell_type": "code",
   "execution_count": 56,
   "id": "214146af-a4c9-4da0-b020-ada2a77e7b19",
   "metadata": {},
   "outputs": [
    {
     "name": "stdout",
     "output_type": "stream",
     "text": [
      "\u001b[1m1/1\u001b[0m \u001b[32m━━━━━━━━━━━━━━━━━━━━\u001b[0m\u001b[37m\u001b[0m \u001b[1m0s\u001b[0m 31ms/step\n"
     ]
    },
    {
     "data": {
      "text/plain": [
       "0    Dragonite\n",
       "dtype: object"
      ]
     },
     "execution_count": 56,
     "metadata": {},
     "output_type": "execute_result"
    }
   ],
   "source": [
    "ans = probability_model.predict(eevee_image)\n",
    "pd.DataFrame(ans, columns=class_names).idxmax(axis=1)"
   ]
  },
  {
   "cell_type": "code",
   "execution_count": 57,
   "id": "f687c64b-39ea-4256-a875-a72b248e835e",
   "metadata": {},
   "outputs": [],
   "source": [
    "mimikyu_image = np.array(Image.open(\"mimikyu.jpg\").resize((IMG_SIZE[0],IMG_SIZE[1])))\n",
    "mimikyu_image = mimikyu_image.reshape(1,IMG_SIZE[0],IMG_SIZE[1],3)"
   ]
  },
  {
   "cell_type": "code",
   "execution_count": 60,
   "id": "aa9b05e2-2fd6-4075-bbd5-ec234e9cad4e",
   "metadata": {},
   "outputs": [
    {
     "name": "stdout",
     "output_type": "stream",
     "text": [
      "\u001b[1m1/1\u001b[0m \u001b[32m━━━━━━━━━━━━━━━━━━━━\u001b[0m\u001b[37m\u001b[0m \u001b[1m0s\u001b[0m 46ms/step\n"
     ]
    },
    {
     "data": {
      "text/plain": [
       "0    Drowzee\n",
       "dtype: object"
      ]
     },
     "execution_count": 60,
     "metadata": {},
     "output_type": "execute_result"
    }
   ],
   "source": [
    "ans = probability_model.predict(mimikyu_image)\n",
    "pd.DataFrame(ans, columns=class_names).idxmax(axis=1)"
   ]
  },
  {
   "cell_type": "code",
   "execution_count": 61,
   "id": "0ec74572-6be4-4cf3-918e-8eec5d97f2f2",
   "metadata": {},
   "outputs": [],
   "source": [
    "bulba_image = np.array(Image.open(\"bulbasaur.jpg\").resize((IMG_SIZE[0],IMG_SIZE[1])))\n",
    "bulba_image = bulba_image.reshape(1,IMG_SIZE[0],IMG_SIZE[1],3)"
   ]
  },
  {
   "cell_type": "code",
   "execution_count": 62,
   "id": "18cf2f9f-ff08-473a-9cfe-eb9601068b88",
   "metadata": {},
   "outputs": [
    {
     "name": "stdout",
     "output_type": "stream",
     "text": [
      "\u001b[1m1/1\u001b[0m \u001b[32m━━━━━━━━━━━━━━━━━━━━\u001b[0m\u001b[37m\u001b[0m \u001b[1m0s\u001b[0m 35ms/step\n"
     ]
    },
    {
     "data": {
      "text/plain": [
       "0    Bulbasaur\n",
       "dtype: object"
      ]
     },
     "execution_count": 62,
     "metadata": {},
     "output_type": "execute_result"
    }
   ],
   "source": [
    "ans = probability_model.predict(bulba_image)\n",
    "pd.DataFrame(ans, columns=class_names).idxmax(axis=1)"
   ]
  },
  {
   "cell_type": "markdown",
   "id": "b03511b5-5e04-4da4-b294-b6a1701452ed",
   "metadata": {},
   "source": [
    "## It got one of them right!! "
   ]
  },
  {
   "cell_type": "code",
   "execution_count": 66,
   "id": "34a6dfaa-4c4c-4d84-90fb-a8b68b908407",
   "metadata": {},
   "outputs": [],
   "source": [
    "import glob as glob"
   ]
  },
  {
   "cell_type": "code",
   "execution_count": 67,
   "id": "19fa8ed9-df82-4019-bb97-d1f8531d0877",
   "metadata": {},
   "outputs": [],
   "source": [
    "filelist = glob.glob(\"evalimages/*.jpg\")"
   ]
  },
  {
   "cell_type": "code",
   "execution_count": 68,
   "id": "1557f037-4201-4025-826a-a3a9d70bef9f",
   "metadata": {},
   "outputs": [
    {
     "data": {
      "text/plain": [
       "['evalimages/charmander.jpg',\n",
       " 'evalimages/vulpix.jpg',\n",
       " 'evalimages/mimikyu.jpg',\n",
       " 'evalimages/mew.jpg',\n",
       " 'evalimages/eevee.jpg',\n",
       " 'evalimages/bulbasaur.jpg',\n",
       " 'evalimages/charizard.jpg',\n",
       " 'evalimages/pikachu2.jpg',\n",
       " 'evalimages/pikachu1.jpg',\n",
       " 'evalimages/jigglypuff.jpg']"
      ]
     },
     "execution_count": 68,
     "metadata": {},
     "output_type": "execute_result"
    }
   ],
   "source": [
    "filelist"
   ]
  },
  {
   "cell_type": "code",
   "execution_count": 69,
   "id": "972b614e-a415-4484-89ea-3992bfcf1a94",
   "metadata": {},
   "outputs": [],
   "source": [
    "test_images = np.array([np.array(Image.open(fname).resize((IMG_SIZE[0],IMG_SIZE[1]))) for fname in filelist])"
   ]
  },
  {
   "cell_type": "code",
   "execution_count": 73,
   "id": "bea0a4f3-d688-41af-aab6-ae75aa6bb2f8",
   "metadata": {},
   "outputs": [
    {
     "name": "stdout",
     "output_type": "stream",
     "text": [
      "\u001b[1m1/1\u001b[0m \u001b[32m━━━━━━━━━━━━━━━━━━━━\u001b[0m\u001b[37m\u001b[0m \u001b[1m1s\u001b[0m 535ms/step\n"
     ]
    }
   ],
   "source": [
    "ans = probability_model.predict(test_images)"
   ]
  },
  {
   "cell_type": "code",
   "execution_count": 75,
   "id": "dbdaa6a8-7a9d-410c-9b9d-218f19dd89f3",
   "metadata": {},
   "outputs": [],
   "source": [
    "df = pd.DataFrame(ans, columns=class_names, index=filelist)"
   ]
  },
  {
   "cell_type": "code",
   "execution_count": 76,
   "id": "d14e1320-0e61-447c-aa41-72b9f0848336",
   "metadata": {},
   "outputs": [],
   "source": [
    "df['Max'] = df.idxmax(axis=1)"
   ]
  },
  {
   "cell_type": "code",
   "execution_count": 77,
   "id": "fd4a15c8-3cca-4937-b4df-fcc2cdc05350",
   "metadata": {},
   "outputs": [
    {
     "data": {
      "text/plain": [
       "evalimages/charmander.jpg    Kangaskhan\n",
       "evalimages/vulpix.jpg            Machop\n",
       "evalimages/mimikyu.jpg          Pikachu\n",
       "evalimages/mew.jpg            Dragonite\n",
       "evalimages/eevee.jpg          Dragonite\n",
       "evalimages/bulbasaur.jpg      Bulbasaur\n",
       "evalimages/charizard.jpg        Drowzee\n",
       "evalimages/pikachu2.jpg         Drowzee\n",
       "evalimages/pikachu1.jpg          Vulpix\n",
       "evalimages/jigglypuff.jpg    Jigglypuff\n",
       "Name: Max, dtype: object"
      ]
     },
     "execution_count": 77,
     "metadata": {},
     "output_type": "execute_result"
    }
   ],
   "source": [
    "df['Max']"
   ]
  },
  {
   "cell_type": "markdown",
   "id": "6cf29bfa-11d9-4d0d-810e-6e582cb059b3",
   "metadata": {},
   "source": [
    "It got Bulbasaur and Jigglypuff right. Not a brilliant result, guess it doesn't like those toys - maybe the background messed things up anyway. You should see a lot of options that could be implemented\n",
    "\n",
    "It also predicted Mimikyu to be Pikachu. Mimikyu will be so happy with that result"
   ]
  },
  {
   "cell_type": "code",
   "execution_count": 79,
   "id": "6d830812-4a01-406a-b05b-b42917aa8a5a",
   "metadata": {},
   "outputs": [],
   "source": [
    "import matplotlib.pyplot as plt"
   ]
  },
  {
   "cell_type": "code",
   "execution_count": 80,
   "id": "70a58b11-f29b-4b4c-be5e-8e13783acbef",
   "metadata": {},
   "outputs": [
    {
     "data": {
      "image/png": "[encoded data removed]",
      "text/plain": [
       "<Figure size 640x480 with 1 Axes>"
      ]
     },
     "metadata": {},
     "output_type": "display_data"
    }
   ],
   "source": [
    "plt.imshow(test_images[2])\n",
    "plt.show()"
   ]
  },
  {
   "cell_type": "code",
   "execution_count": null,
   "id": "1a0614fe-0c46-4b00-8cce-0833e35275d0",
   "metadata": {},
   "outputs": [],
   "source": []
  }
 ],
 "metadata": {
  "kernelspec": {
   "display_name": "Python 3 (ipykernel)",
   "language": "python",
   "name": "python3"
  },
  "language_info": {
   "codemirror_mode": {
    "name": "ipython",
    "version": 3
   },
   "file_extension": ".py",
   "mimetype": "text/x-python",
   "name": "python",
   "nbconvert_exporter": "python",
   "pygments_lexer": "ipython3",
   "version": "3.9.19"
  }
 },
 "nbformat": 4,
 "nbformat_minor": 5
}
