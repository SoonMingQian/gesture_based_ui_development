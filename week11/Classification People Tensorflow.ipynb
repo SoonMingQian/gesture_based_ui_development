{
 "cells": [
  {
   "cell_type": "markdown",
   "id": "6730848e-ddff-4295-9535-8c1b7cd7d08a",
   "metadata": {},
   "source": [
    "# Face Recognition\n",
    "\n",
    "In a previous lab we used SVM and PCA to build a face recognition model for some famous faces. Let's do it using an artificial neural network and see how it performs.\n",
    "\n",
    "One caveat, since these are images, we should be using a convolutional neural network but I won't talk about those until after Easter. I think the ANN might do ok"
   ]
  },
  {
   "cell_type": "code",
   "execution_count": 1,
   "id": "dd296333-b002-4418-825e-9acda36e156e",
   "metadata": {},
   "outputs": [],
   "source": [
    "import pandas as pd\n",
    "import numpy as np\n",
    "import matplotlib.pyplot as plt\n",
    "from sklearn.datasets import fetch_lfw_people\n",
    "from sklearn.model_selection import train_test_split"
   ]
  },
  {
   "cell_type": "code",
   "execution_count": 2,
   "id": "b0c17ccd-3288-4464-b13b-7b49e0b3999f",
   "metadata": {},
   "outputs": [],
   "source": [
    "faces = fetch_lfw_people(min_faces_per_person=60, resize=1)"
   ]
  },
  {
   "cell_type": "markdown",
   "id": "9bebac01-633d-4bee-8cb8-1a3bd8d1c163",
   "metadata": {},
   "source": [
    "I'm deliberately picking faces.images over faces.data here due to the shape"
   ]
  },
  {
   "cell_type": "code",
   "execution_count": 3,
   "id": "416d04ff-da77-4609-80a4-6ccc9700eefd",
   "metadata": {},
   "outputs": [],
   "source": [
    "X = faces.images\n",
    "y = faces.target"
   ]
  },
  {
   "cell_type": "code",
   "execution_count": 4,
   "id": "06911bd9-8d70-4857-b612-d47a42845948",
   "metadata": {},
   "outputs": [
    {
     "data": {
      "text/plain": [
       "array([[0.5254902 , 0.5176471 , 0.5058824 , ..., 0.25882354, 0.25882354,\n",
       "        0.25490198],\n",
       "       [0.5385621 , 0.5424837 , 0.54901963, ..., 0.2653595 , 0.26143792,\n",
       "        0.25882354],\n",
       "       [0.5542484 , 0.5660131 , 0.5660131 , ..., 0.2627451 , 0.26143792,\n",
       "        0.2640523 ],\n",
       "       ...,\n",
       "       [0.25620916, 0.52679735, 0.71895427, ..., 0.00653595, 0.00653595,\n",
       "        0.        ],\n",
       "       [0.19738562, 0.44183007, 0.6640523 , ..., 0.00653595, 0.00261438,\n",
       "        0.        ],\n",
       "       [0.1267974 , 0.34640524, 0.56993467, ..., 0.00653595, 0.00261438,\n",
       "        0.        ]], dtype=float32)"
      ]
     },
     "execution_count": 4,
     "metadata": {},
     "output_type": "execute_result"
    }
   ],
   "source": [
    "X[0]"
   ]
  },
  {
   "cell_type": "markdown",
   "id": "0e043f4a-67dc-4bf6-b1cc-cfd6ed18edeb",
   "metadata": {},
   "source": [
    "All values are between 0 and 1 so greyscale. No need to do any /255 like we did in the digits dataset"
   ]
  },
  {
   "cell_type": "code",
   "execution_count": 5,
   "id": "64b86d00-64fd-4811-932d-0c327d2c6c36",
   "metadata": {},
   "outputs": [],
   "source": [
    "X_train, X_test, y_train, y_test = train_test_split(X,y, random_state=1138)"
   ]
  },
  {
   "cell_type": "code",
   "execution_count": 6,
   "id": "c2f321c2-e194-42b6-a7b0-37b671a657a3",
   "metadata": {},
   "outputs": [
    {
     "name": "stdout",
     "output_type": "stream",
     "text": [
      "WARNING:tensorflow:From C:\\Users\\dhurley\\AppData\\Local\\anaconda3\\Lib\\site-packages\\keras\\src\\losses.py:2976: The name tf.losses.sparse_softmax_cross_entropy is deprecated. Please use tf.compat.v1.losses.sparse_softmax_cross_entropy instead.\n",
      "\n"
     ]
    }
   ],
   "source": [
    "import tensorflow as tf"
   ]
  },
  {
   "cell_type": "markdown",
   "id": "4c24f974-75a6-4238-a6e7-d2534827c28e",
   "metadata": {},
   "source": [
    "Things to remember\n",
    "- If the training loss is too high (or training accuracy is too low) this means your model is underfit and you may need a more complicated model\n",
    "- If the validation loss is too high, while training loss is too low, your model is overfit. Maybe do less epochs, use early stopping, apply some form of regularisation\n",
    "- Stanford course does say \"don't use number of layers or units as a regularisation\", i.e. don't just make the model simpler because of overfitting, apply regularisation instead"
   ]
  },
  {
   "cell_type": "code",
   "execution_count": 7,
   "id": "522e0198-6351-4bfa-a121-6682cb914fc3",
   "metadata": {},
   "outputs": [],
   "source": [
    "numberofclasses = np.unique(y).size"
   ]
  },
  {
   "cell_type": "code",
   "execution_count": 8,
   "id": "b0450016-ae96-45cf-b985-3482ddc16b96",
   "metadata": {},
   "outputs": [
    {
     "name": "stdout",
     "output_type": "stream",
     "text": [
      "WARNING:tensorflow:From C:\\Users\\dhurley\\AppData\\Local\\anaconda3\\Lib\\site-packages\\keras\\src\\backend.py:873: The name tf.get_default_graph is deprecated. Please use tf.compat.v1.get_default_graph instead.\n",
      "\n"
     ]
    }
   ],
   "source": [
    "model = tf.keras.models.Sequential()"
   ]
  },
  {
   "cell_type": "markdown",
   "id": "df2eebeb-92ac-4bd1-93d0-795d83684ed2",
   "metadata": {},
   "source": [
    "To start with I'm going with 3 hidden layers, each with 100 units. I also need to flatten the input as well.\n",
    "\n",
    "The output layer needs as many units as the number of classes. "
   ]
  },
  {
   "cell_type": "code",
   "execution_count": 9,
   "id": "f67de937-a6eb-4ff9-aad3-2a10e716a3e3",
   "metadata": {},
   "outputs": [],
   "source": [
    "model.add(tf.keras.layers.Flatten())"
   ]
  },
  {
   "cell_type": "code",
   "execution_count": 10,
   "id": "b04acf8c-56a1-4812-9d67-1b6896513297",
   "metadata": {},
   "outputs": [],
   "source": [
    "model.add(tf.keras.layers.Dense(100,activation='relu'))"
   ]
  },
  {
   "cell_type": "code",
   "execution_count": 11,
   "id": "1db22f53-b979-449e-aa8a-ebdaad1fc24a",
   "metadata": {},
   "outputs": [],
   "source": [
    "model.add(tf.keras.layers.Dense(100,activation='relu'))"
   ]
  },
  {
   "cell_type": "code",
   "execution_count": 12,
   "id": "e624277e-3604-4344-aab7-3e352179319a",
   "metadata": {},
   "outputs": [],
   "source": [
    "model.add(tf.keras.layers.Dense(100,activation='relu'))"
   ]
  },
  {
   "cell_type": "code",
   "execution_count": 13,
   "id": "55fdf74f-459f-49dc-aa31-79ffd4cfb7c3",
   "metadata": {},
   "outputs": [],
   "source": [
    "model.add(tf.keras.layers.Dense(numberofclasses))"
   ]
  },
  {
   "cell_type": "code",
   "execution_count": 14,
   "id": "94f24f7d-0c7c-4c15-8508-43292501c2f0",
   "metadata": {},
   "outputs": [],
   "source": [
    "#model.summary() will not work as we have not defined the shape in flatten. But it will work after fit"
   ]
  },
  {
   "cell_type": "code",
   "execution_count": 15,
   "id": "d971d1b6-0fbf-4dea-a63d-b41c66115686",
   "metadata": {},
   "outputs": [],
   "source": [
    "model.compile(\n",
    "    optimizer=tf.keras.optimizers.Adam(0.001),\n",
    "    loss=tf.keras.losses.SparseCategoricalCrossentropy(from_logits=True),\n",
    "    metrics=['accuracy'],\n",
    ")"
   ]
  },
  {
   "cell_type": "code",
   "execution_count": 16,
   "id": "aae6911c-0acb-4caa-8ccf-d89408c8d75e",
   "metadata": {},
   "outputs": [
    {
     "name": "stdout",
     "output_type": "stream",
     "text": [
      "Epoch 1/100\n",
      "WARNING:tensorflow:From C:\\Users\\dhurley\\AppData\\Local\\anaconda3\\Lib\\site-packages\\keras\\src\\utils\\tf_utils.py:492: The name tf.ragged.RaggedTensorValue is deprecated. Please use tf.compat.v1.ragged.RaggedTensorValue instead.\n",
      "\n",
      "WARNING:tensorflow:From C:\\Users\\dhurley\\AppData\\Local\\anaconda3\\Lib\\site-packages\\keras\\src\\engine\\base_layer_utils.py:384: The name tf.executing_eagerly_outside_functions is deprecated. Please use tf.compat.v1.executing_eagerly_outside_functions instead.\n",
      "\n",
      "26/26 [==============================] - 2s 23ms/step - loss: 2.1153 - accuracy: 0.2970 - val_loss: 1.9859 - val_accuracy: 0.1970\n",
      "Epoch 2/100\n",
      "26/26 [==============================] - 0s 16ms/step - loss: 1.8344 - accuracy: 0.3936 - val_loss: 1.8355 - val_accuracy: 0.4335\n",
      "Epoch 3/100\n",
      "26/26 [==============================] - 0s 15ms/step - loss: 1.7727 - accuracy: 0.4158 - val_loss: 1.9361 - val_accuracy: 0.2020\n",
      "Epoch 4/100\n",
      "26/26 [==============================] - 0s 16ms/step - loss: 1.6395 - accuracy: 0.4233 - val_loss: 1.7020 - val_accuracy: 0.4433\n",
      "Epoch 5/100\n",
      "26/26 [==============================] - 0s 16ms/step - loss: 1.5617 - accuracy: 0.4851 - val_loss: 1.5965 - val_accuracy: 0.4335\n",
      "Epoch 6/100\n",
      "26/26 [==============================] - 0s 16ms/step - loss: 1.4540 - accuracy: 0.4988 - val_loss: 1.3821 - val_accuracy: 0.5123\n",
      "Epoch 7/100\n",
      "26/26 [==============================] - 0s 15ms/step - loss: 1.3050 - accuracy: 0.5594 - val_loss: 1.3780 - val_accuracy: 0.5369\n",
      "Epoch 8/100\n",
      "26/26 [==============================] - 0s 17ms/step - loss: 1.2944 - accuracy: 0.5532 - val_loss: 1.4797 - val_accuracy: 0.4778\n",
      "Epoch 9/100\n",
      "26/26 [==============================] - 0s 14ms/step - loss: 1.1226 - accuracy: 0.6188 - val_loss: 1.2413 - val_accuracy: 0.5567\n",
      "Epoch 10/100\n",
      "26/26 [==============================] - 0s 15ms/step - loss: 1.1446 - accuracy: 0.5767 - val_loss: 1.5101 - val_accuracy: 0.4926\n",
      "Epoch 11/100\n",
      "26/26 [==============================] - 0s 15ms/step - loss: 0.9727 - accuracy: 0.6720 - val_loss: 1.0059 - val_accuracy: 0.6256\n",
      "Epoch 12/100\n",
      "26/26 [==============================] - 0s 15ms/step - loss: 0.9798 - accuracy: 0.6597 - val_loss: 0.9988 - val_accuracy: 0.6552\n",
      "Epoch 13/100\n",
      "26/26 [==============================] - 0s 15ms/step - loss: 0.9569 - accuracy: 0.6572 - val_loss: 0.8865 - val_accuracy: 0.6847\n",
      "Epoch 14/100\n",
      "26/26 [==============================] - 0s 15ms/step - loss: 0.7355 - accuracy: 0.7525 - val_loss: 0.7643 - val_accuracy: 0.7438\n",
      "Epoch 15/100\n",
      "26/26 [==============================] - 0s 16ms/step - loss: 0.7205 - accuracy: 0.7611 - val_loss: 1.0633 - val_accuracy: 0.6207\n",
      "Epoch 16/100\n",
      "26/26 [==============================] - 0s 16ms/step - loss: 0.6463 - accuracy: 0.7834 - val_loss: 0.8150 - val_accuracy: 0.7340\n",
      "Epoch 17/100\n",
      "26/26 [==============================] - 0s 16ms/step - loss: 0.6966 - accuracy: 0.7438 - val_loss: 1.0671 - val_accuracy: 0.6502\n",
      "Epoch 18/100\n",
      "26/26 [==============================] - 0s 15ms/step - loss: 0.6396 - accuracy: 0.7748 - val_loss: 0.8017 - val_accuracy: 0.7488\n",
      "Epoch 19/100\n",
      "26/26 [==============================] - 0s 15ms/step - loss: 0.5723 - accuracy: 0.7958 - val_loss: 0.8286 - val_accuracy: 0.7488\n",
      "Epoch 20/100\n",
      "26/26 [==============================] - 0s 15ms/step - loss: 0.5038 - accuracy: 0.8230 - val_loss: 0.7108 - val_accuracy: 0.7537\n",
      "Epoch 21/100\n",
      "26/26 [==============================] - 0s 18ms/step - loss: 0.5331 - accuracy: 0.8280 - val_loss: 0.6575 - val_accuracy: 0.8030\n",
      "Epoch 22/100\n",
      "26/26 [==============================] - 0s 15ms/step - loss: 0.3930 - accuracy: 0.8874 - val_loss: 0.8514 - val_accuracy: 0.7044\n",
      "Epoch 23/100\n",
      "26/26 [==============================] - 0s 16ms/step - loss: 0.4093 - accuracy: 0.8626 - val_loss: 0.8185 - val_accuracy: 0.7340\n",
      "Epoch 24/100\n",
      "26/26 [==============================] - 0s 16ms/step - loss: 0.4774 - accuracy: 0.8218 - val_loss: 0.8423 - val_accuracy: 0.7143\n",
      "Epoch 25/100\n",
      "26/26 [==============================] - 0s 16ms/step - loss: 0.5516 - accuracy: 0.8119 - val_loss: 0.7002 - val_accuracy: 0.7931\n",
      "Epoch 26/100\n",
      "26/26 [==============================] - 0s 15ms/step - loss: 0.3702 - accuracy: 0.8676 - val_loss: 0.6028 - val_accuracy: 0.8325\n",
      "Epoch 27/100\n",
      "26/26 [==============================] - 0s 15ms/step - loss: 0.5369 - accuracy: 0.8255 - val_loss: 0.9936 - val_accuracy: 0.6798\n",
      "Epoch 28/100\n",
      "26/26 [==============================] - 0s 17ms/step - loss: 0.5161 - accuracy: 0.8329 - val_loss: 0.7590 - val_accuracy: 0.7438\n",
      "Epoch 29/100\n",
      "26/26 [==============================] - 0s 17ms/step - loss: 0.3862 - accuracy: 0.8725 - val_loss: 0.5943 - val_accuracy: 0.8473\n",
      "Epoch 30/100\n",
      "26/26 [==============================] - 0s 15ms/step - loss: 0.3336 - accuracy: 0.8899 - val_loss: 0.9632 - val_accuracy: 0.6798\n",
      "Epoch 31/100\n",
      "26/26 [==============================] - 0s 15ms/step - loss: 0.3892 - accuracy: 0.8762 - val_loss: 0.7855 - val_accuracy: 0.7586\n",
      "Epoch 32/100\n",
      "26/26 [==============================] - 0s 17ms/step - loss: 0.4888 - accuracy: 0.8329 - val_loss: 0.7555 - val_accuracy: 0.7537\n",
      "Epoch 33/100\n",
      "26/26 [==============================] - 0s 17ms/step - loss: 0.4699 - accuracy: 0.8527 - val_loss: 0.8916 - val_accuracy: 0.7241\n",
      "Epoch 34/100\n",
      "26/26 [==============================] - 0s 17ms/step - loss: 0.4621 - accuracy: 0.8342 - val_loss: 0.6521 - val_accuracy: 0.7980\n",
      "Epoch 35/100\n",
      "26/26 [==============================] - 0s 17ms/step - loss: 0.3182 - accuracy: 0.8812 - val_loss: 0.5896 - val_accuracy: 0.8177\n",
      "Epoch 36/100\n",
      "26/26 [==============================] - 0s 16ms/step - loss: 0.2229 - accuracy: 0.9307 - val_loss: 0.6525 - val_accuracy: 0.7783\n",
      "Epoch 37/100\n",
      "26/26 [==============================] - 0s 17ms/step - loss: 0.3289 - accuracy: 0.8812 - val_loss: 0.7093 - val_accuracy: 0.7931\n",
      "Epoch 38/100\n",
      "26/26 [==============================] - 0s 16ms/step - loss: 0.2322 - accuracy: 0.9158 - val_loss: 0.7561 - val_accuracy: 0.7980\n",
      "Epoch 39/100\n",
      "26/26 [==============================] - 0s 19ms/step - loss: 0.1983 - accuracy: 0.9356 - val_loss: 0.7163 - val_accuracy: 0.8177\n",
      "Epoch 40/100\n",
      "26/26 [==============================] - 0s 17ms/step - loss: 0.2255 - accuracy: 0.9208 - val_loss: 1.2156 - val_accuracy: 0.6601\n",
      "Epoch 41/100\n",
      "26/26 [==============================] - 0s 18ms/step - loss: 0.3340 - accuracy: 0.8948 - val_loss: 0.9968 - val_accuracy: 0.7438\n",
      "Epoch 42/100\n",
      "26/26 [==============================] - 0s 17ms/step - loss: 0.3024 - accuracy: 0.8911 - val_loss: 0.7920 - val_accuracy: 0.7980\n",
      "Epoch 43/100\n",
      "26/26 [==============================] - 0s 17ms/step - loss: 0.2358 - accuracy: 0.9121 - val_loss: 0.8386 - val_accuracy: 0.7882\n",
      "Epoch 44/100\n",
      "26/26 [==============================] - 0s 16ms/step - loss: 0.2840 - accuracy: 0.8985 - val_loss: 0.7180 - val_accuracy: 0.7734\n",
      "Epoch 45/100\n",
      "26/26 [==============================] - 0s 19ms/step - loss: 0.2202 - accuracy: 0.9270 - val_loss: 0.8311 - val_accuracy: 0.7783\n",
      "Epoch 46/100\n",
      "26/26 [==============================] - 0s 17ms/step - loss: 0.2560 - accuracy: 0.9097 - val_loss: 1.6363 - val_accuracy: 0.6404\n",
      "Epoch 47/100\n",
      "26/26 [==============================] - 1s 23ms/step - loss: 0.4503 - accuracy: 0.8564 - val_loss: 0.6652 - val_accuracy: 0.7931\n",
      "Epoch 48/100\n",
      "26/26 [==============================] - 1s 22ms/step - loss: 0.1273 - accuracy: 0.9653 - val_loss: 0.6442 - val_accuracy: 0.8128\n",
      "Epoch 49/100\n",
      "26/26 [==============================] - 1s 22ms/step - loss: 0.1760 - accuracy: 0.9431 - val_loss: 1.3946 - val_accuracy: 0.7340\n",
      "Epoch 50/100\n",
      "26/26 [==============================] - 1s 25ms/step - loss: 0.2335 - accuracy: 0.9295 - val_loss: 1.2467 - val_accuracy: 0.6995\n",
      "Epoch 51/100\n",
      "26/26 [==============================] - 1s 24ms/step - loss: 0.2490 - accuracy: 0.9109 - val_loss: 0.8114 - val_accuracy: 0.7734\n",
      "Epoch 52/100\n",
      "26/26 [==============================] - 1s 22ms/step - loss: 0.2158 - accuracy: 0.9257 - val_loss: 0.9102 - val_accuracy: 0.7438\n",
      "Epoch 53/100\n",
      "26/26 [==============================] - 1s 22ms/step - loss: 0.4643 - accuracy: 0.8416 - val_loss: 0.9380 - val_accuracy: 0.7488\n",
      "Epoch 54/100\n",
      "26/26 [==============================] - 0s 18ms/step - loss: 0.2974 - accuracy: 0.8985 - val_loss: 0.9172 - val_accuracy: 0.7783\n",
      "Epoch 55/100\n",
      "26/26 [==============================] - 0s 17ms/step - loss: 0.2056 - accuracy: 0.9356 - val_loss: 0.8356 - val_accuracy: 0.7783\n",
      "Epoch 56/100\n",
      "26/26 [==============================] - 0s 16ms/step - loss: 0.1279 - accuracy: 0.9592 - val_loss: 0.7566 - val_accuracy: 0.8079\n",
      "Epoch 57/100\n",
      "26/26 [==============================] - 0s 17ms/step - loss: 0.0967 - accuracy: 0.9752 - val_loss: 0.7871 - val_accuracy: 0.8128\n",
      "Epoch 58/100\n",
      "26/26 [==============================] - 0s 16ms/step - loss: 0.1357 - accuracy: 0.9542 - val_loss: 0.7464 - val_accuracy: 0.8276\n",
      "Epoch 59/100\n",
      "26/26 [==============================] - 0s 16ms/step - loss: 0.1121 - accuracy: 0.9616 - val_loss: 0.9811 - val_accuracy: 0.7635\n",
      "Epoch 60/100\n",
      "26/26 [==============================] - 0s 15ms/step - loss: 0.2333 - accuracy: 0.9196 - val_loss: 1.3120 - val_accuracy: 0.6453\n",
      "Epoch 61/100\n",
      "26/26 [==============================] - 0s 16ms/step - loss: 0.4508 - accuracy: 0.8564 - val_loss: 0.9377 - val_accuracy: 0.7783\n",
      "Epoch 62/100\n",
      "26/26 [==============================] - 0s 16ms/step - loss: 0.2425 - accuracy: 0.9109 - val_loss: 1.3774 - val_accuracy: 0.6946\n",
      "Epoch 63/100\n",
      "26/26 [==============================] - 0s 16ms/step - loss: 0.5427 - accuracy: 0.8317 - val_loss: 1.4426 - val_accuracy: 0.6552\n",
      "Epoch 64/100\n",
      "26/26 [==============================] - 0s 18ms/step - loss: 0.2687 - accuracy: 0.9146 - val_loss: 0.8483 - val_accuracy: 0.7931\n",
      "Epoch 65/100\n",
      "26/26 [==============================] - 0s 17ms/step - loss: 0.1109 - accuracy: 0.9641 - val_loss: 0.9655 - val_accuracy: 0.7783\n",
      "Epoch 66/100\n",
      "26/26 [==============================] - 0s 17ms/step - loss: 0.1196 - accuracy: 0.9604 - val_loss: 0.7818 - val_accuracy: 0.8227\n",
      "Epoch 67/100\n",
      "26/26 [==============================] - 0s 17ms/step - loss: 0.1318 - accuracy: 0.9641 - val_loss: 1.1801 - val_accuracy: 0.7143\n",
      "Epoch 68/100\n",
      "26/26 [==============================] - 0s 16ms/step - loss: 0.1639 - accuracy: 0.9418 - val_loss: 0.9277 - val_accuracy: 0.7734\n",
      "Epoch 69/100\n",
      "26/26 [==============================] - 0s 16ms/step - loss: 0.1199 - accuracy: 0.9604 - val_loss: 1.3451 - val_accuracy: 0.7241\n",
      "Epoch 70/100\n",
      "26/26 [==============================] - 0s 15ms/step - loss: 0.3316 - accuracy: 0.8725 - val_loss: 0.9322 - val_accuracy: 0.8128\n",
      "Epoch 71/100\n",
      "26/26 [==============================] - 0s 16ms/step - loss: 0.1982 - accuracy: 0.9196 - val_loss: 0.7164 - val_accuracy: 0.8128\n",
      "Epoch 72/100\n",
      "26/26 [==============================] - 0s 15ms/step - loss: 0.1012 - accuracy: 0.9629 - val_loss: 1.1337 - val_accuracy: 0.7734\n",
      "Epoch 73/100\n",
      "26/26 [==============================] - 0s 17ms/step - loss: 0.3340 - accuracy: 0.8738 - val_loss: 0.7705 - val_accuracy: 0.8079\n",
      "Epoch 74/100\n",
      "26/26 [==============================] - 0s 15ms/step - loss: 0.0907 - accuracy: 0.9715 - val_loss: 0.7331 - val_accuracy: 0.8325\n",
      "Epoch 75/100\n",
      "26/26 [==============================] - 0s 15ms/step - loss: 0.0660 - accuracy: 0.9839 - val_loss: 0.7113 - val_accuracy: 0.8424\n",
      "Epoch 76/100\n",
      "26/26 [==============================] - 0s 16ms/step - loss: 0.0997 - accuracy: 0.9703 - val_loss: 0.6519 - val_accuracy: 0.8522\n",
      "Epoch 77/100\n",
      "26/26 [==============================] - 0s 15ms/step - loss: 0.0671 - accuracy: 0.9790 - val_loss: 0.7771 - val_accuracy: 0.8424\n",
      "Epoch 78/100\n",
      "26/26 [==============================] - 0s 14ms/step - loss: 0.0488 - accuracy: 0.9901 - val_loss: 0.6972 - val_accuracy: 0.8424\n",
      "Epoch 79/100\n",
      "26/26 [==============================] - 0s 16ms/step - loss: 0.0318 - accuracy: 0.9926 - val_loss: 0.7983 - val_accuracy: 0.8571\n",
      "Epoch 80/100\n",
      "26/26 [==============================] - 0s 15ms/step - loss: 0.0334 - accuracy: 0.9938 - val_loss: 0.7360 - val_accuracy: 0.8424\n",
      "Epoch 81/100\n",
      "26/26 [==============================] - 0s 16ms/step - loss: 0.0356 - accuracy: 0.9913 - val_loss: 0.9114 - val_accuracy: 0.8030\n",
      "Epoch 82/100\n",
      "26/26 [==============================] - 0s 15ms/step - loss: 0.0452 - accuracy: 0.9864 - val_loss: 0.9226 - val_accuracy: 0.8079\n",
      "Epoch 83/100\n",
      "26/26 [==============================] - 0s 15ms/step - loss: 0.0495 - accuracy: 0.9864 - val_loss: 0.9085 - val_accuracy: 0.8030\n",
      "Epoch 84/100\n",
      "26/26 [==============================] - 0s 15ms/step - loss: 0.0830 - accuracy: 0.9678 - val_loss: 0.8568 - val_accuracy: 0.8128\n",
      "Epoch 85/100\n",
      "26/26 [==============================] - 0s 15ms/step - loss: 0.0383 - accuracy: 0.9926 - val_loss: 0.8249 - val_accuracy: 0.8325\n",
      "Epoch 86/100\n",
      "26/26 [==============================] - 0s 16ms/step - loss: 0.0569 - accuracy: 0.9827 - val_loss: 1.0563 - val_accuracy: 0.7980\n",
      "Epoch 87/100\n",
      "26/26 [==============================] - 0s 16ms/step - loss: 0.0732 - accuracy: 0.9703 - val_loss: 0.9533 - val_accuracy: 0.7980\n",
      "Epoch 88/100\n",
      "26/26 [==============================] - 0s 15ms/step - loss: 0.2937 - accuracy: 0.9121 - val_loss: 0.9694 - val_accuracy: 0.8030\n",
      "Epoch 89/100\n",
      "26/26 [==============================] - 0s 14ms/step - loss: 0.2366 - accuracy: 0.9208 - val_loss: 1.0531 - val_accuracy: 0.7783\n",
      "Epoch 90/100\n",
      "26/26 [==============================] - 0s 17ms/step - loss: 0.1036 - accuracy: 0.9616 - val_loss: 1.3753 - val_accuracy: 0.7340\n",
      "Epoch 91/100\n",
      "26/26 [==============================] - 0s 16ms/step - loss: 0.1317 - accuracy: 0.9468 - val_loss: 0.8908 - val_accuracy: 0.8325\n",
      "Epoch 92/100\n",
      "26/26 [==============================] - 0s 16ms/step - loss: 0.0876 - accuracy: 0.9678 - val_loss: 1.0615 - val_accuracy: 0.7734\n",
      "Epoch 93/100\n",
      "26/26 [==============================] - 0s 15ms/step - loss: 0.3047 - accuracy: 0.9047 - val_loss: 1.0135 - val_accuracy: 0.7882\n",
      "Epoch 94/100\n",
      "26/26 [==============================] - 0s 16ms/step - loss: 0.1344 - accuracy: 0.9542 - val_loss: 0.9357 - val_accuracy: 0.8079\n",
      "Epoch 95/100\n",
      "26/26 [==============================] - 0s 15ms/step - loss: 0.1093 - accuracy: 0.9579 - val_loss: 0.8580 - val_accuracy: 0.8374\n",
      "Epoch 96/100\n",
      "26/26 [==============================] - 0s 15ms/step - loss: 0.1205 - accuracy: 0.9616 - val_loss: 0.8899 - val_accuracy: 0.8325\n",
      "Epoch 97/100\n",
      "26/26 [==============================] - 0s 16ms/step - loss: 0.0322 - accuracy: 0.9901 - val_loss: 0.8918 - val_accuracy: 0.8522\n",
      "Epoch 98/100\n",
      "26/26 [==============================] - 0s 16ms/step - loss: 0.0605 - accuracy: 0.9827 - val_loss: 0.8775 - val_accuracy: 0.8177\n",
      "Epoch 99/100\n",
      "26/26 [==============================] - 0s 18ms/step - loss: 0.1247 - accuracy: 0.9505 - val_loss: 0.9314 - val_accuracy: 0.8276\n",
      "Epoch 100/100\n",
      "26/26 [==============================] - 0s 15ms/step - loss: 0.0502 - accuracy: 0.9827 - val_loss: 0.8158 - val_accuracy: 0.8424\n"
     ]
    }
   ],
   "source": [
    "history = model.fit(X_train, y_train, epochs=100, validation_split=0.2)"
   ]
  },
  {
   "cell_type": "markdown",
   "id": "4ab267e7-8c22-4d10-a954-3c469e6df47c",
   "metadata": {},
   "source": [
    "Look at that training accuracy. 99%!\n",
    "\n",
    "Validation is only in the 80s so overfitting :("
   ]
  },
  {
   "cell_type": "code",
   "execution_count": 17,
   "id": "a9edd41b-44f2-491d-b40c-42b67d8d0b3c",
   "metadata": {},
   "outputs": [
    {
     "name": "stdout",
     "output_type": "stream",
     "text": [
      "Model: \"sequential\"\n",
      "_________________________________________________________________\n",
      " Layer (type)                Output Shape              Param #   \n",
      "=================================================================\n",
      " flatten (Flatten)           (None, 11750)             0         \n",
      "                                                                 \n",
      " dense (Dense)               (None, 100)               1175100   \n",
      "                                                                 \n",
      " dense_1 (Dense)             (None, 100)               10100     \n",
      "                                                                 \n",
      " dense_2 (Dense)             (None, 100)               10100     \n",
      "                                                                 \n",
      " dense_3 (Dense)             (None, 8)                 808       \n",
      "                                                                 \n",
      "=================================================================\n",
      "Total params: 1196108 (4.56 MB)\n",
      "Trainable params: 1196108 (4.56 MB)\n",
      "Non-trainable params: 0 (0.00 Byte)\n",
      "_________________________________________________________________\n"
     ]
    }
   ],
   "source": [
    "model.summary()"
   ]
  },
  {
   "cell_type": "code",
   "execution_count": 18,
   "id": "fc7fcf4d-a951-4502-ba77-ee02207d0873",
   "metadata": {},
   "outputs": [
    {
     "name": "stdout",
     "output_type": "stream",
     "text": [
      "11/11 [==============================] - 0s 3ms/step - loss: 0.8800 - accuracy: 0.8249\n"
     ]
    },
    {
     "data": {
      "text/plain": [
       "[0.8799757957458496, 0.8249258399009705]"
      ]
     },
     "execution_count": 18,
     "metadata": {},
     "output_type": "execute_result"
    }
   ],
   "source": [
    "model.evaluate(X_test, y_test)"
   ]
  },
  {
   "cell_type": "markdown",
   "id": "d237a3e4-5008-4aa1-9e4c-002e3efcd5dc",
   "metadata": {},
   "source": [
    "I got 82% accuracy which was around the same as SVM. But let's plot anyway"
   ]
  },
  {
   "cell_type": "code",
   "execution_count": 19,
   "id": "1e97859d-3e33-4c48-bf01-e26169f09b14",
   "metadata": {},
   "outputs": [],
   "source": [
    "def plot_loss(history, which='loss'):\n",
    "    plt.plot(history.history[which], label='train')\n",
    "    try:\n",
    "        plt.plot(history.history['val_'+which], label='validation')\n",
    "    except:\n",
    "        None\n",
    "    plt.xlabel('Epoch')\n",
    "    plt.ylabel(which)\n",
    "    plt.legend()\n",
    "    plt.grid(True)"
   ]
  },
  {
   "cell_type": "code",
   "execution_count": 20,
   "id": "bf085f46-04a8-4258-9944-e4a3c20c72a9",
   "metadata": {},
   "outputs": [
    {
     "data": {
      "image/png": "[encoded data removed]",
      "text/plain": [
       "<Figure size 640x480 with 1 Axes>"
      ]
     },
     "metadata": {},
     "output_type": "display_data"
    }
   ],
   "source": [
    "plot_loss(history)"
   ]
  },
  {
   "cell_type": "code",
   "execution_count": 21,
   "id": "f7eb79ec-215f-4aa2-820a-c1420eeddf22",
   "metadata": {},
   "outputs": [
    {
     "data": {
      "text/plain": [
       "(125, 94)"
      ]
     },
     "execution_count": 21,
     "metadata": {},
     "output_type": "execute_result"
    }
   ],
   "source": [
    "X_train[0].shape"
   ]
  },
  {
   "cell_type": "markdown",
   "id": "4d952834-a265-43af-8af7-e9ac20a1e8f6",
   "metadata": {},
   "source": [
    "Now it's your job to try out different networks.\n",
    "\n",
    "Do different number of layers and units, what were the rules of thumb of I talked about in class? Try those\n",
    "\n",
    "How about implementing some form of regularisation on the layers? Would this help?\n",
    "\n",
    "How about using early stopping so it doesn't go for so many epochs?\n",
    "\n",
    "Try different things and see if you can come up with a better network for this data\n",
    "\n",
    "What about CNN? I think that would improve this by a bit!"
   ]
  },
  {
   "cell_type": "code",
   "execution_count": null,
   "id": "daf45c2d-5c71-414b-b5ee-12fd2ff0f1a2",
   "metadata": {},
   "outputs": [],
   "source": []
  }
 ],
 "metadata": {
  "kernelspec": {
   "display_name": "Python 3 (ipykernel)",
   "language": "python",
   "name": "python3"
  },
  "language_info": {
   "codemirror_mode": {
    "name": "ipython",
    "version": 3
   },
   "file_extension": ".py",
   "mimetype": "text/x-python",
   "name": "python",
   "nbconvert_exporter": "python",
   "pygments_lexer": "ipython3",
   "version": "3.11.5"
  }
 },
 "nbformat": 4,
 "nbformat_minor": 5
}
